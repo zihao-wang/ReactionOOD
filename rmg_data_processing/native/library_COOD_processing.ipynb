{
 "cells": [
  {
   "cell_type": "code",
   "execution_count": 1,
   "id": "97e17da0",
   "metadata": {},
   "outputs": [],
   "source": [
    "from collections import defaultdict\n",
    "import pickle\n",
    "from dataclasses import dataclass\n",
    "from typing import List\n",
    "\n",
    "import numpy as np\n",
    "import pandas as pd\n",
    "import matplotlib.pyplot as plt\n",
    "from tqdm.notebook import tqdm\n",
    "\n",
    "from rmgpy.data.kinetics import KineticsDatabase\n",
    "from rmgpy.kinetics import (Arrhenius, ArrheniusBM, ArrheniusEP, Chebyshev,\n",
    "                            KineticsData, Lindemann, MultiArrhenius,\n",
    "                            MultiPDepArrhenius, PDepArrhenius,\n",
    "                            StickingCoefficient, StickingCoefficientBEP,\n",
    "                            SurfaceArrhenius, SurfaceArrheniusBEP, ThirdBody,\n",
    "                            Troe)\n",
    "from rmgpy.kinetics.model import KineticsModel\n",
    "from rmgpy.reaction import Reaction\n",
    "\n",
    "@dataclass\n",
    "class Reaction:\n",
    "    family_name: str\n",
    "    depo_label: str\n",
    "    indepo_index: int\n",
    "    reaction: Reaction\n",
    "    kinetics_property: KineticsModel\n",
    "    rank: int"
   ]
  },
  {
   "cell_type": "code",
   "execution_count": 2,
   "id": "84dae163-f0c5-45be-9132-c2f8a84ebbfc",
   "metadata": {},
   "outputs": [],
   "source": [
    "%matplotlib inline"
   ]
  },
  {
   "cell_type": "markdown",
   "id": "3117191d-6362-4b43-9963-78ec899dee2a",
   "metadata": {},
   "source": [
    "# Load from kinetic database"
   ]
  },
  {
   "cell_type": "code",
   "execution_count": 3,
   "id": "34d7749d-e502-478e-8518-5eaa0cf6ef77",
   "metadata": {},
   "outputs": [
    {
     "name": "stdout",
     "output_type": "stream",
     "text": [
      "loading rmg kinetic database ....\n"
     ]
    },
    {
     "name": "stderr",
     "output_type": "stream",
     "text": [
      "WARNING:root:Only Arrhenius and PDepArrhenius kinetics supported for duplicate reactions.\n",
      "WARNING:root:Only Arrhenius and PDepArrhenius kinetics supported for duplicate reactions.\n",
      "WARNING:root:Only Arrhenius and PDepArrhenius kinetics supported for duplicate reactions.\n",
      "WARNING:root:Only Arrhenius and PDepArrhenius kinetics supported for duplicate reactions.\n",
      "WARNING:root:Only Arrhenius and PDepArrhenius kinetics supported for duplicate reactions.\n",
      "WARNING:root:Only Arrhenius and PDepArrhenius kinetics supported for duplicate reactions.\n",
      "WARNING:root:Only Arrhenius and PDepArrhenius kinetics supported for duplicate reactions.\n",
      "WARNING:root:Only Arrhenius and PDepArrhenius kinetics supported for duplicate reactions.\n",
      "WARNING:root:Only Arrhenius and PDepArrhenius kinetics supported for duplicate reactions.\n",
      "WARNING:root:Only Arrhenius and PDepArrhenius kinetics supported for duplicate reactions.\n",
      "WARNING:root:Only Arrhenius and PDepArrhenius kinetics supported for duplicate reactions.\n",
      "WARNING:root:Only Arrhenius and PDepArrhenius kinetics supported for duplicate reactions.\n",
      "WARNING:root:Only Arrhenius and PDepArrhenius kinetics supported for duplicate reactions.\n",
      "WARNING:root:Only Arrhenius and PDepArrhenius kinetics supported for duplicate reactions.\n",
      "WARNING:root:Only Arrhenius and PDepArrhenius kinetics supported for duplicate reactions.\n",
      "WARNING:root:Only Arrhenius and PDepArrhenius kinetics supported for duplicate reactions.\n",
      "WARNING:root:Only Arrhenius and PDepArrhenius kinetics supported for duplicate reactions.\n",
      "WARNING:root:Only Arrhenius and PDepArrhenius kinetics supported for duplicate reactions.\n",
      "WARNING:root:Only Arrhenius and PDepArrhenius kinetics supported for duplicate reactions.\n",
      "WARNING:root:Only Arrhenius and PDepArrhenius kinetics supported for duplicate reactions.\n",
      "WARNING:root:Only Arrhenius and PDepArrhenius kinetics supported for duplicate reactions.\n",
      "WARNING:root:Only Arrhenius and PDepArrhenius kinetics supported for duplicate reactions.\n",
      "WARNING:root:Only Arrhenius and PDepArrhenius kinetics supported for duplicate reactions.\n",
      "WARNING:root:Only Arrhenius and PDepArrhenius kinetics supported for duplicate reactions.\n",
      "WARNING:root:Only Arrhenius and PDepArrhenius kinetics supported for duplicate reactions.\n",
      "WARNING:root:Only Arrhenius and PDepArrhenius kinetics supported for duplicate reactions.\n",
      "WARNING:root:Only Arrhenius and PDepArrhenius kinetics supported for duplicate reactions.\n",
      "WARNING:root:Only Arrhenius and PDepArrhenius kinetics supported for duplicate reactions.\n",
      "WARNING:root:Only Arrhenius and PDepArrhenius kinetics supported for duplicate reactions.\n",
      "WARNING:root:Only Arrhenius and PDepArrhenius kinetics supported for duplicate reactions.\n",
      "WARNING:root:Only Arrhenius and PDepArrhenius kinetics supported for duplicate reactions.\n",
      "WARNING:root:Only Arrhenius and PDepArrhenius kinetics supported for duplicate reactions.\n",
      "WARNING:root:Only Arrhenius and PDepArrhenius kinetics supported for duplicate reactions.\n",
      "WARNING:root:Only Arrhenius and PDepArrhenius kinetics supported for duplicate reactions.\n",
      "WARNING:root:Only Arrhenius and PDepArrhenius kinetics supported for duplicate reactions.\n",
      "WARNING:root:Only Arrhenius and PDepArrhenius kinetics supported for duplicate reactions.\n",
      "WARNING:root:Only Arrhenius and PDepArrhenius kinetics supported for duplicate reactions.\n",
      "WARNING:root:Only Arrhenius and PDepArrhenius kinetics supported for duplicate reactions.\n",
      "WARNING:root:Only Arrhenius and PDepArrhenius kinetics supported for duplicate reactions.\n",
      "WARNING:root:Only Arrhenius and PDepArrhenius kinetics supported for duplicate reactions.\n",
      "WARNING:root:Only Arrhenius and PDepArrhenius kinetics supported for duplicate reactions.\n",
      "WARNING:root:Only Arrhenius and PDepArrhenius kinetics supported for duplicate reactions.\n",
      "WARNING:root:Only Arrhenius and PDepArrhenius kinetics supported for duplicate reactions.\n",
      "WARNING:root:Only Arrhenius and PDepArrhenius kinetics supported for duplicate reactions.\n",
      "WARNING:root:Only Arrhenius and PDepArrhenius kinetics supported for duplicate reactions.\n",
      "WARNING:root:Only Arrhenius and PDepArrhenius kinetics supported for duplicate reactions.\n",
      "WARNING:root:Only Arrhenius and PDepArrhenius kinetics supported for duplicate reactions.\n",
      "WARNING:root:Only Arrhenius and PDepArrhenius kinetics supported for duplicate reactions.\n",
      "WARNING:root:Only Arrhenius and PDepArrhenius kinetics supported for duplicate reactions.\n",
      "WARNING:root:Only Arrhenius and PDepArrhenius kinetics supported for duplicate reactions.\n",
      "WARNING:root:Only Arrhenius and PDepArrhenius kinetics supported for duplicate reactions.\n",
      "WARNING:root:Only Arrhenius and PDepArrhenius kinetics supported for duplicate reactions.\n",
      "WARNING:root:Only Arrhenius and PDepArrhenius kinetics supported for duplicate reactions.\n",
      "WARNING:root:Only Arrhenius and PDepArrhenius kinetics supported for duplicate reactions.\n",
      "WARNING:root:Only Arrhenius and PDepArrhenius kinetics supported for duplicate reactions.\n",
      "WARNING:root:Only Arrhenius and PDepArrhenius kinetics supported for duplicate reactions.\n",
      "WARNING:root:Only Arrhenius and PDepArrhenius kinetics supported for duplicate reactions.\n",
      "WARNING:root:Only Arrhenius and PDepArrhenius kinetics supported for duplicate reactions.\n",
      "WARNING:root:Only Arrhenius and PDepArrhenius kinetics supported for duplicate reactions.\n"
     ]
    },
    {
     "name": "stdout",
     "output_type": "stream",
     "text": [
      "done\n"
     ]
    }
   ],
   "source": [
    "print(\"loading rmg kinetic database ....\")\n",
    "kdb = KineticsDatabase()\n",
    "kdb.load_libraries(\"/rmg/RMG-database/input/kinetics/libraries\")\n",
    "print(\"done\")"
   ]
  },
  {
   "cell_type": "markdown",
   "id": "3e1cb3d4-8a91-40cf-9496-cede17299f7b",
   "metadata": {},
   "source": [
    "# Data exploration"
   ]
  },
  {
   "cell_type": "code",
   "execution_count": 4,
   "id": "b7ccbfe4-8c6f-46c1-9d04-3920e4d3d0a4",
   "metadata": {},
   "outputs": [
    {
     "data": {
      "application/vnd.jupyter.widget-view+json": {
       "model_id": "2be54a61eafd4892b961ccbc125553cc",
       "version_major": 2,
       "version_minor": 0
      },
      "text/plain": [
       "library:   0%|          | 0/174 [00:00<?, ?it/s]"
      ]
     },
     "metadata": {},
     "output_type": "display_data"
    },
    {
     "name": "stdout",
     "output_type": "stream",
     "text": [
      "33010  reactions collected\n"
     ]
    }
   ],
   "source": [
    "library_reaction_list = []\n",
    "for library_name in tqdm(kdb.libraries, desc=\"library\"):\n",
    "\n",
    "    lib = kdb.libraries[library_name]\n",
    "    for reaction_index in lib.entries:\n",
    "        rxn = lib.entries[reaction_index]\n",
    "        reaction = Reaction(\n",
    "            family_name=library_name,\n",
    "            depo_label=None,\n",
    "            indepo_index=rxn.index,\n",
    "            reaction=rxn.item,\n",
    "            kinetics_property=rxn.data,\n",
    "            rank=rxn.rank\n",
    "        )\n",
    "        library_reaction_list.append(reaction)\n",
    "\n",
    "with open(\"library_reactions.pickle\", 'wb') as f:\n",
    "    pickle.dump(library_reaction_list, f)\n",
    "print(len(library_reaction_list), \" reactions collected\")"
   ]
  },
  {
   "cell_type": "markdown",
   "id": "e77ff29e-483c-438e-a91d-5b2b763942f7",
   "metadata": {},
   "source": [
    "# Reaction to Input and Output"
   ]
  },
  {
   "cell_type": "code",
   "execution_count": 5,
   "id": "264db6f9-2537-4554-9b3a-97a22f886d4a",
   "metadata": {
    "tags": []
   },
   "outputs": [],
   "source": [
    "def input2reaction_smiles(sample: Reaction):\n",
    "    reaction_smiles = \"\"\n",
    "    \n",
    "    smiles = []\n",
    "    for sp in sample.reaction.reactants:\n",
    "        smiles.append(\n",
    "            sp.smiles\n",
    "        )\n",
    "        \n",
    "    reaction_smiles += \".\".join(smiles)\n",
    "    \n",
    "    reaction_smiles += \">>\"\n",
    "    \n",
    "    smiles = []\n",
    "    for sp in sample.reaction.products:\n",
    "        smiles.append(\n",
    "            sp.smiles\n",
    "    )\n",
    "    \n",
    "    reaction_smiles += \".\".join(smiles)\n",
    "    return reaction_smiles\n"
   ]
  },
  {
   "cell_type": "code",
   "execution_count": 6,
   "id": "03ca69b6-8ed8-48ae-b807-ae3ca22f802f",
   "metadata": {},
   "outputs": [],
   "source": [
    "def input2reaction_label(sample: Reaction):\n",
    "    return sample.reaction.to_labeled_str()"
   ]
  },
  {
   "cell_type": "markdown",
   "id": "ee55992e-aa07-4e21-bf3d-1a4296885d07",
   "metadata": {},
   "source": [
    "# RMG-Library for conditional OOD"
   ]
  },
  {
   "cell_type": "code",
   "execution_count": 51,
   "id": "85e1e25b-e2f0-45e6-a85b-d34ed2ba87b6",
   "metadata": {},
   "outputs": [],
   "source": [
    "T_smiles_key_dict = defaultdict(list)\n",
    "T_reaction_list = []\n",
    "\n",
    "TP_smiles_key_dict = defaultdict(list)\n",
    "TP_reaction_list = []\n",
    "\n",
    "for sample in library_reaction_list:\n",
    "    k = sample.kinetics_property\n",
    "    smiles = input2reaction_smiles(sample)\n",
    "\n",
    "    if k.is_pressure_dependent():\n",
    "        TP_smiles_key_dict[smiles].append(sample)\n",
    "        TP_reaction_list.append(sample)\n",
    "    else:\n",
    "        T_smiles_key_dict[smiles].append(sample)\n",
    "        T_reaction_list.append(sample)"
   ]
  },
  {
   "cell_type": "markdown",
   "id": "f8cc56a4-5a08-44da-94f6-d147613fbfff",
   "metadata": {},
   "source": [
    "### Redundancy check"
   ]
  },
  {
   "cell_type": "code",
   "execution_count": 52,
   "id": "e215a1b1-cb93-4bfc-976b-8ddad24d8715",
   "metadata": {},
   "outputs": [],
   "source": [
    "T_reaction_list_reduced = []\n",
    "for smiles in T_smiles_key_dict:\n",
    "    redundancy_counts = len(T_smiles_key_dict[smiles])\n",
    "    if redundancy_counts == 1:\n",
    "        T_reaction_list_reduced.extend(T_smiles_key_dict[smiles])"
   ]
  },
  {
   "cell_type": "code",
   "execution_count": 53,
   "id": "de78f51b-6e44-4acf-8031-1c8c2e2f2c40",
   "metadata": {},
   "outputs": [],
   "source": [
    "TP_reaction_list_reduced = []\n",
    "for smiles in TP_smiles_key_dict:\n",
    "    redundancy_counts = len(TP_smiles_key_dict[smiles])\n",
    "    if redundancy_counts == 1:\n",
    "        TP_reaction_list_reduced.extend(TP_smiles_key_dict[smiles])"
   ]
  },
  {
   "cell_type": "code",
   "execution_count": 54,
   "id": "9493da80-a99e-4690-9220-8ee16888c95e",
   "metadata": {},
   "outputs": [
    {
     "name": "stdout",
     "output_type": "stream",
     "text": [
      "Total number of reaction kinetics records:  33010\n",
      "------------------------------ temperature dependence ------------------------------\n",
      "Total number of temperature dependent reaction kinetics records:  29539\n",
      "Total number of unique reaction smiles:  11793\n",
      "Total number of reaction smiles with only one occurance:  6446\n",
      "------------------------------ temperature and pressure dependence ------------------------------\n",
      "Total number of temperature and pressure dependent reaction kinetics records:  3471\n",
      "Total number of unique reaction smiles:  1451\n",
      "Total number of reaction smiles with only one occurance:  861\n"
     ]
    }
   ],
   "source": [
    "print(\"Total number of reaction kinetics records: \",\n",
    "      len(library_reaction_list))\n",
    "\n",
    "print(\"---\"*10, \"temperature dependence\", \"---\"*10)\n",
    "      \n",
    "print(\"Total number of temperature dependent reaction kinetics records: \",\n",
    "      len(T_reaction_list))      \n",
    "print(\"Total number of unique reaction smiles: \",\n",
    "      len(T_smiles_key_dict))\n",
    "print(\"Total number of reaction smiles with only one occurance: \",\n",
    "      len(T_reaction_list_reduced))\n",
    "\n",
    "print(\"---\"*10, \"temperature and pressure dependence\", \"---\"*10)\n",
    "\n",
    "print(\"Total number of temperature and pressure dependent reaction kinetics records: \",\n",
    "      len(TP_reaction_list))\n",
    "print(\"Total number of unique reaction smiles: \",\n",
    "      len(TP_smiles_key_dict))\n",
    "print(\"Total number of reaction smiles with only one occurance: \",\n",
    "      len(TP_reaction_list_reduced))"
   ]
  },
  {
   "cell_type": "markdown",
   "id": "9cad29f5-e0f5-418b-8c0b-10290d065bb1",
   "metadata": {},
   "source": [
    "## Temperature dependence"
   ]
  },
  {
   "cell_type": "markdown",
   "id": "c5145812-59e9-46e3-93d6-c6fb7e22fc62",
   "metadata": {
    "tags": []
   },
   "source": [
    "### Redundancy reduced"
   ]
  },
  {
   "cell_type": "code",
   "execution_count": 55,
   "id": "8ca68776-d135-4dad-a388-f87529b3ac35",
   "metadata": {},
   "outputs": [
    {
     "name": "stdout",
     "output_type": "stream",
     "text": [
      "280\n"
     ]
    }
   ],
   "source": [
    "intervals = []\n",
    "for sample in T_reaction_list_reduced:\n",
    "    k = sample.kinetics_property\n",
    "    if k.is_pressure_dependent():\n",
    "        continue\n",
    "\n",
    "    if k.Tmin is not None:\n",
    "        intervals.append((k.Tmin.value_si, k.Tmax.value_si))\n",
    "\n",
    "print(len(intervals))"
   ]
  },
  {
   "cell_type": "code",
   "execution_count": 56,
   "id": "67aecebd-13c0-4e25-9672-a2ba452e42f1",
   "metadata": {},
   "outputs": [
    {
     "data": {
      "image/png": "[encoded data removed]",
      "text/plain": [
       "<Figure size 640x480 with 1 Axes>"
      ]
     },
     "metadata": {},
     "output_type": "display_data"
    }
   ],
   "source": [
    "# Sort intervals based on the left limit\n",
    "sorted_intervals = sorted(intervals, key=lambda x: x[1])\n",
    "sorted_intervals = sorted(sorted_intervals, key=lambda x: x[0])\n",
    "\n",
    "# Extract left and right limits from sorted intervals\n",
    "left_limits, right_limits = zip(*sorted_intervals)\n",
    "\n",
    "global_t_min = min(left_limits)\n",
    "global_t_max = max(right_limits)\n",
    "\n",
    "# Plot the sorted intervals using horizontal bars\n",
    "plt.figure()\n",
    "plt.barh(range(len(sorted_intervals)), width=[r - l for l, r in sorted_intervals], left=left_limits, color='blue', alpha=1)\n",
    "plt.title('Visualization of Sorted Temperature Intervals')\n",
    "plt.xlim([global_t_min, global_t_max])\n",
    "plt.xlabel('Temperature (K)')\n",
    "plt.ylabel('Sorted reaction ID')\n",
    "plt.grid(axis='x')\n",
    "plt.show()\n"
   ]
  },
  {
   "cell_type": "code",
   "execution_count": 57,
   "id": "8c96b321-675c-47b0-aa79-77c813eb79a7",
   "metadata": {},
   "outputs": [
    {
     "data": {
      "application/vnd.jupyter.widget-view+json": {
       "model_id": "b61362f6064d448a9254f37dea41b23d",
       "version_major": 2,
       "version_minor": 0
      },
      "text/plain": [
       "  0%|          | 0/6446 [00:00<?, ?it/s]"
      ]
     },
     "metadata": {},
     "output_type": "display_data"
    },
    {
     "name": "stderr",
     "output_type": "stream",
     "text": [
      "/miniconda/envs/rmg_env/lib/python3.7/site-packages/ipykernel_launcher.py:22: RuntimeWarning: divide by zero encountered in log10\n",
      "/miniconda/envs/rmg_env/lib/python3.7/site-packages/ipykernel_launcher.py:27: RuntimeWarning: divide by zero encountered in log10\n"
     ]
    },
    {
     "name": "stdout",
     "output_type": "stream",
     "text": [
      "6446 63805\n"
     ]
    }
   ],
   "source": [
    "data = defaultdict(list)\n",
    "reaction_count = 0\n",
    "for sample in tqdm(T_reaction_list_reduced):\n",
    "    k = sample.kinetics_property\n",
    "\n",
    "    if k.Tmin:\n",
    "        t_min = k.Tmin.value_si\n",
    "    else:\n",
    "        t_min = global_t_min\n",
    "    \n",
    "    if k.Tmax:\n",
    "        t_max = k.Tmax.value_si\n",
    "    else:\n",
    "        t_max = 3000\n",
    "\n",
    "    for T in np.arange(t_min, t_max, 300).tolist():\n",
    "        if not k.is_temperature_valid(T):\n",
    "            continue\n",
    "\n",
    "        try:\n",
    "            rate = k.get_rate_coefficient(T)\n",
    "            assert not np.isnan(np.log10(rate))\n",
    "            data['library'].append(sample.family_name)\n",
    "            data['label'].append(input2reaction_label(sample))\n",
    "            data['smiles'].append(input2reaction_smiles(sample))\n",
    "            data['domain_index'].append(T)\n",
    "            data['target'].append(np.log10(rate))\n",
    "        except:\n",
    "            continue\n",
    "    reaction_count += 1\n",
    "\n",
    "df = pd.DataFrame(data)\n",
    "print(reaction_count, len(df))"
   ]
  },
  {
   "cell_type": "code",
   "execution_count": 58,
   "id": "1df959cd-ff87-46c8-8a01-58f015c3b476",
   "metadata": {},
   "outputs": [],
   "source": [
    "df.to_csv(\"library_T_dependent_reduced_64k.csv\", index=False)"
   ]
  },
  {
   "cell_type": "markdown",
   "id": "a07fba7d-e225-4087-bdd4-a536477acbb7",
   "metadata": {},
   "source": [
    "### Redundancy remained"
   ]
  },
  {
   "cell_type": "code",
   "execution_count": 59,
   "id": "7605e6c2-50b2-42c1-87d3-9a4a029a94fc",
   "metadata": {},
   "outputs": [
    {
     "name": "stdout",
     "output_type": "stream",
     "text": [
      "797\n"
     ]
    }
   ],
   "source": [
    "intervals = []\n",
    "for sample in T_reaction_list:\n",
    "    k = sample.kinetics_property\n",
    "    if k.is_pressure_dependent():\n",
    "        continue\n",
    "\n",
    "    if k.Tmin is not None:\n",
    "        intervals.append((k.Tmin.value_si, k.Tmax.value_si))\n",
    "\n",
    "print(len(intervals))"
   ]
  },
  {
   "cell_type": "code",
   "execution_count": 60,
   "id": "2e79adcd-1117-4ceb-9920-ff8ddc2ae008",
   "metadata": {},
   "outputs": [
    {
     "data": {
      "image/png": "[encoded data removed]",
      "text/plain": [
       "<Figure size 640x480 with 1 Axes>"
      ]
     },
     "metadata": {},
     "output_type": "display_data"
    }
   ],
   "source": [
    "# Sort intervals based on the left limit\n",
    "sorted_intervals = sorted(intervals, key=lambda x: x[1])\n",
    "sorted_intervals = sorted(sorted_intervals, key=lambda x: x[0])\n",
    "\n",
    "# Extract left and right limits from sorted intervals\n",
    "left_limits, right_limits = zip(*sorted_intervals)\n",
    "\n",
    "global_t_min = min(left_limits)\n",
    "global_t_max = max(right_limits)\n",
    "\n",
    "# Plot the sorted intervals using horizontal bars\n",
    "plt.figure()\n",
    "plt.barh(range(len(sorted_intervals)), width=[r - l for l, r in sorted_intervals], left=left_limits, color='blue', alpha=1)\n",
    "plt.title('Visualization of Sorted Temperature Intervals')\n",
    "plt.xlim([global_t_min, global_t_max])\n",
    "plt.xlabel('Temperature (K)')\n",
    "plt.ylabel('Sorted reaction ID')\n",
    "plt.grid(axis='x')\n",
    "plt.show()\n"
   ]
  },
  {
   "cell_type": "code",
   "execution_count": 61,
   "id": "b4c1b72b-7e82-49d2-ad25-f177e488a00a",
   "metadata": {},
   "outputs": [
    {
     "data": {
      "application/vnd.jupyter.widget-view+json": {
       "model_id": "5557f5287ca54fb198f2b31a7e32d97e",
       "version_major": 2,
       "version_minor": 0
      },
      "text/plain": [
       "  0%|          | 0/29539 [00:00<?, ?it/s]"
      ]
     },
     "metadata": {},
     "output_type": "display_data"
    },
    {
     "name": "stderr",
     "output_type": "stream",
     "text": [
      "/miniconda/envs/rmg_env/lib/python3.7/site-packages/ipykernel_launcher.py:22: RuntimeWarning: divide by zero encountered in log10\n",
      "/miniconda/envs/rmg_env/lib/python3.7/site-packages/ipykernel_launcher.py:27: RuntimeWarning: divide by zero encountered in log10\n"
     ]
    },
    {
     "name": "stdout",
     "output_type": "stream",
     "text": [
      "29539 293452\n"
     ]
    },
    {
     "name": "stderr",
     "output_type": "stream",
     "text": [
      "/miniconda/envs/rmg_env/lib/python3.7/site-packages/ipykernel_launcher.py:22: RuntimeWarning: invalid value encountered in log10\n"
     ]
    }
   ],
   "source": [
    "data = defaultdict(list)\n",
    "reaction_count = 0\n",
    "for sample in tqdm(T_reaction_list):\n",
    "    k = sample.kinetics_property\n",
    "\n",
    "    if k.Tmin:\n",
    "        t_min = k.Tmin.value_si\n",
    "    else:\n",
    "        t_min = global_t_min\n",
    "    \n",
    "    if k.Tmax:\n",
    "        t_max = k.Tmax.value_si\n",
    "    else:\n",
    "        t_max = 3000\n",
    "\n",
    "    for T in np.arange(t_min, t_max, 300).tolist():\n",
    "        if not k.is_temperature_valid(T):\n",
    "            continue\n",
    "\n",
    "        try:\n",
    "            rate = k.get_rate_coefficient(T)\n",
    "            assert not np.isnan(np.log10(rate))\n",
    "            data['library'].append(sample.family_name)\n",
    "            data['label'].append(input2reaction_label(sample))\n",
    "            data['smiles'].append(input2reaction_smiles(sample))\n",
    "            data['domain_index'].append(T)\n",
    "            data['target'].append(np.log10(rate))\n",
    "        except:\n",
    "            continue\n",
    "    reaction_count += 1\n",
    "\n",
    "df = pd.DataFrame(data)\n",
    "print(reaction_count, len(df))"
   ]
  },
  {
   "cell_type": "code",
   "execution_count": 62,
   "id": "d11f4eee-3853-462c-bfe9-5a1cfda69605",
   "metadata": {},
   "outputs": [],
   "source": [
    "df.to_csv(\"library_T_dependent_300k.csv\", index=False)"
   ]
  },
  {
   "cell_type": "markdown",
   "id": "dc4be720-0ba7-4270-9a21-06db1152414b",
   "metadata": {
    "tags": []
   },
   "source": [
    "## Temperature Pressure Dependence"
   ]
  },
  {
   "cell_type": "markdown",
   "id": "30bb41f3-2765-44ea-8904-b034c798ac14",
   "metadata": {},
   "source": [
    "### Redundancy reduced"
   ]
  },
  {
   "cell_type": "code",
   "execution_count": 63,
   "id": "ced38d6e-d651-4f54-9cc4-296e1da1e352",
   "metadata": {},
   "outputs": [
    {
     "name": "stdout",
     "output_type": "stream",
     "text": [
      "60\n"
     ]
    }
   ],
   "source": [
    "available_condition = []\n",
    "for sample in TP_reaction_list_reduced:\n",
    "    k = sample.kinetics_property\n",
    "    if k.Tmax is not None and k.Tmin is not None and k.Pmax is not None and k.Pmin is not None:\n",
    "        available_condition.append(\n",
    "            (k.Tmin.value_si,\n",
    "             k.Tmax.value_si,\n",
    "             k.Pmin.value_si,\n",
    "             k.Pmax.value_si)\n",
    "        )\n",
    "print(len(available_condition))"
   ]
  },
  {
   "cell_type": "code",
   "execution_count": 64,
   "id": "770a3730-d10c-4522-b0ae-373487590756",
   "metadata": {},
   "outputs": [],
   "source": [
    "from matplotlib.patches import Rectangle\n",
    "\n",
    "# Function to draw rectangles given min and max coordinates\n",
    "def draw_rectangle(ax, x_min, x_max, y_min, y_max, color='blue'):\n",
    "    rectangle = Rectangle((x_min, y_min), x_max - x_min, y_max - y_min, edgecolor='black', alpha=0.1)\n",
    "    ax.add_patch(rectangle)"
   ]
  },
  {
   "cell_type": "code",
   "execution_count": 65,
   "id": "6b6db979-ec7f-4be4-abbb-5dd7cd19eb41",
   "metadata": {},
   "outputs": [
    {
     "data": {
      "image/png": "[encoded data removed]",
      "text/plain": [
       "<Figure size 640x480 with 1 Axes>"
      ]
     },
     "metadata": {},
     "output_type": "display_data"
    }
   ],
   "source": [
    "# Create a figure and axis\n",
    "fig, ax = plt.subplots()\n",
    "\n",
    "# Define rectangles using min and max coordinates\n",
    "for x_min, x_max, y_min, y_max in available_condition:\n",
    "    draw_rectangle(ax, x_min, x_max, y_min, y_max, color='blue')\n",
    "\n",
    "ax.set_yscale('log')\n",
    "ax.set_xscale('log')\n",
    "    \n",
    "plt.show()"
   ]
  },
  {
   "cell_type": "code",
   "execution_count": 66,
   "id": "b8b64f28-63ec-4e29-b663-5ffb6c8dcc39",
   "metadata": {},
   "outputs": [],
   "source": [
    "global_t_min = min(tmin for tmin, *_ in available_condition)\n",
    "global_t_max = min(tmax for _, tmax, *_ in available_condition)\n",
    "global_p_min = min(pmin for *_, pmin, _ in available_condition)\n",
    "global_p_max = min(pmax for *_, pmax in available_condition)"
   ]
  },
  {
   "cell_type": "code",
   "execution_count": 67,
   "id": "fd727864-cef6-4eaf-895a-e59050a85842",
   "metadata": {},
   "outputs": [
    {
     "data": {
      "application/vnd.jupyter.widget-view+json": {
       "model_id": "44452789c39045eabe601194a4dea4d3",
       "version_major": 2,
       "version_minor": 0
      },
      "text/plain": [
       "  0%|          | 0/861 [00:00<?, ?it/s]"
      ]
     },
     "metadata": {},
     "output_type": "display_data"
    }
   ],
   "source": [
    "data = defaultdict(list)\n",
    "reaction_count = 0\n",
    "for sample in tqdm(TP_reaction_list_reduced):\n",
    "    k = sample.kinetics_property\n",
    "\n",
    "    if k.Tmin:\n",
    "        t_min = k.Tmin.value_si\n",
    "    else:\n",
    "        t_min = global_t_min\n",
    "\n",
    "    if k.Tmax:\n",
    "        t_max = k.Tmax.value_si\n",
    "    else:\n",
    "        t_max = global_t_max\n",
    "        \n",
    "    if k.Pmin:\n",
    "        p_min = k.Pmin.value_si\n",
    "    else:\n",
    "        p_min = global_p_min\n",
    "    \n",
    "    if k.Pmax:\n",
    "        p_max = k.Pmax.value_si\n",
    "    else:\n",
    "        p_max = global_p_max\n",
    "\n",
    "    for T in np.arange(t_min, t_max, 300).tolist():\n",
    "        for P in np.logspace(np.log10(p_min), np.log10(p_max), 8).tolist():\n",
    "            if not (k.is_temperature_valid(T) and k.is_pressure_valid(P)):\n",
    "                continue\n",
    "\n",
    "            try:\n",
    "                rate = k.get_rate_coefficient(T, P)\n",
    "                assert not np.isnan(np.log10(rate))\n",
    "                data['label'].append(sample.family_name)\n",
    "                data['smiles'].append(input2reaction_smiles(sample))\n",
    "                data['domain_index'].append((T, P))\n",
    "                data['target'].append(np.log10(rate))\n",
    "            except:\n",
    "                continue\n",
    "    reaction_count += 1\n",
    "\n",
    "df = pd.DataFrame(data)"
   ]
  },
  {
   "cell_type": "code",
   "execution_count": 68,
   "id": "3544aa71-d126-496a-be5e-e48d8da9ae63",
   "metadata": {},
   "outputs": [
    {
     "name": "stdout",
     "output_type": "stream",
     "text": [
      "861 42160\n"
     ]
    }
   ],
   "source": [
    "print(reaction_count, len(df))"
   ]
  },
  {
   "cell_type": "code",
   "execution_count": 69,
   "id": "14f36db4-78e4-490b-af57-5ceb55604226",
   "metadata": {},
   "outputs": [],
   "source": [
    "df.to_csv(\"library_TP_dependent_reduced_42k.csv\", index=False)"
   ]
  },
  {
   "cell_type": "markdown",
   "id": "97f5f8a7-d543-4a28-9269-634b324eb0b8",
   "metadata": {},
   "source": [
    "### Redundancy remained"
   ]
  },
  {
   "cell_type": "code",
   "execution_count": 70,
   "id": "c4374c42-917c-4356-89fd-6331220a7fa5",
   "metadata": {},
   "outputs": [
    {
     "name": "stdout",
     "output_type": "stream",
     "text": [
      "61\n"
     ]
    }
   ],
   "source": [
    "available_condition = []\n",
    "for sample in TP_reaction_list:\n",
    "    k = sample.kinetics_property\n",
    "    if k.Tmax is not None and k.Tmin is not None and k.Pmax is not None and k.Pmin is not None:\n",
    "        available_condition.append(\n",
    "            (k.Tmin.value_si,\n",
    "             k.Tmax.value_si,\n",
    "             k.Pmin.value_si,\n",
    "             k.Pmax.value_si)\n",
    "        )\n",
    "print(len(available_condition))"
   ]
  },
  {
   "cell_type": "code",
   "execution_count": 71,
   "id": "43462486-25aa-45c3-a27d-7109dfdc31e5",
   "metadata": {},
   "outputs": [],
   "source": [
    "from matplotlib.patches import Rectangle\n",
    "\n",
    "# Function to draw rectangles given min and max coordinates\n",
    "def draw_rectangle(ax, x_min, x_max, y_min, y_max, color='blue'):\n",
    "    rectangle = Rectangle((x_min, y_min), x_max - x_min, y_max - y_min, edgecolor='black', alpha=0.1)\n",
    "    ax.add_patch(rectangle)"
   ]
  },
  {
   "cell_type": "code",
   "execution_count": 72,
   "id": "cbc02c14-ddbd-4240-ba69-6e7b20f02647",
   "metadata": {},
   "outputs": [
    {
     "data": {
      "image/png": "[encoded data removed]",
      "text/plain": [
       "<Figure size 640x480 with 1 Axes>"
      ]
     },
     "metadata": {},
     "output_type": "display_data"
    }
   ],
   "source": [
    "# Create a figure and axis\n",
    "fig, ax = plt.subplots()\n",
    "\n",
    "# Define rectangles using min and max coordinates\n",
    "for x_min, x_max, y_min, y_max in available_condition:\n",
    "    draw_rectangle(ax, x_min, x_max, y_min, y_max, color='blue')\n",
    "\n",
    "ax.set_yscale('log')\n",
    "ax.set_xscale('log')\n",
    "    \n",
    "plt.show()"
   ]
  },
  {
   "cell_type": "code",
   "execution_count": 73,
   "id": "1f4e1836-3122-43cf-87b2-788e4436696f",
   "metadata": {},
   "outputs": [],
   "source": [
    "global_t_min = min(tmin for tmin, *_ in available_condition)\n",
    "global_t_max = min(tmax for _, tmax, *_ in available_condition)\n",
    "global_p_min = min(pmin for *_, pmin, _ in available_condition)\n",
    "global_p_max = min(pmax for *_, pmax in available_condition)"
   ]
  },
  {
   "cell_type": "code",
   "execution_count": 74,
   "id": "c83ac05f-0f93-4fc1-b744-8a5f5c617e98",
   "metadata": {},
   "outputs": [
    {
     "data": {
      "application/vnd.jupyter.widget-view+json": {
       "model_id": "0b7b59d4c6bf425e9155679b652497ea",
       "version_major": 2,
       "version_minor": 0
      },
      "text/plain": [
       "  0%|          | 0/3471 [00:00<?, ?it/s]"
      ]
     },
     "metadata": {},
     "output_type": "display_data"
    }
   ],
   "source": [
    "data = defaultdict(list)\n",
    "reaction_count = 0\n",
    "for sample in tqdm(TP_reaction_list):\n",
    "    k = sample.kinetics_property\n",
    "\n",
    "    if k.Tmin:\n",
    "        t_min = k.Tmin.value_si\n",
    "    else:\n",
    "        t_min = global_t_min\n",
    "\n",
    "    if k.Tmax:\n",
    "        t_max = k.Tmax.value_si\n",
    "    else:\n",
    "        t_max = global_t_max\n",
    "        \n",
    "    if k.Pmin:\n",
    "        p_min = k.Pmin.value_si\n",
    "    else:\n",
    "        p_min = global_p_min\n",
    "    \n",
    "    if k.Pmax:\n",
    "        p_max = k.Pmax.value_si\n",
    "    else:\n",
    "        p_max = global_p_max\n",
    "\n",
    "    for T in np.arange(t_min, t_max, 300).tolist():\n",
    "        for P in np.logspace(np.log10(p_min), np.log10(p_max), 8).tolist():\n",
    "            if not (k.is_temperature_valid(T) and k.is_pressure_valid(P)):\n",
    "                continue\n",
    "\n",
    "            try:\n",
    "                rate = k.get_rate_coefficient(T, P)\n",
    "                assert not np.isnan(np.log10(rate))\n",
    "                data['label'].append(sample.family_name)\n",
    "                data['smiles'].append(input2reaction_smiles(sample))\n",
    "                data['domain_index'].append((T, P))\n",
    "                data['target'].append(np.log10(rate))\n",
    "            except:\n",
    "                continue\n",
    "    reaction_count += 1\n",
    "\n",
    "df = pd.DataFrame(data)"
   ]
  },
  {
   "cell_type": "code",
   "execution_count": 75,
   "id": "492f40f0-f0a5-46e6-9255-194324b4b920",
   "metadata": {},
   "outputs": [
    {
     "name": "stdout",
     "output_type": "stream",
     "text": [
      "3471 167407\n"
     ]
    }
   ],
   "source": [
    "print(reaction_count, len(df))"
   ]
  },
  {
   "cell_type": "code",
   "execution_count": 76,
   "id": "102d8983-3d41-4d80-8f58-f2f1789e3798",
   "metadata": {},
   "outputs": [],
   "source": [
    "df.to_csv(\"library_TP_dependent_167k.csv\", index=False)"
   ]
  },
  {
   "cell_type": "code",
   "execution_count": null,
   "id": "e5d6fc3c-d22c-47a6-bb09-9b097e763e6f",
   "metadata": {},
   "outputs": [],
   "source": []
  }
 ],
 "metadata": {
  "kernelspec": {
   "display_name": "Python 3 (ipykernel)",
   "language": "python",
   "name": "python3"
  },
  "language_info": {
   "codemirror_mode": {
    "name": "ipython",
    "version": 3
   },
   "file_extension": ".py",
   "mimetype": "text/x-python",
   "name": "python",
   "nbconvert_exporter": "python",
   "pygments_lexer": "ipython3",
   "version": "3.7.12"
  }
 },
 "nbformat": 4,
 "nbformat_minor": 5
}

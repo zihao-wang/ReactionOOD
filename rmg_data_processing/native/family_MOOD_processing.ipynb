{
 "cells": [
  {
   "cell_type": "code",
   "execution_count": 1,
   "id": "8d4dca62-00f5-4540-98e2-989f9f62bfd9",
   "metadata": {},
   "outputs": [],
   "source": [
    "from collections import defaultdict\n",
    "import pickle\n",
    "from dataclasses import dataclass\n",
    "from typing import List\n",
    "\n",
    "import numpy as np\n",
    "import pandas as pd\n",
    "import matplotlib.pyplot as plt\n",
    "from tqdm.notebook import tqdm\n",
    "\n",
    "from rmgpy.data.kinetics import KineticsDatabase\n",
    "from rmgpy.kinetics import (Arrhenius, ArrheniusBM, ArrheniusEP, Chebyshev,\n",
    "                            KineticsData, Lindemann, MultiArrhenius,\n",
    "                            MultiPDepArrhenius, PDepArrhenius,\n",
    "                            StickingCoefficient, StickingCoefficientBEP,\n",
    "                            SurfaceArrhenius, SurfaceArrheniusBEP, ThirdBody,\n",
    "                            Troe)\n",
    "from rmgpy.kinetics.model import KineticsModel\n",
    "from rmgpy.reaction import Reaction"
   ]
  },
  {
   "cell_type": "code",
   "execution_count": 2,
   "id": "df104f9b-65db-429a-ab4a-2b4e2ecefe2b",
   "metadata": {},
   "outputs": [],
   "source": [
    "@dataclass\n",
    "class Reaction:\n",
    "    family_name: str\n",
    "    depo_label: str\n",
    "    indepo_index: int\n",
    "    reaction: Reaction\n",
    "    kinetics_property: KineticsModel\n",
    "    rank: int"
   ]
  },
  {
   "cell_type": "markdown",
   "id": "f2b2b160-5023-44fe-8af1-75c47c5ef435",
   "metadata": {},
   "source": [
    "# Load from the kinetic database"
   ]
  },
  {
   "cell_type": "code",
   "execution_count": 3,
   "id": "1f17d659-f5cd-4334-8f3d-f2883951706b",
   "metadata": {},
   "outputs": [
    {
     "name": "stdout",
     "output_type": "stream",
     "text": [
      "loading rmg kinetic database ....\n",
      "done\n"
     ]
    }
   ],
   "source": [
    "print(\"loading rmg kinetic database ....\")\n",
    "kdb = KineticsDatabase()\n",
    "kdb.load_families(\"/rmg/RMG-database/input/kinetics/families\", families='all', depositories='all')\n",
    "print(\"done\")"
   ]
  },
  {
   "cell_type": "code",
   "execution_count": 4,
   "id": "f1e1c7d6-52e0-4475-96a6-c819dcd98ca5",
   "metadata": {},
   "outputs": [
    {
     "data": {
      "application/vnd.jupyter.widget-view+json": {
       "model_id": "ecc2187be11e4817938b743c9a54e55b",
       "version_major": 2,
       "version_minor": 0
      },
      "text/plain": [
       "family:   0%|          | 0/102 [00:00<?, ?it/s]"
      ]
     },
     "metadata": {},
     "output_type": "display_data"
    },
    {
     "name": "stdout",
     "output_type": "stream",
     "text": [
      "12166  reactions collected\n"
     ]
    }
   ],
   "source": [
    "family_reaction_list = []\n",
    "for family_name in tqdm(kdb.families, desc=\"family\"):\n",
    "    depo_list = kdb.families[family_name].depositories\n",
    "    for depo in depo_list:\n",
    "        for reaction_index in depo.entries:\n",
    "            rxn = depo.entries[reaction_index]\n",
    "            reaction = Reaction(\n",
    "                family_name=family_name,\n",
    "                depo_label=depo.label,\n",
    "                indepo_index=rxn.index,\n",
    "                reaction=rxn.item,\n",
    "                kinetics_property=rxn.data,\n",
    "                rank=rxn.rank\n",
    "            )\n",
    "            family_reaction_list.append(reaction)\n",
    "\n",
    "with open(\"family_reactions.pickle\", 'wb') as f:\n",
    "    pickle.dump(family_reaction_list, f)\n",
    "print(len(family_reaction_list), \" reactions collected\")"
   ]
  },
  {
   "cell_type": "markdown",
   "id": "e77ff29e-483c-438e-a91d-5b2b763942f7",
   "metadata": {},
   "source": [
    "# Reaction to Input and Output"
   ]
  },
  {
   "cell_type": "code",
   "execution_count": 5,
   "id": "264db6f9-2537-4554-9b3a-97a22f886d4a",
   "metadata": {
    "tags": []
   },
   "outputs": [],
   "source": [
    "def input2reaction_smiles(sample: Reaction):\n",
    "    reaction_smiles = \"\"\n",
    "    \n",
    "    smiles = []\n",
    "    for sp in sample.reaction.reactants:\n",
    "        smiles.append(\n",
    "            sp.smiles\n",
    "        )\n",
    "        \n",
    "    reaction_smiles += \".\".join(smiles)\n",
    "    \n",
    "    reaction_smiles += \">>\"\n",
    "    \n",
    "    smiles = []\n",
    "    for sp in sample.reaction.products:\n",
    "        smiles.append(\n",
    "            sp.smiles\n",
    "    )\n",
    "    \n",
    "    reaction_smiles += \".\".join(smiles)\n",
    "    return reaction_smiles"
   ]
  },
  {
   "cell_type": "code",
   "execution_count": 6,
   "id": "1dd26b4f-f026-4331-924c-3100802a4cde",
   "metadata": {},
   "outputs": [],
   "source": [
    "def input2reaction_label(sample: Reaction):\n",
    "    return sample.reaction.to_labeled_str()"
   ]
  },
  {
   "cell_type": "code",
   "execution_count": 7,
   "id": "f79014f6-6624-446d-a47d-8fcb85db8def",
   "metadata": {},
   "outputs": [],
   "source": [
    "def input2Arrenius_coefs(sample: Reaction):\n",
    "    return {\n",
    "        'A': sample.kinetics_property.A.value_si,\n",
    "        'n': sample.kinetics_property.n.value_si,\n",
    "        'Ea': sample.kinetics_property.Ea.value_si/1000\n",
    "    }"
   ]
  },
  {
   "cell_type": "markdown",
   "id": "ee55992e-aa07-4e21-bf3d-1a4296885d07",
   "metadata": {},
   "source": [
    "# RMG-Family for mechanism OOD"
   ]
  },
  {
   "cell_type": "code",
   "execution_count": 8,
   "id": "777992ab-f058-42c6-8cec-94f150974c71",
   "metadata": {},
   "outputs": [],
   "source": [
    "with open(\"family_reactions.pickle\", 'rb') as f:\n",
    "    reaction_list = pickle.load(f)"
   ]
  },
  {
   "cell_type": "code",
   "execution_count": 9,
   "id": "252549b5-bc45-4a86-a8eb-e99d7cf52398",
   "metadata": {},
   "outputs": [],
   "source": [
    "data = defaultdict(list)\n",
    "\n",
    "for sample_id, sample in enumerate(family_reaction_list):\n",
    "    if not isinstance(sample.kinetics_property, Arrhenius):\n",
    "        continue\n",
    "    \n",
    "    data['sample_id'].append(sample_id)\n",
    "    data['smiles'].append(input2reaction_smiles(sample))\n",
    "    data['label'].append(input2reaction_label(sample))\n",
    "    data['domain_index'].append(sample.family_name)\n",
    "    data['indepo_index'].append(sample.indepo_index)\n",
    "    data['depository'].append(sample.depo_label)\n",
    "    data['rank'].append(sample.rank)\n",
    "    data['target'].append(input2Arrenius_coefs(sample)['Ea'])"
   ]
  },
  {
   "cell_type": "code",
   "execution_count": 10,
   "id": "96f1c487-7c7f-4dc4-8260-330334961db0",
   "metadata": {},
   "outputs": [],
   "source": [
    "family_MOOD_df = pd.DataFrame(data)"
   ]
  },
  {
   "cell_type": "code",
   "execution_count": 11,
   "id": "1b38e3ae-a2e7-44d0-b813-e6d338770a8c",
   "metadata": {},
   "outputs": [],
   "source": [
    "family_MOOD_df.to_csv(\"family_MOOD.csv\", index=False)"
   ]
  },
  {
   "cell_type": "code",
   "execution_count": 12,
   "id": "c53f64c6-e37d-4691-927a-b267d7447e05",
   "metadata": {},
   "outputs": [
    {
     "data": {
      "text/plain": [
       "12153"
      ]
     },
     "execution_count": 12,
     "metadata": {},
     "output_type": "execute_result"
    }
   ],
   "source": [
    "len(family_MOOD_df)"
   ]
  },
  {
   "cell_type": "code",
   "execution_count": 13,
   "id": "f931da1c-1aa6-4ac1-8f0a-445450b82392",
   "metadata": {},
   "outputs": [
    {
     "data": {
      "text/plain": [
       "9905"
      ]
     },
     "execution_count": 13,
     "metadata": {},
     "output_type": "execute_result"
    }
   ],
   "source": [
    "len(family_MOOD_df.smiles.unique())"
   ]
  },
  {
   "cell_type": "markdown",
   "id": "aa832694-bdad-4f93-a685-35a1e34b6c72",
   "metadata": {},
   "source": [
    "## Handle duplication"
   ]
  },
  {
   "cell_type": "code",
   "execution_count": 14,
   "id": "1c3b153e-5d5e-4a74-92ef-12e10eb8a0e6",
   "metadata": {},
   "outputs": [],
   "source": [
    "reduced_subdfs = [\n",
    "    subdf for smiles, subdf in family_MOOD_df.groupby('smiles') \n",
    "    if len(subdf) == 1\n",
    "]"
   ]
  },
  {
   "cell_type": "code",
   "execution_count": 15,
   "id": "63c6fd51-b6b8-4f3d-b8f5-94cbcbb357e6",
   "metadata": {},
   "outputs": [],
   "source": [
    "family_MOOD_df_reduced = pd.concat(reduced_subdfs)"
   ]
  },
  {
   "cell_type": "code",
   "execution_count": 16,
   "id": "e3c2fc31-2251-4f80-bbd2-468d3e472185",
   "metadata": {},
   "outputs": [
    {
     "name": "stdout",
     "output_type": "stream",
     "text": [
      "9276\n"
     ]
    }
   ],
   "source": [
    "print(len(family_MOOD_df_reduced))"
   ]
  },
  {
   "cell_type": "code",
   "execution_count": 17,
   "id": "2b7bfc43-4e9a-4551-ae28-9040f5db80a1",
   "metadata": {},
   "outputs": [],
   "source": [
    "family_MOOD_df_reduced.to_csv(\"family_MOOD_reduced.csv\", index=False)"
   ]
  },
  {
   "cell_type": "code",
   "execution_count": null,
   "id": "81ff5684-0927-4b11-b4fc-26718c37f194",
   "metadata": {},
   "outputs": [],
   "source": []
  }
 ],
 "metadata": {
  "kernelspec": {
   "display_name": "Python 3 (ipykernel)",
   "language": "python",
   "name": "python3"
  },
  "language_info": {
   "codemirror_mode": {
    "name": "ipython",
    "version": 3
   },
   "file_extension": ".py",
   "mimetype": "text/x-python",
   "name": "python",
   "nbconvert_exporter": "python",
   "pygments_lexer": "ipython3",
   "version": "3.7.12"
  }
 },
 "nbformat": 4,
 "nbformat_minor": 5
}

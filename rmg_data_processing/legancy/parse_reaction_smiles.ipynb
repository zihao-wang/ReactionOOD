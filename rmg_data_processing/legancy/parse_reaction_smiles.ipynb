{
 "cells": [
  {
   "cell_type": "code",
   "execution_count": 1,
   "metadata": {},
   "outputs": [],
   "source": [
    "from chemprop.data.utils import get_data\n",
    "import chemprop"
   ]
  },
  {
   "cell_type": "code",
   "execution_count": 2,
   "metadata": {},
   "outputs": [],
   "source": [
    "arguments = [\n",
    "    '--data_path', 'data/rmg/family_epam_indigo.csv',\n",
    "    '--dataset_type', 'regression',\n",
    "    '--save_dir', 'test_checkpoints_reaction',\n",
    "    '--epochs', '5',\n",
    "    '--reaction',\n",
    "    '--save_smiles_splits'\n",
    "]\n",
    "args = chemprop.args.TrainArgs().parse_args(arguments)\n"
   ]
  },
  {
   "cell_type": "code",
   "execution_count": 3,
   "metadata": {},
   "outputs": [
    {
     "name": "stdout",
     "output_type": "stream",
     "text": [
      "Setting molecule featurization parameters to default.\n"
     ]
    }
   ],
   "source": [
    "from chemprop.features import reset_featurization_parameters, set_reaction\n",
    "reset_featurization_parameters()\n",
    "set_reaction(True, \"reac_diff\")"
   ]
  },
  {
   "cell_type": "code",
   "execution_count": 4,
   "metadata": {},
   "outputs": [
    {
     "name": "stderr",
     "output_type": "stream",
     "text": [
      "12129it [00:00, 102921.61it/s]\n",
      "100%|██████████| 12129/12129 [00:00<00:00, 113295.44it/s]\n"
     ]
    }
   ],
   "source": [
    "data = get_data(\n",
    "    # path=\"data/rmg/family_mapped.csv\n",
    "    path=\"data/rmg/family_mapped_epam_indigo.csv\",\n",
    "    args=args,\n",
    "    smiles_columns=[\"epam_indigo_mapped_reaction_smiles\"],\n",
    "    skip_invalid_smiles=False,\n",
    "    target_columns=[\"A_value_si\", \"Ea_value_si\", \"n_value_si\"],\n",
    ")"
   ]
  },
  {
   "cell_type": "code",
   "execution_count": 11,
   "metadata": {},
   "outputs": [],
   "source": [
    "dataloader = chemprop.data.data.MoleculeDataLoader(data, batch_size=2, num_workers=0, shuffle=False)\n",
    "\n",
    "for batch in dataloader:\n",
    "    mol_batch, features_batch, target_batch, mask_batch, atom_descriptors_batch, atom_features_batch, bond_descriptors_batch, bond_features_batch, constraints_batch, data_weights_batch = \\\n",
    "        batch.batch_graph(), batch.features(), batch.targets(), batch.mask(), batch.atom_descriptors(), \\\n",
    "        batch.atom_features(), batch.bond_descriptors(), batch.bond_features(), batch.constraints(), batch.data_weights()\n",
    "    break"
   ]
  },
  {
   "cell_type": "code",
   "execution_count": 16,
   "metadata": {},
   "outputs": [
    {
     "name": "stdout",
     "output_type": "stream",
     "text": [
      "[<chemprop.features.featurization.BatchMolGraph object at 0x7f676d14a4f0>] None [[1980000.0, 22133.4, 0.0], [700000.0000000001, 0.0, 0.0]] [(True, True), (True, True), (True, True)] None None None None [[], []] [1.0, 1.0]\n"
     ]
    }
   ],
   "source": [
    "print(mol_batch, features_batch, target_batch, mask_batch, atom_descriptors_batch, atom_features_batch, bond_descriptors_batch, bond_features_batch, constraints_batch, data_weights_batch)"
   ]
  },
  {
   "cell_type": "code",
   "execution_count": 18,
   "metadata": {},
   "outputs": [
    {
     "data": {
      "text/plain": [
       "<chemprop.features.featurization.BatchMolGraph at 0x7f676d14a4f0>"
      ]
     },
     "execution_count": 18,
     "metadata": {},
     "output_type": "execute_result"
    }
   ],
   "source": [
    "mol_batch[0]"
   ]
  },
  {
   "cell_type": "code",
   "execution_count": 15,
   "metadata": {},
   "outputs": [],
   "source": [
    "atom_descriptors_batch"
   ]
  },
  {
   "cell_type": "code",
   "execution_count": 21,
   "metadata": {},
   "outputs": [],
   "source": [
    "sample_smiles = data[0].smiles[0]"
   ]
  },
  {
   "cell_type": "code",
   "execution_count": 22,
   "metadata": {},
   "outputs": [
    {
     "name": "stdout",
     "output_type": "stream",
     "text": [
      "[CH2:1].C=C>>[C:1]1CC1\n",
      "<class 'str'>\n"
     ]
    }
   ],
   "source": [
    "print(sample_smiles)\n",
    "print(type(sample_smiles))"
   ]
  },
  {
   "cell_type": "code",
   "execution_count": 23,
   "metadata": {},
   "outputs": [
    {
     "data": {
      "text/plain": [
       "False"
      ]
     },
     "execution_count": 23,
     "metadata": {},
     "output_type": "execute_result"
    }
   ],
   "source": [
    "chemprop.features.featurization.is_mol(sample_smiles)"
   ]
  },
  {
   "cell_type": "code",
   "execution_count": 30,
   "metadata": {},
   "outputs": [
    {
     "data": {
      "text/plain": [
       "[None]"
      ]
     },
     "execution_count": 30,
     "metadata": {},
     "output_type": "execute_result"
    }
   ],
   "source": [
    "data[0].mol"
   ]
  },
  {
   "cell_type": "code",
   "execution_count": 32,
   "metadata": {},
   "outputs": [],
   "source": [
    "from chemprop.rdkit import make_mol\n",
    "from chemprop.data.data import make_mols"
   ]
  },
  {
   "cell_type": "code",
   "execution_count": 37,
   "metadata": {},
   "outputs": [],
   "source": [
    "from chemprop.data import empty_cache\n",
    "\n",
    "empty_cache()"
   ]
  },
  {
   "cell_type": "code",
   "execution_count": 38,
   "metadata": {},
   "outputs": [
    {
     "data": {
      "text/plain": [
       "[(<rdkit.Chem.rdchem.Mol at 0x7f2f73c3a510>,\n",
       "  <rdkit.Chem.rdchem.Mol at 0x7f2f73c3aeb0>)]"
      ]
     },
     "execution_count": 38,
     "metadata": {},
     "output_type": "execute_result"
    }
   ],
   "source": [
    "make_mols([\"[CH2:1].C=C>>[C:1]1CC1\"], [True], [True], [True], [True])"
   ]
  },
  {
   "cell_type": "code",
   "execution_count": 36,
   "metadata": {},
   "outputs": [
    {
     "data": {
      "image/png": "[encoded data removed]",
      "text/plain": [
       "<rdkit.Chem.rdchem.Mol at 0x7f2f73c3a190>"
      ]
     },
     "execution_count": 36,
     "metadata": {},
     "output_type": "execute_result"
    }
   ],
   "source": [
    "make_mol(\"[CH2:1].C=C>>[C:1]1CC1\".split(\">\")[0], True, True, True)"
   ]
  },
  {
   "cell_type": "code",
   "execution_count": null,
   "metadata": {},
   "outputs": [],
   "source": []
  }
 ],
 "metadata": {
  "kernelspec": {
   "display_name": "chem",
   "language": "python",
   "name": "python3"
  },
  "language_info": {
   "codemirror_mode": {
    "name": "ipython",
    "version": 3
   },
   "file_extension": ".py",
   "mimetype": "text/x-python",
   "name": "python",
   "nbconvert_exporter": "python",
   "pygments_lexer": "ipython3",
   "version": "3.8.17"
  },
  "orig_nbformat": 4
 },
 "nbformat": 4,
 "nbformat_minor": 2
}

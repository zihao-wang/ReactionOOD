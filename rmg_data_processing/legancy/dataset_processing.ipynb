{
 "cells": [
  {
   "cell_type": "code",
   "execution_count": 1,
   "id": "97e17da0",
   "metadata": {},
   "outputs": [],
   "source": [
    "import os\n",
    "import pickle\n",
    "from tqdm import tqdm\n",
    "\n",
    "from rmgpy.molecule.molecule import Molecule\n",
    "from rmgpy.molecule.translator import to_smiles"
   ]
  },
  {
   "cell_type": "code",
   "execution_count": 2,
   "id": "92fc03da-042f-4fc3-b020-d734c819a1d3",
   "metadata": {},
   "outputs": [],
   "source": [
    "import numpy as np\n",
    "\n",
    "import pandas as pd\n",
    "\n",
    "import matplotlib.pyplot as plt"
   ]
  },
  {
   "cell_type": "code",
   "execution_count": 3,
   "id": "a969a6ff",
   "metadata": {},
   "outputs": [],
   "source": [
    "path_prefix = \"/rmg/RMG-database/input/kinetics/\""
   ]
  },
  {
   "cell_type": "markdown",
   "id": "1ea5c486",
   "metadata": {},
   "source": [
    "# process all molecule smiles"
   ]
  },
  {
   "cell_type": "code",
   "execution_count": 4,
   "id": "7d433ab4",
   "metadata": {
    "scrolled": true,
    "tags": []
   },
   "outputs": [
    {
     "name": "stderr",
     "output_type": "stream",
     "text": [
      "  0%|                                                                                                                                         | 0/144 [00:00<?, ?it/s]"
     ]
    },
    {
     "name": "stdout",
     "output_type": "stream",
     "text": [
      "/rmg/RMG-database/input/kinetics/families/1,2_Insertion_carbene/NIST/dictionary.txt\n",
      "/rmg/RMG-database/input/kinetics/families/1,2_Insertion_carbene/training/dictionary.txt\n",
      "/rmg/RMG-database/input/kinetics/families/Peroxyl_Termination/training/dictionary.txt\n",
      "/rmg/RMG-database/input/kinetics/families/Bimolec_Hydroperoxide_Decomposition/training/dictionary.txt\n",
      "/rmg/RMG-database/input/kinetics/families/Surface_Adsorption_Dissociative_Double/training/dictionary.txt\n",
      "/rmg/RMG-database/input/kinetics/families/Surface_Abstraction/training/dictionary.txt\n",
      "/rmg/RMG-database/input/kinetics/families/halocarbene_recombination_double/training/dictionary.txt\n",
      "/rmg/RMG-database/input/kinetics/families/1,2_Insertion_CO/NIST/dictionary.txt\n",
      "/rmg/RMG-database/input/kinetics/families/1,2_Insertion_CO/training/dictionary.txt\n",
      "/rmg/RMG-database/input/kinetics/families/Cyclic_Thioether_Formation/NIST/dictionary.txt\n",
      "/rmg/RMG-database/input/kinetics/families/Cyclic_Thioether_Formation/training/dictionary.txt\n",
      "/rmg/RMG-database/input/kinetics/families/intra_OH_migration/NIST/dictionary.txt\n",
      "/rmg/RMG-database/input/kinetics/families/intra_OH_migration/training/dictionary.txt\n",
      "/rmg/RMG-database/input/kinetics/families/Korcek_step2/NIST/dictionary.txt\n",
      "/rmg/RMG-database/input/kinetics/families/Korcek_step2/training/dictionary.txt\n",
      "/rmg/RMG-database/input/kinetics/families/intra_H_migration/NIST/dictionary.txt\n",
      "/rmg/RMG-database/input/kinetics/families/intra_H_migration/training/dictionary.txt\n"
     ]
    },
    {
     "name": "stderr",
     "output_type": "stream",
     "text": [
      " 12%|███████████████                                                                                                                 | 17/144 [00:00<00:02, 44.44it/s]"
     ]
    },
    {
     "name": "stdout",
     "output_type": "stream",
     "text": [
      "/rmg/RMG-database/input/kinetics/families/Surface_Adsorption_Dissociative/training/dictionary.txt\n",
      "/rmg/RMG-database/input/kinetics/families/Cyclopentadiene_scission/training/dictionary.txt\n",
      "/rmg/RMG-database/input/kinetics/families/Baeyer-Villiger_step1_cat/training/dictionary.txt\n",
      "/rmg/RMG-database/input/kinetics/families/Surface_Addition_Single_vdW/training/dictionary.txt\n",
      "/rmg/RMG-database/input/kinetics/families/Baeyer-Villiger_step2_cat/training/dictionary.txt\n",
      "/rmg/RMG-database/input/kinetics/families/Intra_R_Add_Exocyclic/NIST/dictionary.txt\n",
      "/rmg/RMG-database/input/kinetics/families/Intra_R_Add_Exocyclic/training/dictionary.txt\n"
     ]
    },
    {
     "name": "stderr",
     "output_type": "stream",
     "text": [
      " 29%|█████████████████████████████████████▎                                                                                          | 42/144 [00:00<00:01, 54.53it/s]"
     ]
    },
    {
     "name": "stdout",
     "output_type": "stream",
     "text": [
      "/rmg/RMG-database/input/kinetics/families/Surface_vdW_to_Bidentate/training/dictionary.txt\n",
      "/rmg/RMG-database/input/kinetics/families/Diels_alder_addition/NIST/dictionary.txt\n",
      "/rmg/RMG-database/input/kinetics/families/Diels_alder_addition/training/dictionary.txt\n",
      "/rmg/RMG-database/input/kinetics/families/intra_substitutionCS_cyclization/NIST/dictionary.txt\n",
      "/rmg/RMG-database/input/kinetics/families/intra_substitutionCS_cyclization/training/dictionary.txt\n",
      "/rmg/RMG-database/input/kinetics/families/1,2_NH3_elimination/training/dictionary.txt\n",
      "/rmg/RMG-database/input/kinetics/families/1,3_sigmatropic_rearrangement/NIST/dictionary.txt\n",
      "/rmg/RMG-database/input/kinetics/families/1,3_sigmatropic_rearrangement/training/dictionary.txt\n",
      "/rmg/RMG-database/input/kinetics/families/CO_Disproportionation/training/dictionary.txt\n",
      "/rmg/RMG-database/input/kinetics/families/1,3_NH3_elimination/training/dictionary.txt\n",
      "/rmg/RMG-database/input/kinetics/families/Surface_DoubleBond_to_Bidentate/training/dictionary.txt\n",
      "/rmg/RMG-database/input/kinetics/families/Birad_recombination/NIST/dictionary.txt\n",
      "/rmg/RMG-database/input/kinetics/families/Birad_recombination/training/dictionary.txt\n",
      "/rmg/RMG-database/input/kinetics/families/Surface_Bidentate_Dissociation/training/dictionary.txt\n",
      "/rmg/RMG-database/input/kinetics/families/Br_Abstraction/training/dictionary.txt\n",
      "/rmg/RMG-database/input/kinetics/families/Intra_Diels_alder_monocyclic/training/dictionary.txt\n",
      "/rmg/RMG-database/input/kinetics/families/Cyclic_Ether_Formation/NIST/dictionary.txt\n",
      "/rmg/RMG-database/input/kinetics/families/Cyclic_Ether_Formation/training/dictionary.txt\n",
      "/rmg/RMG-database/input/kinetics/families/1,2_shiftS/NIST/dictionary.txt\n",
      "/rmg/RMG-database/input/kinetics/families/1,2_shiftS/training/dictionary.txt\n",
      "/rmg/RMG-database/input/kinetics/families/1,3_Insertion_CO2/NIST/dictionary.txt\n",
      "/rmg/RMG-database/input/kinetics/families/1,3_Insertion_CO2/training/dictionary.txt\n",
      "/rmg/RMG-database/input/kinetics/families/Disproportionation-Y/training/dictionary.txt\n",
      "/rmg/RMG-database/input/kinetics/families/Surface_Migration/training/dictionary.txt\n",
      "/rmg/RMG-database/input/kinetics/families/Baeyer-Villiger_step2/training/dictionary.txt\n",
      "/rmg/RMG-database/input/kinetics/families/R_Addition_CSm/NIST/dictionary.txt\n",
      "/rmg/RMG-database/input/kinetics/families/R_Addition_CSm/training/dictionary.txt\n",
      "/rmg/RMG-database/input/kinetics/families/Surface_Dual_Adsorption_vdW/training/dictionary.txt\n",
      "/rmg/RMG-database/input/kinetics/families/HO2_Elimination_from_PeroxyRadical/NIST/dictionary.txt\n",
      "/rmg/RMG-database/input/kinetics/families/HO2_Elimination_from_PeroxyRadical/training/dictionary.txt\n",
      "/rmg/RMG-database/input/kinetics/families/intra_substitutionS_cyclization/NIST/dictionary.txt\n",
      "/rmg/RMG-database/input/kinetics/families/intra_substitutionS_cyclization/training/dictionary.txt\n",
      "/rmg/RMG-database/input/kinetics/families/Surface_Dissociation_Double_vdW/training/dictionary.txt\n",
      "/rmg/RMG-database/input/kinetics/families/Korcek_step1/NIST/dictionary.txt\n",
      "/rmg/RMG-database/input/kinetics/families/Korcek_step1/training/dictionary.txt\n",
      "/rmg/RMG-database/input/kinetics/families/Disproportionation/NIST/dictionary.txt\n",
      "/rmg/RMG-database/input/kinetics/families/Disproportionation/training/dictionary.txt\n",
      "/rmg/RMG-database/input/kinetics/families/intra_substitutionCS_isomerization/NIST/dictionary.txt\n",
      "/rmg/RMG-database/input/kinetics/families/intra_substitutionCS_isomerization/training/dictionary.txt\n",
      "/rmg/RMG-database/input/kinetics/families/R_Addition_MultipleBond/NIST/dictionary.txt\n"
     ]
    },
    {
     "name": "stderr",
     "output_type": "stream",
     "text": [
      " 44%|████████████████████████████████████████████████████████▉                                                                       | 64/144 [00:01<00:01, 79.26it/s]"
     ]
    },
    {
     "name": "stdout",
     "output_type": "stream",
     "text": [
      "/rmg/RMG-database/input/kinetics/families/R_Addition_MultipleBond/training/dictionary.txt\n"
     ]
    },
    {
     "name": "stderr",
     "output_type": "stream",
     "text": [
      " 53%|███████████████████████████████████████████████████████████████████▌                                                            | 76/144 [00:03<00:04, 15.72it/s]"
     ]
    },
    {
     "name": "stdout",
     "output_type": "stream",
     "text": [
      "/rmg/RMG-database/input/kinetics/families/Surface_Adsorption_vdW/training/dictionary.txt\n",
      "/rmg/RMG-database/input/kinetics/families/Surface_Dissociation/training/dictionary.txt\n",
      "/rmg/RMG-database/input/kinetics/families/SubstitutionS/NIST/dictionary.txt\n",
      "/rmg/RMG-database/input/kinetics/families/SubstitutionS/training/dictionary.txt\n",
      "/rmg/RMG-database/input/kinetics/families/Retroene/training/dictionary.txt\n",
      "/rmg/RMG-database/input/kinetics/families/XY_elimination_hydroxyl/training/dictionary.txt\n",
      "/rmg/RMG-database/input/kinetics/families/2+2_cycloaddition/NIST/dictionary.txt\n",
      "/rmg/RMG-database/input/kinetics/families/2+2_cycloaddition/training/dictionary.txt\n",
      "/rmg/RMG-database/input/kinetics/families/Intra_Disproportionation/NIST/dictionary.txt\n",
      "/rmg/RMG-database/input/kinetics/families/Intra_Disproportionation/training/dictionary.txt\n",
      "/rmg/RMG-database/input/kinetics/families/R_Addition_COm/NIST/dictionary.txt\n",
      "/rmg/RMG-database/input/kinetics/families/R_Addition_COm/training/dictionary.txt\n",
      "/rmg/RMG-database/input/kinetics/families/Surface_Abstraction_vdW/training/dictionary.txt\n",
      "/rmg/RMG-database/input/kinetics/families/Surface_Adsorption_Single/training/dictionary.txt\n",
      "/rmg/RMG-database/input/kinetics/families/Cl_Abstraction/training/dictionary.txt\n"
     ]
    },
    {
     "name": "stderr",
     "output_type": "stream",
     "text": [
      " 60%|████████████████████████████████████████████████████████████████████████████▍                                                   | 86/144 [00:03<00:03, 19.01it/s]"
     ]
    },
    {
     "name": "stdout",
     "output_type": "stream",
     "text": [
      "/rmg/RMG-database/input/kinetics/families/Surface_Dissociation_vdW/training/dictionary.txt\n",
      "/rmg/RMG-database/input/kinetics/families/Surface_Dissociation_to_Bidentate/training/dictionary.txt\n",
      "/rmg/RMG-database/input/kinetics/families/Diels_alder_addition_Aromatic/training/dictionary.txt\n",
      "/rmg/RMG-database/input/kinetics/families/1,2-Birad_to_alkene/NIST/dictionary.txt\n",
      "/rmg/RMG-database/input/kinetics/families/1,2-Birad_to_alkene/training/dictionary.txt\n",
      "/rmg/RMG-database/input/kinetics/families/H_Abstraction/NIST/dictionary.txt\n",
      "/rmg/RMG-database/input/kinetics/families/H_Abstraction/training/dictionary.txt\n"
     ]
    },
    {
     "name": "stderr",
     "output_type": "stream",
     "text": [
      " 65%|██████████████████████████████████████████████████████████████████████████████████▋                                             | 93/144 [00:03<00:02, 21.66it/s]"
     ]
    },
    {
     "name": "stdout",
     "output_type": "stream",
     "text": [
      "/rmg/RMG-database/input/kinetics/families/Surface_Adsorption_Bidentate/training/dictionary.txt\n",
      "/rmg/RMG-database/input/kinetics/families/Intra_R_Add_Exo_scission/training/dictionary.txt\n",
      "/rmg/RMG-database/input/kinetics/families/intra_NO2_ONO_conversion/NIST/dictionary.txt\n",
      "/rmg/RMG-database/input/kinetics/families/intra_NO2_ONO_conversion/training/dictionary.txt\n",
      "/rmg/RMG-database/input/kinetics/families/Intra_Retro_Diels_alder_bicyclic/training/dictionary.txt\n",
      "/rmg/RMG-database/input/kinetics/families/1,4_Linear_birad_scission/training/dictionary.txt\n",
      "/rmg/RMG-database/input/kinetics/families/Intra_R_Add_Endocyclic/NIST/dictionary.txt\n",
      "/rmg/RMG-database/input/kinetics/families/Intra_R_Add_Endocyclic/training/dictionary.txt\n"
     ]
    },
    {
     "name": "stderr",
     "output_type": "stream",
     "text": [
      " 69%|████████████████████████████████████████████████████████████████████████████████████████                                        | 99/144 [00:04<00:03, 13.27it/s]"
     ]
    },
    {
     "name": "stdout",
     "output_type": "stream",
     "text": [
      "/rmg/RMG-database/input/kinetics/families/Intra_RH_Add_Endocyclic/NIST/dictionary.txt\n",
      "/rmg/RMG-database/input/kinetics/families/Intra_RH_Add_Endocyclic/training/dictionary.txt\n",
      "/rmg/RMG-database/input/kinetics/families/R_Recombination/NIST/dictionary.txt\n",
      "/rmg/RMG-database/input/kinetics/families/R_Recombination/training/dictionary.txt\n"
     ]
    },
    {
     "name": "stderr",
     "output_type": "stream",
     "text": [
      " 88%|███████████████████████████████████████████████████████████████████████████████████████████████████████████████▏               | 126/144 [00:04<00:00, 28.06it/s]"
     ]
    },
    {
     "name": "stdout",
     "output_type": "stream",
     "text": [
      "/rmg/RMG-database/input/kinetics/families/Surface_Abstraction_Single_vdW/training/dictionary.txt\n",
      "/rmg/RMG-database/input/kinetics/families/intra_substitutionS_isomerization/NIST/dictionary.txt\n",
      "/rmg/RMG-database/input/kinetics/families/intra_substitutionS_isomerization/training/dictionary.txt\n",
      "/rmg/RMG-database/input/kinetics/families/H2_Loss/training/dictionary.txt\n",
      "/rmg/RMG-database/input/kinetics/families/Surface_Dissociation_Beta/training/dictionary.txt\n",
      "/rmg/RMG-database/input/kinetics/families/1,3_Insertion_RSR/NIST/dictionary.txt\n",
      "/rmg/RMG-database/input/kinetics/families/1,3_Insertion_RSR/training/dictionary.txt\n",
      "/rmg/RMG-database/input/kinetics/families/Peroxyl_Disproportionation/training/dictionary.txt\n",
      "/rmg/RMG-database/input/kinetics/families/1,4_Cyclic_birad_scission/training/dictionary.txt\n",
      "/rmg/RMG-database/input/kinetics/families/Singlet_Val6_to_triplet/NIST/dictionary.txt\n",
      "/rmg/RMG-database/input/kinetics/families/Singlet_Val6_to_triplet/training/dictionary.txt\n",
      "/rmg/RMG-database/input/kinetics/families/Intra_R_Add_ExoTetCyclic/NIST/dictionary.txt\n",
      "/rmg/RMG-database/input/kinetics/families/Intra_R_Add_ExoTetCyclic/training/dictionary.txt\n",
      "/rmg/RMG-database/input/kinetics/families/lone_electron_pair_bond/NIST/dictionary.txt\n",
      "/rmg/RMG-database/input/kinetics/families/lone_electron_pair_bond/training/dictionary.txt\n",
      "/rmg/RMG-database/input/kinetics/families/Korcek_step1_cat/training/dictionary.txt\n",
      "/rmg/RMG-database/input/kinetics/families/intra_halogen_migration/training/dictionary.txt\n",
      "/rmg/RMG-database/input/kinetics/families/Concerted_Intra_Diels_alder_monocyclic_1,2_shiftH/training/dictionary.txt\n",
      "/rmg/RMG-database/input/kinetics/families/F_Abstraction/training/dictionary.txt\n",
      "/rmg/RMG-database/input/kinetics/families/Surface_EleyRideal_Addition_Multiple_Bond/training/dictionary.txt\n",
      "/rmg/RMG-database/input/kinetics/families/Intra_2+2_cycloaddition_Cd/training/dictionary.txt\n",
      "/rmg/RMG-database/input/kinetics/families/1+2_Cycloaddition/NIST/dictionary.txt\n",
      "/rmg/RMG-database/input/kinetics/families/1+2_Cycloaddition/training/dictionary.txt\n",
      "/rmg/RMG-database/input/kinetics/families/Surface_Abstraction_Beta/training/dictionary.txt\n",
      "/rmg/RMG-database/input/kinetics/families/6_membered_central_C-C_shift/training/dictionary.txt\n",
      "/rmg/RMG-database/input/kinetics/families/Substitution_O/NIST/dictionary.txt\n",
      "/rmg/RMG-database/input/kinetics/families/Substitution_O/training/dictionary.txt\n",
      "/rmg/RMG-database/input/kinetics/families/halocarbene_recombination/training/dictionary.txt\n",
      "/rmg/RMG-database/input/kinetics/families/Ketoenol/NIST/dictionary.txt\n",
      "/rmg/RMG-database/input/kinetics/families/Ketoenol/training/dictionary.txt\n",
      "/rmg/RMG-database/input/kinetics/families/XY_Addition_MultipleBond/training/dictionary.txt\n",
      "/rmg/RMG-database/input/kinetics/families/1,3_Insertion_ROR/NIST/dictionary.txt\n",
      "/rmg/RMG-database/input/kinetics/families/1,3_Insertion_ROR/training/dictionary.txt\n"
     ]
    },
    {
     "name": "stderr",
     "output_type": "stream",
     "text": [
      "100%|███████████████████████████████████████████████████████████████████████████████████████████████████████████████████████████████| 144/144 [00:05<00:00, 28.03it/s]\n"
     ]
    },
    {
     "name": "stdout",
     "output_type": "stream",
     "text": [
      "/rmg/RMG-database/input/kinetics/families/Surface_Abstraction_Beta_double_vdW/training/dictionary.txt\n",
      "/rmg/RMG-database/input/kinetics/families/Intra_ene_reaction/training/dictionary.txt\n",
      "/rmg/RMG-database/input/kinetics/families/Intra_RH_Add_Exocyclic/NIST/dictionary.txt\n",
      "/rmg/RMG-database/input/kinetics/families/Intra_RH_Add_Exocyclic/training/dictionary.txt\n",
      "/rmg/RMG-database/input/kinetics/families/1,2_shiftC/training/dictionary.txt\n",
      "/rmg/RMG-database/input/kinetics/families/1,2_XY_interchange/training/dictionary.txt\n",
      "/rmg/RMG-database/input/kinetics/families/Surface_Adsorption_Double/training/dictionary.txt\n",
      "/rmg/RMG-database/input/kinetics/families/Surface_Adsorption_Abstraction_vdW/training/dictionary.txt\n",
      "/rmg/RMG-database/input/kinetics/families/Intra_5_membered_conjugated_C=C_C=C_addition/training/dictionary.txt\n",
      "/rmg/RMG-database/input/kinetics/families/Singlet_Carbene_Intra_Disproportionation/training/dictionary.txt\n",
      "/rmg/RMG-database/input/kinetics/families/Birad_R_Recombination/NIST/dictionary.txt\n",
      "/rmg/RMG-database/input/kinetics/families/Birad_R_Recombination/training/dictionary.txt\n"
     ]
    },
    {
     "name": "stderr",
     "output_type": "stream",
     "text": [
      "  3%|███▋                                                                                                                             | 5/174 [00:00<00:03, 47.60it/s]"
     ]
    },
    {
     "name": "stdout",
     "output_type": "stream",
     "text": [
      "/rmg/RMG-database/input/kinetics/libraries/Nitrogen_Glarborg_Lucassen_et_al/dictionary.txt\n",
      "/rmg/RMG-database/input/kinetics/libraries/Nitrogen_Glarborg_Zhang_et_al/dictionary.txt\n",
      "/rmg/RMG-database/input/kinetics/libraries/primaryNitrogenLibrary/dictionary.txt\n",
      "/rmg/RMG-database/input/kinetics/libraries/primaryNitrogenLibrary/LowT/dictionary.txt\n",
      "/rmg/RMG-database/input/kinetics/libraries/Chernov/dictionary.txt\n",
      "/rmg/RMG-database/input/kinetics/libraries/CurranPentane/dictionary.txt\n"
     ]
    },
    {
     "name": "stderr",
     "output_type": "stream",
     "text": [
      "  8%|██████████▎                                                                                                                     | 14/174 [00:00<00:05, 28.02it/s]"
     ]
    },
    {
     "name": "stdout",
     "output_type": "stream",
     "text": [
      "/rmg/RMG-database/input/kinetics/libraries/2001_Tokmakov_H_Toluene_to_CH3_Benzene/dictionary.txt\n",
      "/rmg/RMG-database/input/kinetics/libraries/Ethylamine/dictionary.txt\n",
      "/rmg/RMG-database/input/kinetics/libraries/Fulvene_H/dictionary.txt\n",
      "/rmg/RMG-database/input/kinetics/libraries/2006_Joshi_OH_CO/dictionary.txt\n",
      "/rmg/RMG-database/input/kinetics/libraries/naphthalene_H/dictionary.txt\n",
      "/rmg/RMG-database/input/kinetics/libraries/TEOS/dictionary.txt\n",
      "/rmg/RMG-database/input/kinetics/libraries/DTU_mech_CH3Cl/dictionary.txt\n",
      "/rmg/RMG-database/input/kinetics/libraries/Dooley/methylformate_all_ARHEbathgas/dictionary.txt\n",
      "/rmg/RMG-database/input/kinetics/libraries/Dooley/methylformate_all_N2bathgas/dictionary.txt\n",
      "/rmg/RMG-database/input/kinetics/libraries/Dooley/C1/dictionary.txt\n",
      "/rmg/RMG-database/input/kinetics/libraries/Dooley/methylformate_2/dictionary.txt\n"
     ]
    },
    {
     "name": "stderr",
     "output_type": "stream",
     "text": [
      " 32%|████████████████████████████████████████▊                                                                                      | 56/174 [00:00<00:00, 124.84it/s]"
     ]
    },
    {
     "name": "stdout",
     "output_type": "stream",
     "text": [
      "/rmg/RMG-database/input/kinetics/libraries/Dooley/methylformate/dictionary.txt\n",
      "/rmg/RMG-database/input/kinetics/libraries/primaryH2O2/dictionary.txt\n",
      "/rmg/RMG-database/input/kinetics/libraries/2009_Sharma_C5H5_CH3_highP/dictionary.txt\n",
      "/rmg/RMG-database/input/kinetics/libraries/Surface/DOC/Mhadeshwar_Pt111/dictionary.txt\n",
      "/rmg/RMG-database/input/kinetics/libraries/Surface/DOC/Nitrogen/dictionary.txt\n",
      "/rmg/RMG-database/input/kinetics/libraries/Surface/DOC/Ishikawa_Rh111/dictionary.txt\n",
      "/rmg/RMG-database/input/kinetics/libraries/Surface/DOC/Arevalo_Pt111/dictionary.txt\n",
      "/rmg/RMG-database/input/kinetics/libraries/Surface/Ammonia/Schneider_Rh211/dictionary.txt\n",
      "/rmg/RMG-database/input/kinetics/libraries/Surface/Ammonia/Offermans_Pt111/dictionary.txt\n",
      "/rmg/RMG-database/input/kinetics/libraries/Surface/Ammonia/Schneider_Pt111/dictionary.txt\n",
      "/rmg/RMG-database/input/kinetics/libraries/Surface/Ammonia/Novell_Rh111/dictionary.txt\n",
      "/rmg/RMG-database/input/kinetics/libraries/Surface/Ammonia/Scheuer_Pt/dictionary.txt\n",
      "/rmg/RMG-database/input/kinetics/libraries/Surface/Ammonia/Duan_Ni111/dictionary.txt\n",
      "/rmg/RMG-database/input/kinetics/libraries/Surface/Ammonia/Novell_Pt111/dictionary.txt\n",
      "/rmg/RMG-database/input/kinetics/libraries/Surface/Ammonia/Schneider_Pt211/dictionary.txt\n",
      "/rmg/RMG-database/input/kinetics/libraries/Surface/Ammonia/Popa_Rh111/dictionary.txt\n",
      "/rmg/RMG-database/input/kinetics/libraries/Surface/Ammonia/Roldan_Ru0001/dictionary.txt\n",
      "/rmg/RMG-database/input/kinetics/libraries/Surface/Ammonia/Rebrov_Pt111/dictionary.txt\n",
      "/rmg/RMG-database/input/kinetics/libraries/Surface/Ammonia/Schneider_Rh111/dictionary.txt\n",
      "/rmg/RMG-database/input/kinetics/libraries/Surface/Ammonia/Schneider_Pd111/dictionary.txt\n",
      "/rmg/RMG-database/input/kinetics/libraries/Surface/Ammonia/Schneider_Pd211/dictionary.txt\n",
      "/rmg/RMG-database/input/kinetics/libraries/Surface/Ammonia/Kraehnert_Pt111/dictionary.txt\n",
      "/rmg/RMG-database/input/kinetics/libraries/Surface/Ammonia/Novell_Pd111/dictionary.txt\n",
      "/rmg/RMG-database/input/kinetics/libraries/Surface/Ammonia/Vlachos_Ru0001/dictionary.txt\n",
      "/rmg/RMG-database/input/kinetics/libraries/Surface/Ammonia/Duan_Ni211/dictionary.txt\n",
      "/rmg/RMG-database/input/kinetics/libraries/Surface/Hydrazine/Roldan_Ir111/dictionary.txt\n",
      "/rmg/RMG-database/input/kinetics/libraries/Surface/Hydrazine/Roldan_Cu111/dictionary.txt\n",
      "/rmg/RMG-database/input/kinetics/libraries/Surface/Methane/Deutschmann_Pt/dictionary.txt\n",
      "/rmg/RMG-database/input/kinetics/libraries/Surface/Methane/Vlachos_Rh/dictionary.txt\n",
      "/rmg/RMG-database/input/kinetics/libraries/Surface/Methane/Vlachos_Pt111/dictionary.txt\n",
      "/rmg/RMG-database/input/kinetics/libraries/Surface/Methane/Deutschmann_Ni/dictionary.txt\n",
      "/rmg/RMG-database/input/kinetics/libraries/Surface/Methane/Deutschmann_Ni_full/dictionary.txt\n",
      "/rmg/RMG-database/input/kinetics/libraries/Surface/Example/dictionary.txt\n",
      "/rmg/RMG-database/input/kinetics/libraries/Surface/CPOX_Pt/Deutschmann2006_adjusted/dictionary.txt\n",
      "/rmg/RMG-database/input/kinetics/libraries/DMSOxy/dictionary.txt\n",
      "/rmg/RMG-database/input/kinetics/libraries/kislovB/dictionary.txt\n",
      "/rmg/RMG-database/input/kinetics/libraries/Methylformate/dictionary.txt\n",
      "/rmg/RMG-database/input/kinetics/libraries/FFCM1(-)/dictionary.txt\n",
      "/rmg/RMG-database/input/kinetics/libraries/C2H2_init/dictionary.txt\n",
      "/rmg/RMG-database/input/kinetics/libraries/ERC-FoundationFuelv0.9/dictionary.txt\n",
      "/rmg/RMG-database/input/kinetics/libraries/JetSurF1.0/dictionary.txt\n"
     ]
    },
    {
     "name": "stderr",
     "output_type": "stream",
     "text": [
      " 41%|████████████████████████████████████████████████████▌                                                                          | 72/174 [00:00<00:00, 102.33it/s]"
     ]
    },
    {
     "name": "stdout",
     "output_type": "stream",
     "text": [
      "/rmg/RMG-database/input/kinetics/libraries/Lai_Hexylbenzene/dictionary.txt\n",
      "/rmg/RMG-database/input/kinetics/libraries/BurkeH2O2inArHe/dictionary.txt\n",
      "/rmg/RMG-database/input/kinetics/libraries/Glarborg/highP/dictionary.txt\n",
      "/rmg/RMG-database/input/kinetics/libraries/Glarborg/C0/dictionary.txt\n",
      "/rmg/RMG-database/input/kinetics/libraries/Glarborg/C1/dictionary.txt\n",
      "/rmg/RMG-database/input/kinetics/libraries/Glarborg/C2/dictionary.txt\n",
      "/rmg/RMG-database/input/kinetics/libraries/Glarborg/C3/dictionary.txt\n",
      "/rmg/RMG-database/input/kinetics/libraries/1989_Stewart_2CH3_to_C2H5_H/dictionary.txt\n",
      "/rmg/RMG-database/input/kinetics/libraries/First_to_Second_Aromatic_Ring/2017_Mebel_C6H5C2H2_C2H2_highP/dictionary.txt\n",
      "/rmg/RMG-database/input/kinetics/libraries/First_to_Second_Aromatic_Ring/2016_Mebel_C10H9_highP/dictionary.txt\n",
      "/rmg/RMG-database/input/kinetics/libraries/First_to_Second_Aromatic_Ring/2012_Matsugi_C3H3_C7H7_highP/dictionary.txt\n",
      "/rmg/RMG-database/input/kinetics/libraries/First_to_Second_Aromatic_Ring/2016_Mebel_Indene_CH3_highP/dictionary.txt\n",
      "/rmg/RMG-database/input/kinetics/libraries/First_to_Second_Aromatic_Ring/2017_Buras_C6H5_C3H6_highP/dictionary.txt\n",
      "/rmg/RMG-database/input/kinetics/libraries/First_to_Second_Aromatic_Ring/2005_Ismail_C6H5_C4H6_highP/dictionary.txt\n",
      "/rmg/RMG-database/input/kinetics/libraries/First_to_Second_Aromatic_Ring/2017_Mebel_C6H4C2H_C2H2_highP/dictionary.txt\n",
      "/rmg/RMG-database/input/kinetics/libraries/First_to_Second_Aromatic_Ring/phenyl_diacetylene_effective/dictionary.txt\n",
      "/rmg/RMG-database/input/kinetics/libraries/First_to_Second_Aromatic_Ring/2017_Mebel_C6H5_C2H2_highP/dictionary.txt\n",
      "/rmg/RMG-database/input/kinetics/libraries/First_to_Second_Aromatic_Ring/2016_Mebel_C9H9_highP/dictionary.txt\n",
      "/rmg/RMG-database/input/kinetics/libraries/First_to_Second_Aromatic_Ring/2017_Mebel_C6H5_C4H4_highP/dictionary.txt\n",
      "/rmg/RMG-database/input/kinetics/libraries/2003_Miller_Propargyl_Recomb_High_P/dictionary.txt\n",
      "/rmg/RMG-database/input/kinetics/libraries/CF2BrCl/dictionary.txt\n"
     ]
    },
    {
     "name": "stderr",
     "output_type": "stream",
     "text": [
      " 49%|██████████████████████████████████████████████████████████████▌                                                                 | 85/174 [00:01<00:00, 93.04it/s]"
     ]
    },
    {
     "name": "stdout",
     "output_type": "stream",
     "text": [
      "/rmg/RMG-database/input/kinetics/libraries/Nitrogen_Dean_and_Bozzelli/dictionary.txt\n",
      "/rmg/RMG-database/input/kinetics/libraries/NOx2018/dictionary.txt\n",
      "/rmg/RMG-database/input/kinetics/libraries/2015_Buras_C2H3_C4H6_highP/dictionary.txt\n",
      "/rmg/RMG-database/input/kinetics/libraries/combustion_core/version4/dictionary.txt\n",
      "/rmg/RMG-database/input/kinetics/libraries/combustion_core/version3/dictionary.txt\n",
      "/rmg/RMG-database/input/kinetics/libraries/combustion_core/version2/dictionary.txt\n",
      "/rmg/RMG-database/input/kinetics/libraries/combustion_core/version5/dictionary.txt\n",
      "/rmg/RMG-database/input/kinetics/libraries/GRI-Mech3.0-N/dictionary.txt\n",
      "/rmg/RMG-database/input/kinetics/libraries/N-S_interactions/dictionary.txt\n",
      "/rmg/RMG-database/input/kinetics/libraries/YF/seed/dictionary.txt\n",
      "/rmg/RMG-database/input/kinetics/libraries/YF/full/dictionary.txt\n",
      "/rmg/RMG-database/input/kinetics/libraries/HydrazinePDep/dictionary.txt\n",
      "/rmg/RMG-database/input/kinetics/libraries/GRI-Mech3.0/dictionary.txt\n",
      "/rmg/RMG-database/input/kinetics/libraries/c-C5H5_CH3_Sharma/dictionary.txt\n",
      "/rmg/RMG-database/input/kinetics/libraries/Mebel_C6H5_C2H2/dictionary.txt\n",
      "/rmg/RMG-database/input/kinetics/libraries/Nitrogen_Glarborg_Gimenez_et_al/dictionary.txt\n",
      "/rmg/RMG-database/input/kinetics/libraries/Klippenstein_Glarborg2016/dictionary.txt\n",
      "/rmg/RMG-database/input/kinetics/libraries/biCPD_H_shift/dictionary.txt\n"
     ]
    },
    {
     "name": "stderr",
     "output_type": "stream",
     "text": [
      " 62%|██████████████████████████████████████████████████████████████████████████████▊                                                | 108/174 [00:01<00:00, 84.49it/s]"
     ]
    },
    {
     "name": "stdout",
     "output_type": "stream",
     "text": [
      "/rmg/RMG-database/input/kinetics/libraries/BurkeH2O2inN2/dictionary.txt\n",
      "/rmg/RMG-database/input/kinetics/libraries/2-BTP/seed/dictionary.txt\n",
      "/rmg/RMG-database/input/kinetics/libraries/2-BTP/full/dictionary.txt\n",
      "/rmg/RMG-database/input/kinetics/libraries/Iodine-R_recombination/dictionary.txt\n",
      "/rmg/RMG-database/input/kinetics/libraries/primarySulfurLibrary/dictionary.txt\n",
      "/rmg/RMG-database/input/kinetics/libraries/Butadiene_Dimerization/dictionary.txt\n",
      "/rmg/RMG-database/input/kinetics/libraries/2005_Senosiain_OH_C2H2/dictionary.txt\n",
      "/rmg/RMG-database/input/kinetics/libraries/Mebel_Naphthyl/dictionary.txt\n",
      "/rmg/RMG-database/input/kinetics/libraries/C2H4+O_Klipp2017/dictionary.txt\n",
      "/rmg/RMG-database/input/kinetics/libraries/Narayanaswamy/dictionary.txt\n",
      "/rmg/RMG-database/input/kinetics/libraries/C12H11_pdep/dictionary.txt\n",
      "/rmg/RMG-database/input/kinetics/libraries/fascella/dictionary.txt\n",
      "/rmg/RMG-database/input/kinetics/libraries/GRI-HCO/dictionary.txt\n",
      "/rmg/RMG-database/input/kinetics/libraries/Sulfur/GlarborgH2S/dictionary.txt\n",
      "/rmg/RMG-database/input/kinetics/libraries/Sulfur/GlarborgH2S/alt/dictionary.txt\n",
      "/rmg/RMG-database/input/kinetics/libraries/Sulfur/DTBS/dictionary.txt\n",
      "/rmg/RMG-database/input/kinetics/libraries/Sulfur/GlarborgMarshall/dictionary.txt\n",
      "/rmg/RMG-database/input/kinetics/libraries/Sulfur/GlarborgNS/dictionary.txt\n",
      "/rmg/RMG-database/input/kinetics/libraries/Sulfur/GlarborgBozzelli/dictionary.txt\n",
      "/rmg/RMG-database/input/kinetics/libraries/Sulfur/Thial_Hydrolysis/dictionary.txt\n",
      "/rmg/RMG-database/input/kinetics/libraries/Sulfur/DMS/dictionary.txt\n",
      "/rmg/RMG-database/input/kinetics/libraries/Sulfur/TP_Song/dictionary.txt\n",
      "/rmg/RMG-database/input/kinetics/libraries/Sulfur/Hexanethial_nr/dictionary.txt\n",
      "/rmg/RMG-database/input/kinetics/libraries/Sulfur/Sendt/dictionary.txt\n",
      "/rmg/RMG-database/input/kinetics/libraries/Sulfur/HSSH_1bar/dictionary.txt\n",
      "/rmg/RMG-database/input/kinetics/libraries/Sulfur/DMDS/dictionary.txt\n",
      "/rmg/RMG-database/input/kinetics/libraries/CH3Cl/dictionary.txt\n"
     ]
    },
    {
     "name": "stderr",
     "output_type": "stream",
     "text": [
      " 72%|███████████████████████████████████████████████████████████████████████████████████████████▏                                   | 125/174 [00:01<00:00, 75.96it/s]"
     ]
    },
    {
     "name": "stdout",
     "output_type": "stream",
     "text": [
      "/rmg/RMG-database/input/kinetics/libraries/JetSurF2.0/dictionary.txt\n",
      "/rmg/RMG-database/input/kinetics/libraries/C10H11/dictionary.txt\n",
      "/rmg/RMG-database/input/kinetics/libraries/C3/dictionary.txt\n"
     ]
    },
    {
     "name": "stderr",
     "output_type": "stream",
     "text": [
      " 83%|█████████████████████████████████████████████████████████████████████████████████████████████████████████▊                     | 145/174 [00:01<00:00, 78.26it/s]\n"
     ]
    },
    {
     "name": "stdout",
     "output_type": "stream",
     "text": [
      "/rmg/RMG-database/input/kinetics/libraries/Aromatics_high_pressure/C9H8_2/dictionary.txt\n",
      "/rmg/RMG-database/input/kinetics/libraries/Aromatics_high_pressure/C9H9_2/dictionary.txt\n",
      "/rmg/RMG-database/input/kinetics/libraries/Aromatics_high_pressure/C10H11_4/dictionary.txt\n",
      "/rmg/RMG-database/input/kinetics/libraries/Aromatics_high_pressure/C10H9_2/dictionary.txt\n",
      "/rmg/RMG-database/input/kinetics/libraries/Aromatics_high_pressure/C10H7/dictionary.txt\n",
      "/rmg/RMG-database/input/kinetics/libraries/Aromatics_high_pressure/C10H9_4/dictionary.txt\n",
      "/rmg/RMG-database/input/kinetics/libraries/Aromatics_high_pressure/C14H11_3/dictionary.txt\n",
      "/rmg/RMG-database/input/kinetics/libraries/Aromatics_high_pressure/C10H9_1/dictionary.txt\n",
      "/rmg/RMG-database/input/kinetics/libraries/Aromatics_high_pressure/C9H9_1/dictionary.txt\n",
      "/rmg/RMG-database/input/kinetics/libraries/Aromatics_high_pressure/C8H7/dictionary.txt\n",
      "/rmg/RMG-database/input/kinetics/libraries/Aromatics_high_pressure/C9H11/dictionary.txt\n",
      "/rmg/RMG-database/input/kinetics/libraries/Aromatics_high_pressure/C10H11_2/dictionary.txt\n",
      "/rmg/RMG-database/input/kinetics/libraries/Aromatics_high_pressure/C10H10_H_abstraction/dictionary.txt\n",
      "/rmg/RMG-database/input/kinetics/libraries/Aromatics_high_pressure/C14H11_4/dictionary.txt\n",
      "/rmg/RMG-database/input/kinetics/libraries/Aromatics_high_pressure/C12H11/dictionary.txt\n",
      "/rmg/RMG-database/input/kinetics/libraries/Aromatics_high_pressure/C9H7/dictionary.txt\n",
      "/rmg/RMG-database/input/kinetics/libraries/Aromatics_high_pressure/C10H10_2/dictionary.txt\n",
      "/rmg/RMG-database/input/kinetics/libraries/Aromatics_high_pressure/C7H8/dictionary.txt\n",
      "/rmg/RMG-database/input/kinetics/libraries/Aromatics_high_pressure/C7H8_H_abstraction/dictionary.txt\n"
     ]
    },
    {
     "ename": "ValueError",
     "evalue": "invalid literal for int() with base 10: 'CH4'",
     "output_type": "error",
     "traceback": [
      "\u001b[0;31m---------------------------------------------------------------------------\u001b[0m",
      "\u001b[0;31mValueError\u001b[0m                                Traceback (most recent call last)",
      "\u001b[0;32m/tmp/ipykernel_489/510581534.py\u001b[0m in \u001b[0;36m<module>\u001b[0;34m\u001b[0m\n\u001b[1;32m     36\u001b[0m         \u001b[0;31m# convert to smiles and append to data\u001b[0m\u001b[0;34m\u001b[0m\u001b[0;34m\u001b[0m\u001b[0;34m\u001b[0m\u001b[0m\n\u001b[1;32m     37\u001b[0m         \u001b[0;32mfor\u001b[0m \u001b[0mi\u001b[0m \u001b[0;32min\u001b[0m \u001b[0mrange\u001b[0m\u001b[0;34m(\u001b[0m\u001b[0mlen\u001b[0m\u001b[0;34m(\u001b[0m\u001b[0madj_lists\u001b[0m\u001b[0;34m)\u001b[0m\u001b[0;34m)\u001b[0m\u001b[0;34m:\u001b[0m\u001b[0;34m\u001b[0m\u001b[0;34m\u001b[0m\u001b[0m\n\u001b[0;32m---> 38\u001b[0;31m             \u001b[0mcc\u001b[0m \u001b[0;34m=\u001b[0m \u001b[0mMolecule\u001b[0m\u001b[0;34m(\u001b[0m\u001b[0;34m)\u001b[0m\u001b[0;34m.\u001b[0m\u001b[0mfrom_adjacency_list\u001b[0m\u001b[0;34m(\u001b[0m\u001b[0madj_lists\u001b[0m\u001b[0;34m[\u001b[0m\u001b[0mi\u001b[0m\u001b[0;34m]\u001b[0m\u001b[0;34m)\u001b[0m\u001b[0;34m\u001b[0m\u001b[0;34m\u001b[0m\u001b[0m\n\u001b[0m\u001b[1;32m     39\u001b[0m             \u001b[0ms\u001b[0m \u001b[0;34m=\u001b[0m \u001b[0mto_smiles\u001b[0m\u001b[0;34m(\u001b[0m\u001b[0mcc\u001b[0m\u001b[0;34m,\u001b[0m\u001b[0mbackend\u001b[0m\u001b[0;34m=\u001b[0m\u001b[0;34m\"openbabel\"\u001b[0m\u001b[0;34m)\u001b[0m\u001b[0;34m\u001b[0m\u001b[0;34m\u001b[0m\u001b[0m\n\u001b[1;32m     40\u001b[0m \u001b[0;34m\u001b[0m\u001b[0m\n",
      "\u001b[0;32m/rmg/RMG-Py/rmgpy/molecule/molecule.cpython-37m-x86_64-linux-gnu.so\u001b[0m in \u001b[0;36mrmgpy.molecule.molecule.Molecule.from_adjacency_list\u001b[0;34m()\u001b[0m\n",
      "\u001b[0;32m/rmg/RMG-Py/rmgpy/molecule/molecule.cpython-37m-x86_64-linux-gnu.so\u001b[0m in \u001b[0;36mrmgpy.molecule.molecule.Molecule.from_adjacency_list\u001b[0;34m()\u001b[0m\n",
      "\u001b[0;32m/rmg/RMG-Py/rmgpy/molecule/adjlist.py\u001b[0m in \u001b[0;36mfrom_adjacency_list\u001b[0;34m(adjlist, group, saturate_h, check_consistency)\u001b[0m\n\u001b[1;32m    600\u001b[0m         \u001b[0;31m# Sometimes these have a trailing period (as if in a numbered list),\u001b[0m\u001b[0;34m\u001b[0m\u001b[0;34m\u001b[0m\u001b[0;34m\u001b[0m\u001b[0m\n\u001b[1;32m    601\u001b[0m         \u001b[0;31m# so remove it just in case\u001b[0m\u001b[0;34m\u001b[0m\u001b[0;34m\u001b[0m\u001b[0;34m\u001b[0m\u001b[0m\n\u001b[0;32m--> 602\u001b[0;31m         \u001b[0maid\u001b[0m \u001b[0;34m=\u001b[0m \u001b[0mint\u001b[0m\u001b[0;34m(\u001b[0m\u001b[0mdata\u001b[0m\u001b[0;34m[\u001b[0m\u001b[0;36m0\u001b[0m\u001b[0;34m]\u001b[0m\u001b[0;34m.\u001b[0m\u001b[0mstrip\u001b[0m\u001b[0;34m(\u001b[0m\u001b[0;34m'.'\u001b[0m\u001b[0;34m)\u001b[0m\u001b[0;34m)\u001b[0m\u001b[0;34m\u001b[0m\u001b[0;34m\u001b[0m\u001b[0m\n\u001b[0m\u001b[1;32m    603\u001b[0m \u001b[0;34m\u001b[0m\u001b[0m\n\u001b[1;32m    604\u001b[0m         \u001b[0;31m# If second item starts with '*', then atom is labeled\u001b[0m\u001b[0;34m\u001b[0m\u001b[0;34m\u001b[0m\u001b[0;34m\u001b[0m\u001b[0m\n",
      "\u001b[0;31mValueError\u001b[0m: invalid literal for int() with base 10: 'CH4'"
     ]
    }
   ],
   "source": [
    "for mode in [\"families\", \"libraries\"]:\n",
    "    # find all dictionary.txt files\n",
    "    dict_file_list = []\n",
    "    for root, dirs, files in os.walk(path_prefix + mode):\n",
    "        for file in files:\n",
    "            if file.lower().endswith('.txt') and file == \"dictionary.txt\":\n",
    "                dict_file_list.append(os.path.join(root, file))\n",
    "    \n",
    "    data = [('formula', 'smiles', 'path')]\n",
    "    \n",
    "    # for each file, parse adjacency lists and convert them to smiles\n",
    "    for path in tqdm(dict_file_list):\n",
    "        print(path)\n",
    "        f = open(path, \"r\")\n",
    "        text = f.readlines()\n",
    "\n",
    "        names = []\n",
    "        adj_lists = []\n",
    "\n",
    "        # split adjacency lists \n",
    "        begin = 0\n",
    "\n",
    "        # handle the last compound in the file\n",
    "        if len(text) > 0 and text[-1] != \"\\n\":\n",
    "            text.append(\"\\n\")\n",
    "\n",
    "        for i in range(len(text)):\n",
    "            if text[i] == \"\\n\":\n",
    "                # handle incorrect format for families\n",
    "                if  text[begin] != \"\\n\":\n",
    "                    names.append(text[begin].replace(\"\\n\",\"\").replace(\" \",\"\"))\n",
    "                    adj_lists.append(\"\".join(text[begin+1: i+1]))\n",
    "\n",
    "                begin = i+1\n",
    "\n",
    "        # convert to smiles and append to data\n",
    "        for i in range(len(adj_lists)):\n",
    "            cc = Molecule().from_adjacency_list(adj_lists[i])\n",
    "            s = to_smiles(cc,backend=\"openbabel\")\n",
    "            \n",
    "            data.append((names[i], s, path.replace(path_prefix, \"RMG-database/input/kinetics/\")))\n",
    "            \n",
    "    # store pickle\n",
    "    with open('molecule_smiles_{}.pickle'.format(mode), 'wb') as data_file:\n",
    "        pickle.dump(data, data_file)"
   ]
  },
  {
   "cell_type": "markdown",
   "id": "6121f59c",
   "metadata": {},
   "source": [
    "# process all reaction smiles"
   ]
  },
  {
   "cell_type": "code",
   "execution_count": 5,
   "id": "38be32ea",
   "metadata": {},
   "outputs": [],
   "source": [
    "import codecs\n",
    "import logging\n",
    "import os.path\n",
    "import re\n",
    "from collections import OrderedDict\n",
    "\n",
    "import numpy as np\n",
    "\n",
    "from rmgpy.data.base import DatabaseError, Database, Entry\n",
    "from rmgpy.data.kinetics.common import save_entry\n",
    "from rmgpy.data.kinetics.family import TemplateReaction\n",
    "from rmgpy.kinetics import Arrhenius, ThirdBody, Lindemann, Troe, \\\n",
    "                           PDepArrhenius, MultiArrhenius, MultiPDepArrhenius, Chebyshev \n",
    "from rmgpy.kinetics.surface import StickingCoefficient\n",
    "from rmgpy.molecule import Molecule\n",
    "from rmgpy.reaction import Reaction\n",
    "from rmgpy.species import Species\n",
    "\n",
    "from rmgpy.data.kinetics import *\n",
    "from rmgpy.data.reference import *\n",
    "\n",
    "from rmgpy.kinetics import Arrhenius, ArrheniusEP, ThirdBody, Lindemann, Troe, \\\n",
    "                           PDepArrhenius, MultiArrhenius, MultiPDepArrhenius, \\\n",
    "                           Chebyshev, KineticsData, StickingCoefficient, \\\n",
    "                           StickingCoefficientBEP, SurfaceArrhenius, SurfaceArrheniusBEP, ArrheniusBM"
   ]
  },
  {
   "cell_type": "code",
   "execution_count": 6,
   "id": "5e211062",
   "metadata": {},
   "outputs": [],
   "source": [
    "# changed definition \n",
    "# https://github.com/ReactionMechanismGenerator/RMG-Py/blob/300c78290fdb1e6c928068c0049c7f73093d373d/rmgpy/data/kinetics/library.py#L525\n",
    "def load_entry(\n",
    "                   index,\n",
    "                   label,\n",
    "                   kinetics,\n",
    "                   rank = None,\n",
    "                   degeneracy=1,\n",
    "                   duplicate=False,\n",
    "                   reversible=True,\n",
    "                   reference=None,\n",
    "                   referenceType='',\n",
    "                   shortDesc='',\n",
    "                   longDesc='',\n",
    "                   allow_pdep_route=False,\n",
    "                   elementary_high_p=False,\n",
    "                   allow_max_rate_violation=False,\n",
    "                   metal=None,\n",
    "                   site=None,\n",
    "                   facet=None,\n",
    "                   ):\n",
    "        \"\"\"\n",
    "        Method for parsing entries in database files.\n",
    "        Note that these argument names are retained for backward compatibility.\n",
    "        \"\"\"\n",
    "\n",
    "        # reactants = [Species(label=reactant1.strip().splitlines()[0].strip(), molecule=[Molecule().from_adjacency_list(reactant1)])]\n",
    "        # if reactant2 is not None: reactants.append(Species(label=reactant2.strip().splitlines()[0].strip(), molecule=[Molecule().from_adjacency_list(reactant2)]))\n",
    "        # if reactant3 is not None: reactants.append(Species(label=reactant3.strip().splitlines()[0].strip(), molecule=[Molecule().from_adjacency_list(reactant3)]))\n",
    "        #\n",
    "        # products = [Species(label=product1.strip().splitlines()[0].strip(), molecule=[Molecule().from_adjacency_list(product1)])]\n",
    "        # if product2 is not None: products.append(Species(label=product2.strip().splitlines()[0].strip(), molecule=[Molecule().from_adjacency_list(product2)]))\n",
    "        # if product3 is not None: products.append(Species(label=product3.strip().splitlines()[0].strip(), molecule=[Molecule().from_adjacency_list(product3)]))\n",
    "\n",
    "        # Make a blank reaction\n",
    "        rxn = Reaction(reactants=[], products=[], degeneracy=degeneracy, duplicate=duplicate, reversible=reversible,\n",
    "                       allow_pdep_route=allow_pdep_route, elementary_high_p=elementary_high_p,\n",
    "                       allow_max_rate_violation=allow_max_rate_violation)\n",
    "        # if not rxn.is_balanced():\n",
    "        #    raise DatabaseError('Reaction {0} in kinetics library {1} was not balanced! Please reformulate.'.format(rxn, self.label))\n",
    "        # label = str(rxn)\n",
    "        return Entry(\n",
    "            index=index,\n",
    "            label=label,\n",
    "            item=rxn,\n",
    "            data=kinetics,\n",
    "            reference=reference,\n",
    "            reference_type=referenceType,\n",
    "            short_desc=shortDesc,\n",
    "            long_desc=longDesc.strip(),\n",
    "            metal=metal,\n",
    "            site=site,\n",
    "            facet=facet,\n",
    "        )"
   ]
  },
  {
   "cell_type": "code",
   "execution_count": 8,
   "id": "ac307b6f",
   "metadata": {
    "scrolled": true,
    "tags": []
   },
   "outputs": [
    {
     "name": "stderr",
     "output_type": "stream",
     "text": [
      " 11%|███████████▋                                                                                             | 16/144 [00:00<00:01, 96.16it/s]"
     ]
    },
    {
     "name": "stdout",
     "output_type": "stream",
     "text": [
      "/rmg/RMG-database/input/kinetics/families/1,2_Insertion_carbene/NIST/reactions.py\n",
      "/rmg/RMG-database/input/kinetics/families/1,2_Insertion_carbene/training/reactions.py\n",
      "/rmg/RMG-database/input/kinetics/families/Peroxyl_Termination/training/reactions.py\n",
      "/rmg/RMG-database/input/kinetics/families/Bimolec_Hydroperoxide_Decomposition/training/reactions.py\n",
      "/rmg/RMG-database/input/kinetics/families/Surface_Adsorption_Dissociative_Double/training/reactions.py\n",
      "/rmg/RMG-database/input/kinetics/families/Surface_Abstraction/training/reactions.py\n",
      "/rmg/RMG-database/input/kinetics/families/halocarbene_recombination_double/training/reactions.py\n",
      "/rmg/RMG-database/input/kinetics/families/1,2_Insertion_CO/NIST/reactions.py\n",
      "/rmg/RMG-database/input/kinetics/families/1,2_Insertion_CO/training/reactions.py\n",
      "/rmg/RMG-database/input/kinetics/families/Cyclic_Thioether_Formation/NIST/reactions.py\n",
      "/rmg/RMG-database/input/kinetics/families/Cyclic_Thioether_Formation/training/reactions.py\n",
      "/rmg/RMG-database/input/kinetics/families/intra_OH_migration/NIST/reactions.py\n",
      "/rmg/RMG-database/input/kinetics/families/intra_OH_migration/training/reactions.py\n",
      "/rmg/RMG-database/input/kinetics/families/Korcek_step2/NIST/reactions.py\n",
      "/rmg/RMG-database/input/kinetics/families/Korcek_step2/training/reactions.py\n",
      "/rmg/RMG-database/input/kinetics/families/intra_H_migration/NIST/reactions.py\n",
      "/rmg/RMG-database/input/kinetics/families/intra_H_migration/training/reactions.py\n",
      "/rmg/RMG-database/input/kinetics/families/Surface_Adsorption_Dissociative/training/reactions.py\n",
      "/rmg/RMG-database/input/kinetics/families/Cyclopentadiene_scission/training/reactions.py\n",
      "/rmg/RMG-database/input/kinetics/families/Baeyer-Villiger_step1_cat/training/reactions.py\n",
      "/rmg/RMG-database/input/kinetics/families/Surface_Addition_Single_vdW/training/reactions.py\n",
      "/rmg/RMG-database/input/kinetics/families/Baeyer-Villiger_step2_cat/training/reactions.py\n",
      "/rmg/RMG-database/input/kinetics/families/Intra_R_Add_Exocyclic/NIST/reactions.py\n",
      "/rmg/RMG-database/input/kinetics/families/Intra_R_Add_Exocyclic/training/reactions.py\n"
     ]
    },
    {
     "name": "stderr",
     "output_type": "stream",
     "text": [
      " 26%|██████████████████████████▉                                                                              | 37/144 [00:01<00:04, 23.39it/s]"
     ]
    },
    {
     "name": "stdout",
     "output_type": "stream",
     "text": [
      "/rmg/RMG-database/input/kinetics/families/Surface_vdW_to_Bidentate/training/reactions.py\n",
      "/rmg/RMG-database/input/kinetics/families/Diels_alder_addition/NIST/reactions.py\n",
      "/rmg/RMG-database/input/kinetics/families/Diels_alder_addition/training/reactions.py\n",
      "/rmg/RMG-database/input/kinetics/families/intra_substitutionCS_cyclization/NIST/reactions.py\n",
      "/rmg/RMG-database/input/kinetics/families/intra_substitutionCS_cyclization/training/reactions.py\n",
      "/rmg/RMG-database/input/kinetics/families/1,2_NH3_elimination/training/reactions.py\n",
      "/rmg/RMG-database/input/kinetics/families/1,3_sigmatropic_rearrangement/NIST/reactions.py\n",
      "/rmg/RMG-database/input/kinetics/families/1,3_sigmatropic_rearrangement/training/reactions.py\n",
      "/rmg/RMG-database/input/kinetics/families/CO_Disproportionation/training/reactions.py\n",
      "/rmg/RMG-database/input/kinetics/families/1,3_NH3_elimination/training/reactions.py\n",
      "/rmg/RMG-database/input/kinetics/families/Surface_DoubleBond_to_Bidentate/training/reactions.py\n",
      "/rmg/RMG-database/input/kinetics/families/Birad_recombination/NIST/reactions.py\n",
      "/rmg/RMG-database/input/kinetics/families/Birad_recombination/training/reactions.py\n",
      "/rmg/RMG-database/input/kinetics/families/Surface_Bidentate_Dissociation/training/reactions.py\n",
      "/rmg/RMG-database/input/kinetics/families/Br_Abstraction/training/reactions.py\n"
     ]
    },
    {
     "name": "stderr",
     "output_type": "stream",
     "text": [
      " 31%|████████████████████████████████▊                                                                        | 45/144 [00:01<00:03, 24.90it/s]"
     ]
    },
    {
     "name": "stdout",
     "output_type": "stream",
     "text": [
      "/rmg/RMG-database/input/kinetics/families/Intra_Diels_alder_monocyclic/training/reactions.py\n",
      "/rmg/RMG-database/input/kinetics/families/Cyclic_Ether_Formation/NIST/reactions.py\n",
      "/rmg/RMG-database/input/kinetics/families/Cyclic_Ether_Formation/training/reactions.py\n",
      "/rmg/RMG-database/input/kinetics/families/1,2_shiftS/NIST/reactions.py\n",
      "/rmg/RMG-database/input/kinetics/families/1,2_shiftS/training/reactions.py\n",
      "/rmg/RMG-database/input/kinetics/families/1,3_Insertion_CO2/NIST/reactions.py\n",
      "/rmg/RMG-database/input/kinetics/families/1,3_Insertion_CO2/training/reactions.py\n",
      "/rmg/RMG-database/input/kinetics/families/Disproportionation-Y/training/reactions.py\n",
      "/rmg/RMG-database/input/kinetics/families/Surface_Migration/training/reactions.py\n",
      "/rmg/RMG-database/input/kinetics/families/Baeyer-Villiger_step2/training/reactions.py\n",
      "/rmg/RMG-database/input/kinetics/families/R_Addition_CSm/NIST/reactions.py\n",
      "/rmg/RMG-database/input/kinetics/families/R_Addition_CSm/training/reactions.py\n",
      "/rmg/RMG-database/input/kinetics/families/Surface_Dual_Adsorption_vdW/training/reactions.py\n"
     ]
    },
    {
     "name": "stderr",
     "output_type": "stream",
     "text": [
      " 36%|█████████████████████████████████████▉                                                                   | 52/144 [00:01<00:03, 30.30it/s]"
     ]
    },
    {
     "name": "stdout",
     "output_type": "stream",
     "text": [
      "/rmg/RMG-database/input/kinetics/families/HO2_Elimination_from_PeroxyRadical/NIST/reactions.py\n",
      "/rmg/RMG-database/input/kinetics/families/HO2_Elimination_from_PeroxyRadical/training/reactions.py\n",
      "/rmg/RMG-database/input/kinetics/families/intra_substitutionS_cyclization/NIST/reactions.py\n",
      "/rmg/RMG-database/input/kinetics/families/intra_substitutionS_cyclization/training/reactions.py\n",
      "/rmg/RMG-database/input/kinetics/families/Surface_Dissociation_Double_vdW/training/reactions.py\n",
      "/rmg/RMG-database/input/kinetics/families/Korcek_step1/NIST/reactions.py\n",
      "/rmg/RMG-database/input/kinetics/families/Korcek_step1/training/reactions.py\n",
      "/rmg/RMG-database/input/kinetics/families/Disproportionation/NIST/reactions.py\n"
     ]
    },
    {
     "name": "stderr",
     "output_type": "stream",
     "text": [
      " 42%|███████████████████████████████████████████▊                                                             | 60/144 [00:02<00:02, 31.51it/s]"
     ]
    },
    {
     "name": "stdout",
     "output_type": "stream",
     "text": [
      "/rmg/RMG-database/input/kinetics/families/Disproportionation/training/reactions.py\n",
      "/rmg/RMG-database/input/kinetics/families/intra_substitutionCS_isomerization/NIST/reactions.py\n",
      "/rmg/RMG-database/input/kinetics/families/intra_substitutionCS_isomerization/training/reactions.py\n",
      "/rmg/RMG-database/input/kinetics/families/R_Addition_MultipleBond/NIST/reactions.py\n",
      "/rmg/RMG-database/input/kinetics/families/R_Addition_MultipleBond/training/reactions.py\n"
     ]
    },
    {
     "name": "stderr",
     "output_type": "stream",
     "text": [
      " 46%|████████████████████████████████████████████████▏                                                        | 66/144 [00:08<00:22,  3.53it/s]"
     ]
    },
    {
     "name": "stdout",
     "output_type": "stream",
     "text": [
      "/rmg/RMG-database/input/kinetics/families/Surface_Adsorption_vdW/training/reactions.py\n",
      "/rmg/RMG-database/input/kinetics/families/Surface_Dissociation/training/reactions.py\n",
      "/rmg/RMG-database/input/kinetics/families/SubstitutionS/NIST/reactions.py\n",
      "/rmg/RMG-database/input/kinetics/families/SubstitutionS/training/reactions.py\n"
     ]
    },
    {
     "name": "stderr",
     "output_type": "stream",
     "text": [
      " 49%|███████████████████████████████████████████████████                                                      | 70/144 [00:08<00:18,  4.09it/s]"
     ]
    },
    {
     "name": "stdout",
     "output_type": "stream",
     "text": [
      "/rmg/RMG-database/input/kinetics/families/Retroene/training/reactions.py\n",
      "/rmg/RMG-database/input/kinetics/families/XY_elimination_hydroxyl/training/reactions.py\n",
      "/rmg/RMG-database/input/kinetics/families/2+2_cycloaddition/NIST/reactions.py\n"
     ]
    },
    {
     "name": "stderr",
     "output_type": "stream",
     "text": [
      " 51%|█████████████████████████████████████████████████████▏                                                   | 73/144 [00:08<00:14,  4.75it/s]"
     ]
    },
    {
     "name": "stdout",
     "output_type": "stream",
     "text": [
      "/rmg/RMG-database/input/kinetics/families/2+2_cycloaddition/training/reactions.py\n",
      "C2H4<=>\n",
      "CH2O + C2H4<=> C3H6O is invalid\n",
      "/rmg/RMG-database/input/kinetics/families/Intra_Disproportionation/NIST/reactions.py\n",
      "/rmg/RMG-database/input/kinetics/families/Intra_Disproportionation/training/reactions.py\n",
      "/rmg/RMG-database/input/kinetics/families/R_Addition_COm/NIST/reactions.py\n",
      "/rmg/RMG-database/input/kinetics/families/R_Addition_COm/training/reactions.py\n",
      "/rmg/RMG-database/input/kinetics/families/Surface_Abstraction_vdW/training/reactions.py\n",
      "/rmg/RMG-database/input/kinetics/families/Surface_Adsorption_Single/training/reactions.py\n",
      "/rmg/RMG-database/input/kinetics/families/Cl_Abstraction/training/reactions.py\n"
     ]
    },
    {
     "name": "stderr",
     "output_type": "stream",
     "text": [
      " 56%|██████████████████████████████████████████████████████████▎                                              | 80/144 [00:09<00:09,  6.43it/s]"
     ]
    },
    {
     "name": "stdout",
     "output_type": "stream",
     "text": [
      "/rmg/RMG-database/input/kinetics/families/Surface_Dissociation_vdW/training/reactions.py\n",
      "/rmg/RMG-database/input/kinetics/families/Surface_Dissociation_to_Bidentate/training/reactions.py\n",
      "/rmg/RMG-database/input/kinetics/families/Diels_alder_addition_Aromatic/training/reactions.py\n",
      "/rmg/RMG-database/input/kinetics/families/1,2-Birad_to_alkene/NIST/reactions.py\n",
      "/rmg/RMG-database/input/kinetics/families/1,2-Birad_to_alkene/training/reactions.py\n",
      "/rmg/RMG-database/input/kinetics/families/H_Abstraction/NIST/reactions.py\n"
     ]
    },
    {
     "name": "stderr",
     "output_type": "stream",
     "text": [
      " 60%|██████████████████████████████████████████████████████████████▋                                          | 86/144 [00:11<00:12,  4.69it/s]"
     ]
    },
    {
     "name": "stdout",
     "output_type": "stream",
     "text": [
      "/rmg/RMG-database/input/kinetics/families/H_Abstraction/training/reactions.py\n"
     ]
    },
    {
     "name": "stderr",
     "output_type": "stream",
     "text": [
      " 61%|████████████████████████████████████████████████████████████████▏                                        | 88/144 [00:16<00:28,  1.97it/s]"
     ]
    },
    {
     "name": "stdout",
     "output_type": "stream",
     "text": [
      "/rmg/RMG-database/input/kinetics/families/Surface_Adsorption_Bidentate/training/reactions.py\n",
      "/rmg/RMG-database/input/kinetics/families/Intra_R_Add_Exo_scission/training/reactions.py\n",
      "/rmg/RMG-database/input/kinetics/families/intra_NO2_ONO_conversion/NIST/reactions.py\n",
      "/rmg/RMG-database/input/kinetics/families/intra_NO2_ONO_conversion/training/reactions.py\n",
      "/rmg/RMG-database/input/kinetics/families/Intra_Retro_Diels_alder_bicyclic/training/reactions.py\n",
      "/rmg/RMG-database/input/kinetics/families/1,4_Linear_birad_scission/training/reactions.py\n",
      "/rmg/RMG-database/input/kinetics/families/Intra_R_Add_Endocyclic/NIST/reactions.py\n",
      "/rmg/RMG-database/input/kinetics/families/Intra_R_Add_Endocyclic/training/reactions.py\n"
     ]
    },
    {
     "name": "stderr",
     "output_type": "stream",
     "text": [
      " 66%|█████████████████████████████████████████████████████████████████████▎                                   | 95/144 [00:17<00:18,  2.58it/s]"
     ]
    },
    {
     "name": "stdout",
     "output_type": "stream",
     "text": [
      "/rmg/RMG-database/input/kinetics/families/Intra_RH_Add_Endocyclic/NIST/reactions.py\n",
      "/rmg/RMG-database/input/kinetics/families/Intra_RH_Add_Endocyclic/training/reactions.py\n",
      "/rmg/RMG-database/input/kinetics/families/R_Recombination/NIST/reactions.py\n"
     ]
    },
    {
     "name": "stderr",
     "output_type": "stream",
     "text": [
      " 68%|███████████████████████████████████████████████████████████████████████▍                                 | 98/144 [00:18<00:16,  2.76it/s]"
     ]
    },
    {
     "name": "stdout",
     "output_type": "stream",
     "text": [
      "/rmg/RMG-database/input/kinetics/families/R_Recombination/training/reactions.py\n"
     ]
    },
    {
     "name": "stderr",
     "output_type": "stream",
     "text": [
      " 69%|████████████████████████████████████████████████████████████████████████▏                                | 99/144 [00:18<00:15,  2.83it/s]"
     ]
    },
    {
     "name": "stdout",
     "output_type": "stream",
     "text": [
      "/rmg/RMG-database/input/kinetics/families/Surface_Abstraction_Single_vdW/training/reactions.py\n",
      "/rmg/RMG-database/input/kinetics/families/intra_substitutionS_isomerization/NIST/reactions.py\n",
      "/rmg/RMG-database/input/kinetics/families/intra_substitutionS_isomerization/training/reactions.py\n",
      "/rmg/RMG-database/input/kinetics/families/H2_Loss/training/reactions.py\n",
      "/rmg/RMG-database/input/kinetics/families/Surface_Dissociation_Beta/training/reactions.py\n",
      "/rmg/RMG-database/input/kinetics/families/1,3_Insertion_RSR/NIST/reactions.py\n",
      "/rmg/RMG-database/input/kinetics/families/1,3_Insertion_RSR/training/reactions.py\n",
      "/rmg/RMG-database/input/kinetics/families/Peroxyl_Disproportionation/training/reactions.py\n",
      "/rmg/RMG-database/input/kinetics/families/1,4_Cyclic_birad_scission/training/reactions.py\n",
      "/rmg/RMG-database/input/kinetics/families/Singlet_Val6_to_triplet/NIST/reactions.py\n",
      "/rmg/RMG-database/input/kinetics/families/Singlet_Val6_to_triplet/training/reactions.py\n",
      "/rmg/RMG-database/input/kinetics/families/Intra_R_Add_ExoTetCyclic/NIST/reactions.py\n",
      "/rmg/RMG-database/input/kinetics/families/Intra_R_Add_ExoTetCyclic/training/reactions.py\n",
      "/rmg/RMG-database/input/kinetics/families/lone_electron_pair_bond/NIST/reactions.py\n",
      "/rmg/RMG-database/input/kinetics/families/lone_electron_pair_bond/training/reactions.py\n",
      "/rmg/RMG-database/input/kinetics/families/Korcek_step1_cat/training/reactions.py\n",
      "/rmg/RMG-database/input/kinetics/families/intra_halogen_migration/training/reactions.py\n",
      "/rmg/RMG-database/input/kinetics/families/Concerted_Intra_Diels_alder_monocyclic_1,2_shiftH/training/reactions.py\n",
      "/rmg/RMG-database/input/kinetics/families/F_Abstraction/training/reactions.py\n",
      "H2CCFCF3+\n",
      "H2CCFCF3+ CF3 <=> H2CCFCF2 + CF4_p23 is invalid\n"
     ]
    },
    {
     "name": "stderr",
     "output_type": "stream",
     "text": [
      " 82%|█████████████████████████████████████████████████████████████████████████████████████▏                  | 118/144 [00:19<00:03,  8.63it/s]"
     ]
    },
    {
     "name": "stdout",
     "output_type": "stream",
     "text": [
      "/rmg/RMG-database/input/kinetics/families/Surface_EleyRideal_Addition_Multiple_Bond/training/reactions.py\n",
      "/rmg/RMG-database/input/kinetics/families/Intra_2+2_cycloaddition_Cd/training/reactions.py\n",
      "/rmg/RMG-database/input/kinetics/families/1+2_Cycloaddition/NIST/reactions.py\n",
      "/rmg/RMG-database/input/kinetics/families/1+2_Cycloaddition/training/reactions.py\n",
      "/rmg/RMG-database/input/kinetics/families/Surface_Abstraction_Beta/training/reactions.py\n",
      "/rmg/RMG-database/input/kinetics/families/6_membered_central_C-C_shift/training/reactions.py\n",
      "/rmg/RMG-database/input/kinetics/families/Substitution_O/NIST/reactions.py\n",
      "/rmg/RMG-database/input/kinetics/families/Substitution_O/training/reactions.py\n"
     ]
    },
    {
     "name": "stderr",
     "output_type": "stream",
     "text": [
      " 88%|███████████████████████████████████████████████████████████████████████████████████████████             | 126/144 [00:19<00:01, 11.13it/s]"
     ]
    },
    {
     "name": "stdout",
     "output_type": "stream",
     "text": [
      "/rmg/RMG-database/input/kinetics/families/halocarbene_recombination/training/reactions.py\n",
      "/rmg/RMG-database/input/kinetics/families/Ketoenol/NIST/reactions.py\n",
      "/rmg/RMG-database/input/kinetics/families/Ketoenol/training/reactions.py\n",
      "/rmg/RMG-database/input/kinetics/families/XY_Addition_MultipleBond/training/reactions.py\n"
     ]
    },
    {
     "name": "stderr",
     "output_type": "stream",
     "text": [
      "100%|████████████████████████████████████████████████████████████████████████████████████████████████████████| 144/144 [00:19<00:00,  7.33it/s]\n"
     ]
    },
    {
     "name": "stdout",
     "output_type": "stream",
     "text": [
      "/rmg/RMG-database/input/kinetics/families/1,3_Insertion_ROR/NIST/reactions.py\n",
      "/rmg/RMG-database/input/kinetics/families/1,3_Insertion_ROR/training/reactions.py\n",
      "/rmg/RMG-database/input/kinetics/families/Surface_Abstraction_Beta_double_vdW/training/reactions.py\n",
      "/rmg/RMG-database/input/kinetics/families/Intra_ene_reaction/training/reactions.py\n",
      "/rmg/RMG-database/input/kinetics/families/Intra_RH_Add_Exocyclic/NIST/reactions.py\n",
      "/rmg/RMG-database/input/kinetics/families/Intra_RH_Add_Exocyclic/training/reactions.py\n",
      "/rmg/RMG-database/input/kinetics/families/1,2_shiftC/training/reactions.py\n",
      "/rmg/RMG-database/input/kinetics/families/1,2_XY_interchange/training/reactions.py\n",
      "/rmg/RMG-database/input/kinetics/families/Surface_Adsorption_Double/training/reactions.py\n",
      "/rmg/RMG-database/input/kinetics/families/Surface_Adsorption_Abstraction_vdW/training/reactions.py\n",
      "/rmg/RMG-database/input/kinetics/families/Intra_5_membered_conjugated_C=C_C=C_addition/training/reactions.py\n",
      "/rmg/RMG-database/input/kinetics/families/Singlet_Carbene_Intra_Disproportionation/training/reactions.py\n",
      "/rmg/RMG-database/input/kinetics/families/Birad_R_Recombination/NIST/reactions.py\n",
      "/rmg/RMG-database/input/kinetics/families/Birad_R_Recombination/training/reactions.py\n"
     ]
    },
    {
     "name": "stderr",
     "output_type": "stream",
     "text": [
      "  0%|                                                                                                                  | 0/174 [00:00<?, ?it/s]"
     ]
    },
    {
     "name": "stdout",
     "output_type": "stream",
     "text": [
      "/rmg/RMG-database/input/kinetics/libraries/Nitrogen_Glarborg_Lucassen_et_al/reactions.py\n"
     ]
    },
    {
     "name": "stderr",
     "output_type": "stream",
     "text": [
      "  1%|▌                                                                                                         | 1/174 [00:00<00:51,  3.33it/s]"
     ]
    },
    {
     "name": "stdout",
     "output_type": "stream",
     "text": [
      "/rmg/RMG-database/input/kinetics/libraries/Nitrogen_Glarborg_Zhang_et_al/reactions.py\n"
     ]
    },
    {
     "name": "stderr",
     "output_type": "stream",
     "text": [
      "  1%|█▏                                                                                                        | 2/174 [00:01<01:37,  1.76it/s]"
     ]
    },
    {
     "name": "stdout",
     "output_type": "stream",
     "text": [
      "/rmg/RMG-database/input/kinetics/libraries/primaryNitrogenLibrary/reactions.py\n"
     ]
    },
    {
     "name": "stderr",
     "output_type": "stream",
     "text": [
      "  2%|█▊                                                                                                        | 3/174 [00:01<01:19,  2.14it/s]"
     ]
    },
    {
     "name": "stdout",
     "output_type": "stream",
     "text": [
      "/rmg/RMG-database/input/kinetics/libraries/primaryNitrogenLibrary/LowT/reactions.py\n",
      "/rmg/RMG-database/input/kinetics/libraries/Chernov/reactions.py\n"
     ]
    },
    {
     "name": "stderr",
     "output_type": "stream",
     "text": [
      "  3%|███                                                                                                       | 5/174 [00:01<00:51,  3.31it/s]"
     ]
    },
    {
     "name": "stdout",
     "output_type": "stream",
     "text": [
      "/rmg/RMG-database/input/kinetics/libraries/CurranPentane/reactions.py\n"
     ]
    },
    {
     "name": "stderr",
     "output_type": "stream",
     "text": [
      "  3%|███▋                                                                                                      | 6/174 [00:05<03:21,  1.20s/it]"
     ]
    },
    {
     "name": "stdout",
     "output_type": "stream",
     "text": [
      "/rmg/RMG-database/input/kinetics/libraries/2001_Tokmakov_H_Toluene_to_CH3_Benzene/reactions.py\n",
      "/rmg/RMG-database/input/kinetics/libraries/Ethylamine/reactions.py\n",
      "/rmg/RMG-database/input/kinetics/libraries/Fulvene_H/reactions.py\n",
      "/rmg/RMG-database/input/kinetics/libraries/2006_Joshi_OH_CO/reactions.py\n",
      "/rmg/RMG-database/input/kinetics/libraries/naphthalene_H/reactions.py\n",
      "/rmg/RMG-database/input/kinetics/libraries/TEOS/reactions.py\n",
      "/rmg/RMG-database/input/kinetics/libraries/DTU_mech_CH3Cl/reactions.py\n"
     ]
    },
    {
     "name": "stderr",
     "output_type": "stream",
     "text": [
      "  7%|███████▊                                                                                                 | 13/174 [00:05<00:53,  3.00it/s]"
     ]
    },
    {
     "name": "stdout",
     "output_type": "stream",
     "text": [
      "/rmg/RMG-database/input/kinetics/libraries/Dooley/methylformate_all_ARHEbathgas/reactions.py\n",
      "/rmg/RMG-database/input/kinetics/libraries/Dooley/methylformate_all_N2bathgas/reactions.py\n"
     ]
    },
    {
     "name": "stderr",
     "output_type": "stream",
     "text": [
      "  9%|█████████▋                                                                                               | 16/174 [00:09<01:33,  1.69it/s]"
     ]
    },
    {
     "name": "stdout",
     "output_type": "stream",
     "text": [
      "/rmg/RMG-database/input/kinetics/libraries/Dooley/C1/reactions.py\n",
      "/rmg/RMG-database/input/kinetics/libraries/Dooley/methylformate_2/reactions.py\n",
      "/rmg/RMG-database/input/kinetics/libraries/Dooley/methylformate/reactions.py\n"
     ]
    },
    {
     "name": "stderr",
     "output_type": "stream",
     "text": [
      " 14%|███████████████                                                                                          | 25/174 [00:10<00:34,  4.28it/s]"
     ]
    },
    {
     "name": "stdout",
     "output_type": "stream",
     "text": [
      "/rmg/RMG-database/input/kinetics/libraries/primaryH2O2/reactions.py\n",
      "/rmg/RMG-database/input/kinetics/libraries/2009_Sharma_C5H5_CH3_highP/reactions.py\n",
      "/rmg/RMG-database/input/kinetics/libraries/Surface/DOC/Mhadeshwar_Pt111/reactions.py\n",
      "/rmg/RMG-database/input/kinetics/libraries/Surface/DOC/Nitrogen/reactions.py\n",
      "/rmg/RMG-database/input/kinetics/libraries/Surface/DOC/Ishikawa_Rh111/reactions.py\n",
      "/rmg/RMG-database/input/kinetics/libraries/Surface/DOC/Arevalo_Pt111/reactions.py\n",
      "/rmg/RMG-database/input/kinetics/libraries/Surface/Ammonia/Schneider_Rh211/reactions.py\n",
      "+O_X\n",
      "NH3_X +O_X <=> NH2_X + OH_X is invalid\n",
      "+O_X\n",
      "NH2_X +O_X <=> NH_X + OH_X is invalid\n",
      "/rmg/RMG-database/input/kinetics/libraries/Surface/Ammonia/Offermans_Pt111/reactions.py\n",
      "+O_X\n",
      "NH3_X +O_X <=> NH2_X + OH_X is invalid\n",
      "+O_X\n",
      "NH2_X +O_X <=> NH_X + OH_X is invalid\n",
      "/rmg/RMG-database/input/kinetics/libraries/Surface/Ammonia/Schneider_Pt111/reactions.py\n",
      "+O_X\n",
      "NH3_X +O_X <=> NH2_X + OH_X is invalid\n",
      "+O_X\n",
      "NH2_X +O_X <=> NH_X + OH_X is invalid\n",
      "/rmg/RMG-database/input/kinetics/libraries/Surface/Ammonia/Novell_Rh111/reactions.py\n",
      "/rmg/RMG-database/input/kinetics/libraries/Surface/Ammonia/Scheuer_Pt/reactions.py\n",
      "/rmg/RMG-database/input/kinetics/libraries/Surface/Ammonia/Duan_Ni111/reactions.py\n",
      "/rmg/RMG-database/input/kinetics/libraries/Surface/Ammonia/Novell_Pt111/reactions.py\n",
      "/rmg/RMG-database/input/kinetics/libraries/Surface/Ammonia/Schneider_Pt211/reactions.py\n",
      "+O_X\n",
      "NH3_X +O_X <=> NH2_X + OH_X is invalid\n",
      "+O_X\n",
      "NH2_X +O_X <=> NH_X + OH_X is invalid\n",
      "/rmg/RMG-database/input/kinetics/libraries/Surface/Ammonia/Popa_Rh111/reactions.py\n",
      "/rmg/RMG-database/input/kinetics/libraries/Surface/Ammonia/Roldan_Ru0001/reactions.py\n",
      "/rmg/RMG-database/input/kinetics/libraries/Surface/Ammonia/Rebrov_Pt111/reactions.py\n",
      "/rmg/RMG-database/input/kinetics/libraries/Surface/Ammonia/Schneider_Rh111/reactions.py\n",
      "+O_X\n",
      "NH3_X +O_X <=> NH2_X + OH_X is invalid\n",
      "+O_X\n",
      "NH2_X +O_X <=> NH_X + OH_X is invalid\n"
     ]
    },
    {
     "name": "stderr",
     "output_type": "stream",
     "text": [
      " 30%|███████████████████████████████▍                                                                         | 52/174 [00:10<00:06, 18.83it/s]"
     ]
    },
    {
     "name": "stdout",
     "output_type": "stream",
     "text": [
      "/rmg/RMG-database/input/kinetics/libraries/Surface/Ammonia/Schneider_Pd111/reactions.py\n",
      "+O_X\n",
      "NH3_X +O_X <=> NH2_X + OH_X is invalid\n",
      "+O_X\n",
      "NH2_X +O_X <=> NH_X + OH_X is invalid\n",
      "/rmg/RMG-database/input/kinetics/libraries/Surface/Ammonia/Schneider_Pd211/reactions.py\n",
      "+O_X\n",
      "NH3_X +O_X <=> NH2_X + OH_X is invalid\n",
      "+O_X\n",
      "NH2_X +O_X <=> NH_X + OH_X is invalid\n",
      "/rmg/RMG-database/input/kinetics/libraries/Surface/Ammonia/Kraehnert_Pt111/reactions.py\n",
      "/rmg/RMG-database/input/kinetics/libraries/Surface/Ammonia/Novell_Pd111/reactions.py\n",
      "/rmg/RMG-database/input/kinetics/libraries/Surface/Ammonia/Vlachos_Ru0001/reactions.py\n",
      "/rmg/RMG-database/input/kinetics/libraries/Surface/Ammonia/Duan_Ni211/reactions.py\n",
      "/rmg/RMG-database/input/kinetics/libraries/Surface/Hydrazine/Roldan_Ir111/reactions.py\n",
      "/rmg/RMG-database/input/kinetics/libraries/Surface/Hydrazine/Roldan_Cu111/reactions.py\n",
      "/rmg/RMG-database/input/kinetics/libraries/Surface/Methane/Deutschmann_Pt/reactions.py\n",
      "/rmg/RMG-database/input/kinetics/libraries/Surface/Methane/Vlachos_Rh/reactions.py\n",
      "/rmg/RMG-database/input/kinetics/libraries/Surface/Methane/Vlachos_Pt111/reactions.py\n",
      "/rmg/RMG-database/input/kinetics/libraries/Surface/Methane/Deutschmann_Ni/reactions.py\n",
      "/rmg/RMG-database/input/kinetics/libraries/Surface/Methane/Deutschmann_Ni_full/reactions.py\n",
      "/rmg/RMG-database/input/kinetics/libraries/Surface/Example/reactions.py\n",
      "/rmg/RMG-database/input/kinetics/libraries/Surface/CPOX_Pt/Deutschmann2006_adjusted/reactions.py\n",
      "/rmg/RMG-database/input/kinetics/libraries/DMSOxy/reactions.py\n",
      "/rmg/RMG-database/input/kinetics/libraries/kislovB/reactions.py\n",
      "/rmg/RMG-database/input/kinetics/libraries/Methylformate/reactions.py\n",
      "/rmg/RMG-database/input/kinetics/libraries/FFCM1(-)/reactions.py\n",
      "/rmg/RMG-database/input/kinetics/libraries/C2H2_init/reactions.py\n",
      "/rmg/RMG-database/input/kinetics/libraries/ERC-FoundationFuelv0.9/reactions.py\n",
      "/rmg/RMG-database/input/kinetics/libraries/JetSurF1.0/reactions.py\n"
     ]
    },
    {
     "name": "stderr",
     "output_type": "stream",
     "text": [
      " 34%|████████████████████████████████████▏                                                                    | 60/174 [00:12<00:13,  8.18it/s]"
     ]
    },
    {
     "name": "stdout",
     "output_type": "stream",
     "text": [
      "/rmg/RMG-database/input/kinetics/libraries/Lai_Hexylbenzene/reactions.py\n",
      "/rmg/RMG-database/input/kinetics/libraries/BurkeH2O2inArHe/reactions.py\n",
      "/rmg/RMG-database/input/kinetics/libraries/Glarborg/highP/reactions.py\n",
      "/rmg/RMG-database/input/kinetics/libraries/Glarborg/C0/reactions.py\n",
      "/rmg/RMG-database/input/kinetics/libraries/Glarborg/C1/reactions.py\n",
      "/rmg/RMG-database/input/kinetics/libraries/Glarborg/C2/reactions.py\n",
      "/rmg/RMG-database/input/kinetics/libraries/Glarborg/C3/reactions.py\n"
     ]
    },
    {
     "name": "stderr",
     "output_type": "stream",
     "text": [
      " 41%|███████████████████████████████████████████▍                                                             | 72/174 [00:14<00:12,  8.28it/s]"
     ]
    },
    {
     "name": "stdout",
     "output_type": "stream",
     "text": [
      "/rmg/RMG-database/input/kinetics/libraries/1989_Stewart_2CH3_to_C2H5_H/reactions.py\n",
      "/rmg/RMG-database/input/kinetics/libraries/First_to_Second_Aromatic_Ring/2017_Mebel_C6H5C2H2_C2H2_highP/reactions.py\n",
      "/rmg/RMG-database/input/kinetics/libraries/First_to_Second_Aromatic_Ring/2016_Mebel_C10H9_highP/reactions.py\n",
      "/rmg/RMG-database/input/kinetics/libraries/First_to_Second_Aromatic_Ring/2012_Matsugi_C3H3_C7H7_highP/reactions.py\n",
      "/rmg/RMG-database/input/kinetics/libraries/First_to_Second_Aromatic_Ring/2016_Mebel_Indene_CH3_highP/reactions.py\n",
      "/rmg/RMG-database/input/kinetics/libraries/First_to_Second_Aromatic_Ring/2017_Buras_C6H5_C3H6_highP/reactions.py\n",
      "/rmg/RMG-database/input/kinetics/libraries/First_to_Second_Aromatic_Ring/2005_Ismail_C6H5_C4H6_highP/reactions.py\n",
      "/rmg/RMG-database/input/kinetics/libraries/First_to_Second_Aromatic_Ring/2017_Mebel_C6H4C2H_C2H2_highP/reactions.py\n",
      "/rmg/RMG-database/input/kinetics/libraries/First_to_Second_Aromatic_Ring/phenyl_diacetylene_effective/reactions.py\n",
      "/rmg/RMG-database/input/kinetics/libraries/First_to_Second_Aromatic_Ring/2017_Mebel_C6H5_C2H2_highP/reactions.py\n",
      "/rmg/RMG-database/input/kinetics/libraries/First_to_Second_Aromatic_Ring/2016_Mebel_C9H9_highP/reactions.py\n",
      "/rmg/RMG-database/input/kinetics/libraries/First_to_Second_Aromatic_Ring/2017_Mebel_C6H5_C4H4_highP/reactions.py\n"
     ]
    },
    {
     "name": "stderr",
     "output_type": "stream",
     "text": [
      " 44%|██████████████████████████████████████████████▍                                                          | 77/174 [00:14<00:09, 10.22it/s]"
     ]
    },
    {
     "name": "stdout",
     "output_type": "stream",
     "text": [
      "/rmg/RMG-database/input/kinetics/libraries/2003_Miller_Propargyl_Recomb_High_P/reactions.py\n",
      "/rmg/RMG-database/input/kinetics/libraries/CF2BrCl/reactions.py\n",
      "(+AR)\n",
      "H + O2 (+AR) <=> HO2 (+AR) is invalid\n",
      "(+HE)\n",
      "H + O2 (+HE) <=> HO2 (+HE) is invalid\n",
      "(+H2O)\n",
      "H2O2 (+H2O) <=> OH + OH (+H2O) is invalid\n",
      "/rmg/RMG-database/input/kinetics/libraries/Nitrogen_Dean_and_Bozzelli/reactions.py\n",
      "/rmg/RMG-database/input/kinetics/libraries/NOx2018/reactions.py\n"
     ]
    },
    {
     "name": "stderr",
     "output_type": "stream",
     "text": [
      " 47%|█████████████████████████████████████████████████▍                                                       | 82/174 [00:18<00:26,  3.48it/s]"
     ]
    },
    {
     "name": "stdout",
     "output_type": "stream",
     "text": [
      "/rmg/RMG-database/input/kinetics/libraries/2015_Buras_C2H3_C4H6_highP/reactions.py\n",
      "/rmg/RMG-database/input/kinetics/libraries/combustion_core/version4/reactions.py\n",
      "/rmg/RMG-database/input/kinetics/libraries/combustion_core/version3/reactions.py\n",
      "/rmg/RMG-database/input/kinetics/libraries/combustion_core/version2/reactions.py\n",
      "/rmg/RMG-database/input/kinetics/libraries/combustion_core/version5/reactions.py\n"
     ]
    },
    {
     "name": "stderr",
     "output_type": "stream",
     "text": [
      " 49%|███████████████████████████████████████████████████▉                                                     | 86/174 [00:19<00:23,  3.79it/s]"
     ]
    },
    {
     "name": "stdout",
     "output_type": "stream",
     "text": [
      "/rmg/RMG-database/input/kinetics/libraries/GRI-Mech3.0-N/reactions.py\n",
      "/rmg/RMG-database/input/kinetics/libraries/N-S_interactions/reactions.py\n",
      "/rmg/RMG-database/input/kinetics/libraries/YF/seed/reactions.py\n"
     ]
    },
    {
     "name": "stderr",
     "output_type": "stream",
     "text": [
      " 51%|█████████████████████████████████████████████████████▋                                                   | 89/174 [00:20<00:24,  3.43it/s]"
     ]
    },
    {
     "name": "stdout",
     "output_type": "stream",
     "text": [
      "/rmg/RMG-database/input/kinetics/libraries/YF/full/reactions.py\n"
     ]
    },
    {
     "name": "stderr",
     "output_type": "stream",
     "text": [
      " 52%|██████████████████████████████████████████████████████▉                                                  | 91/174 [00:22<00:31,  2.65it/s]"
     ]
    },
    {
     "name": "stdout",
     "output_type": "stream",
     "text": [
      "/rmg/RMG-database/input/kinetics/libraries/HydrazinePDep/reactions.py\n",
      "/rmg/RMG-database/input/kinetics/libraries/GRI-Mech3.0/reactions.py\n"
     ]
    },
    {
     "name": "stderr",
     "output_type": "stream",
     "text": [
      " 53%|████████████████████████████████████████████████████████                                                 | 93/174 [00:22<00:26,  3.03it/s]"
     ]
    },
    {
     "name": "stdout",
     "output_type": "stream",
     "text": [
      "/rmg/RMG-database/input/kinetics/libraries/c-C5H5_CH3_Sharma/reactions.py\n",
      "/rmg/RMG-database/input/kinetics/libraries/Mebel_C6H5_C2H2/reactions.py\n",
      "/rmg/RMG-database/input/kinetics/libraries/Nitrogen_Glarborg_Gimenez_et_al/reactions.py\n"
     ]
    },
    {
     "name": "stderr",
     "output_type": "stream",
     "text": [
      " 55%|█████████████████████████████████████████████████████████▎                                               | 95/174 [00:23<00:29,  2.70it/s]"
     ]
    },
    {
     "name": "stdout",
     "output_type": "stream",
     "text": [
      "/rmg/RMG-database/input/kinetics/libraries/Klippenstein_Glarborg2016/reactions.py\n"
     ]
    },
    {
     "name": "stderr",
     "output_type": "stream",
     "text": [
      " 55%|█████████████████████████████████████████████████████████▉                                               | 96/174 [00:24<00:32,  2.43it/s]"
     ]
    },
    {
     "name": "stdout",
     "output_type": "stream",
     "text": [
      "/rmg/RMG-database/input/kinetics/libraries/biCPD_H_shift/reactions.py\n",
      "/rmg/RMG-database/input/kinetics/libraries/BurkeH2O2inN2/reactions.py\n",
      "/rmg/RMG-database/input/kinetics/libraries/2-BTP/seed/reactions.py\n"
     ]
    },
    {
     "name": "stderr",
     "output_type": "stream",
     "text": [
      " 57%|███████████████████████████████████████████████████████████▋                                             | 99/174 [00:25<00:28,  2.67it/s]"
     ]
    },
    {
     "name": "stdout",
     "output_type": "stream",
     "text": [
      "/rmg/RMG-database/input/kinetics/libraries/2-BTP/full/reactions.py\n"
     ]
    },
    {
     "name": "stderr",
     "output_type": "stream",
     "text": [
      " 58%|████████████████████████████████████████████████████████████▎                                           | 101/174 [00:27<00:19,  3.73it/s]"
     ]
    },
    {
     "name": "stdout",
     "output_type": "stream",
     "text": [
      "/rmg/RMG-database/input/kinetics/libraries/Iodine-R_recombination/reactions.py\n",
      "/rmg/RMG-database/input/kinetics/libraries/primarySulfurLibrary/reactions.py\n"
     ]
    },
    {
     "name": "stderr",
     "output_type": "stream",
     "text": [
      "\n"
     ]
    },
    {
     "ename": "SyntaxError",
     "evalue": "EOF while scanning triple-quoted string literal (<string>, line 31)",
     "output_type": "error",
     "traceback": [
      "Traceback \u001b[0;36m(most recent call last)\u001b[0m:\n",
      "  File \u001b[1;32m\"/miniconda/envs/rmg_env/lib/python3.7/site-packages/IPython/core/interactiveshell.py\"\u001b[0m, line \u001b[1;32m3457\u001b[0m, in \u001b[1;35mrun_code\u001b[0m\n    exec(code_obj, self.user_global_ns, self.user_ns)\n",
      "\u001b[0;36m  File \u001b[0;32m\"/tmp/ipykernel_489/1691593753.py\"\u001b[0;36m, line \u001b[0;32m45\u001b[0;36m, in \u001b[0;35m<module>\u001b[0;36m\u001b[0m\n\u001b[0;31m    entry_list.append(eval(\"\".join(text[begin: i+1])))\u001b[0m\n",
      "\u001b[0;36m  File \u001b[0;32m\"<string>\"\u001b[0;36m, line \u001b[0;32m31\u001b[0m\n\u001b[0;31m    u\"\"\"\nPart of the \"SOx\" mechanism\nExperimental and theoretical investigation\nTheoretical calculations done at the  G2M(RCC2) level, using geometries optimized with the B3LYP/6-311+G(3df) method\nT range: 298-3460 K\nThe uncertainty for n is +|- 0.15\n\nKinetics is a also available for the reverse direction:\n\nentry(\n    index = -3,\n    label = \"SO + O <=> S + O2\",\n    degeneracy = 1,\n    kinetics = Arrhenius(A=(2.36e+07, 'cm^3/(mol*s)'), n=1.51, Ea=(5042, 'cal/mol'), T0=(1, 'K')),\n    shortDesc = u'[Lin2003a]',\n    longDesc =\nu'\nPart of the \"SOx\" mechanism\nk10b p. 11028\ncalculations done at the G2M(RCC2)//B3LYP/6-311+(3df) level of theory\nalso validated experimentally in the same study\n',\n)\u001b[0m\n\u001b[0m        \n                           \n                                          \n                                                                                                                    \n                   \n                                 \n\n                                                       \n\n      \n               \n                                \n                   \n                                                                                                  \n                              \n              \n  \n                           \n             \n                                                                     \n                                               \n  \n ^\u001b[0m\n\u001b[0;31mSyntaxError\u001b[0m\u001b[0;31m:\u001b[0m EOF while scanning triple-quoted string literal\n"
     ]
    }
   ],
   "source": [
    "for mode in [\"families\", \"libraries\"]:\n",
    "    # find all reactions.py files first\n",
    "    dict_file_list = []\n",
    "    for root, dirs, files in os.walk(path_prefix + mode):\n",
    "        for file in files:\n",
    "            if file.lower().endswith('.py') and file == \"reactions.py\":\n",
    "                dict_file_list.append(os.path.join(root, file))\n",
    "    \n",
    "    # load molecule smiles\n",
    "    data_file = open('molecule_smiles_{}.pickle'.format(mode), 'rb')\n",
    "    molecule_smiles = pickle.load(data_file)\n",
    "    \n",
    "    # create empty dataframe\n",
    "    data = [('label', 'smiles', 'path', \"entry\")]\n",
    "\n",
    "    # for each file, parse entries and convert them to smiles\n",
    "    for path in tqdm(dict_file_list):\n",
    "        \n",
    "        print(path)\n",
    "        f = open(path, \"r\")\n",
    "        text = f.readlines()\n",
    "\n",
    "        # remove first several lines of comments at the beginning of the .py file\n",
    "        origin_length = len(text)\n",
    "        for i in range(len(text)):\n",
    "            if text[i] == 'entry(\\n':\n",
    "                text = text[i:]\n",
    "                break\n",
    "\n",
    "        entry_list = []\n",
    "\n",
    "        # split entries\n",
    "        begin = 0\n",
    "\n",
    "        # empty file\n",
    "        if len(text) == origin_length or len(text) == 0:\n",
    "            continue\n",
    "\n",
    "        for i in range(len(text)):\n",
    "            if text[i] == \")\\n\":\n",
    "                # handle incorrect format for families\n",
    "                if  text[begin] != \"\\n\" and text[begin][:6] == \"entry(\":\n",
    "#                     text[begin] = \"Entry(\" + text[begin][6:]\n",
    "                    text[begin] = \"load_entry(\" + text[begin][6:]\n",
    "                    entry_list.append(eval(\"\".join(text[begin: i+1])))\n",
    "\n",
    "                begin = i+2\n",
    " \n",
    "        # convert to smiles and append to data \n",
    "        for i in range(len(entry_list)):\n",
    "\n",
    "            # found related molecule smiles, e.g., under the same folder\n",
    "            abs_path = path.replace(path_prefix, \"RMG-database/input/kinetics/\")\n",
    "            \n",
    "            mapping = dict()\n",
    "            for elem in molecule_smiles:\n",
    "                  if elem[2] == abs_path.replace(\"reactions.py\", \"dictionary.txt\"):\n",
    "                        mapping[elem[0]] = elem[1]\n",
    "        \n",
    "            # parse smiles\n",
    "            s = \"\"\n",
    "            parts = entry_list[i].label.split(\" \")\n",
    "            for p in parts:\n",
    "                if p == \"+\":\n",
    "                    s = s + \".\"\n",
    "                elif p == \" \" or p == \"\":\n",
    "                    continue\n",
    "                elif p == \"<=>\" or p == \"=>\" or p == \"=\":\n",
    "                    s = s + \">>\"\n",
    "                else:\n",
    "                    # formal error\n",
    "                    if p not in mapping:\n",
    "                        s = None\n",
    "                        print(p)\n",
    "                        break\n",
    "                    else:\n",
    "                        s = s + mapping[p]\n",
    "\n",
    "            if s is None:\n",
    "                print(entry_list[i].label, \"is invalid\" )\n",
    "                continue\n",
    "\n",
    "            # store Arrhenius\n",
    "            data.append((entry_list[i].label,\n",
    "                        s,\n",
    "                        abs_path,\n",
    "                        entry_list[i]))\n",
    "            f.close()\n",
    "    \n",
    "    # store pickle\n",
    "    with open('reaction_smiles_{}.pickle'.format(mode), 'wb') as data_file:\n",
    "        pickle.dump(data, data_file)\n"
   ]
  },
  {
   "cell_type": "code",
   "execution_count": null,
   "id": "d20a6172-f84a-4abe-81bf-d250be39b3fd",
   "metadata": {},
   "outputs": [],
   "source": [
    "with open('reaction_smiles_families.pickle', 'rb') as f:\n",
    "    reaction_family = pickle.load(f)"
   ]
  },
  {
   "cell_type": "code",
   "execution_count": null,
   "id": "55ea28d0-aff1-4cf8-b0e8-db1a66721a02",
   "metadata": {},
   "outputs": [],
   "source": [
    "len(reaction_family)"
   ]
  },
  {
   "cell_type": "code",
   "execution_count": null,
   "id": "257ff9fe-7723-40f5-81c3-cc22458f2e9f",
   "metadata": {},
   "outputs": [],
   "source": [
    "instance = []\n",
    "\n",
    "for l, s, p, e in reaction_family[1:]:\n",
    "    instance.append( str(type(e.data)) )\n",
    "\n"
   ]
  },
  {
   "cell_type": "code",
   "execution_count": null,
   "id": "b99639a0-5e82-4001-8f4a-226d6a9f0036",
   "metadata": {},
   "outputs": [],
   "source": [
    "from collections import Counter"
   ]
  },
  {
   "cell_type": "code",
   "execution_count": null,
   "id": "08e0c6b4-7e74-4bc5-aecd-73ca90b83088",
   "metadata": {},
   "outputs": [],
   "source": [
    "Counter(instance)"
   ]
  },
  {
   "cell_type": "code",
   "execution_count": null,
   "id": "04d191b2-0517-44cd-b190-4bb2e2abe41e",
   "metadata": {},
   "outputs": [],
   "source": [
    "with open('reaction_smiles_libraries.pickle', 'rb') as f:\n",
    "    reaction_libraries = pickle.load(f)"
   ]
  },
  {
   "cell_type": "code",
   "execution_count": null,
   "id": "5cb2067f-4a96-4742-9992-785bc66f3039",
   "metadata": {},
   "outputs": [],
   "source": [
    "instance = []\n",
    "\n",
    "non_arr_count = 0\n",
    "p_dep_count = 0\n",
    "\n",
    "for l, s, p, e in reaction_libraries[1:]:\n",
    "    instance.append( str(type(e.data)) )\n",
    "    if not isinstance(e.data, Arrhenius):\n",
    "        non_arr_count += 1\n",
    "    if e.data.is_pressure_dependent():\n",
    "        p_dep_count += 1\n",
    "\n",
    "    \n",
    "c = Counter(instance)\n",
    "print(c, non_arr_count, p_dep_count, len(reaction_libraries)-1)"
   ]
  },
  {
   "cell_type": "code",
   "execution_count": null,
   "id": "a93bfbc7-1568-4c51-ac6c-9b5013ec5497",
   "metadata": {},
   "outputs": [],
   "source": [
    "len(reaction_libraries)-1"
   ]
  },
  {
   "cell_type": "code",
   "execution_count": null,
   "id": "48f2141d-9d00-44cc-a36f-c53685fcd14b",
   "metadata": {},
   "outputs": [],
   "source": [
    "reaction_libraries[128][-1].data"
   ]
  },
  {
   "cell_type": "markdown",
   "id": "cd3acb44-5e66-49c4-9884-31c31fbf3cbb",
   "metadata": {},
   "source": [
    "# Output the family to CSV"
   ]
  },
  {
   "cell_type": "code",
   "execution_count": null,
   "id": "732ace87-5e1a-450b-b669-087f29a6f9f4",
   "metadata": {},
   "outputs": [],
   "source": [
    "reaction_family[1][3].data"
   ]
  },
  {
   "cell_type": "code",
   "execution_count": null,
   "id": "93d01ee2-a65e-4fad-a922-82ab6867d2ea",
   "metadata": {},
   "outputs": [],
   "source": [
    "from collections import defaultdict"
   ]
  },
  {
   "cell_type": "code",
   "execution_count": null,
   "id": "252549b5-bc45-4a86-a8eb-e99d7cf52398",
   "metadata": {},
   "outputs": [],
   "source": [
    "data = defaultdict(list)\n",
    "\n",
    "for l, s, p, e in reaction_family:\n",
    "    if isinstance(e, str):\n",
    "        continue\n",
    "\n",
    "    if not isinstance(e.data, Arrhenius):\n",
    "        continue\n",
    "\n",
    "    data['label'].append(l)\n",
    "    data['smiles'].append(s)\n",
    "    data['path'].append(p)\n",
    "    data['A_value_si'].append(np.log10(e.data.A.value_si))\n",
    "    data['n_value_si'].append(e.data.n.value_si)\n",
    "    data['Ea_value_si'].append(e.data.Ea.value_si/1000)\n"
   ]
  },
  {
   "cell_type": "code",
   "execution_count": null,
   "id": "be55af18-dbf1-40dd-bcfa-6cc91f682269",
   "metadata": {},
   "outputs": [],
   "source": [
    "family_df = pd.DataFrame(data)"
   ]
  },
  {
   "cell_type": "code",
   "execution_count": null,
   "id": "72f00f02-d77d-470f-aeed-19372a7289c2",
   "metadata": {},
   "outputs": [],
   "source": [
    "family_df"
   ]
  },
  {
   "cell_type": "code",
   "execution_count": null,
   "id": "a60da868-70b9-431c-8150-f20ed580158f",
   "metadata": {},
   "outputs": [],
   "source": [
    "family_df.to_csv(\"family.csv\", index=False)"
   ]
  },
  {
   "cell_type": "markdown",
   "id": "d017131c-7dfb-4f17-87b6-5801799a9f5b",
   "metadata": {},
   "source": [
    "# Output the library to CSV\n",
    "\n",
    "## Temperature dependent"
   ]
  },
  {
   "cell_type": "markdown",
   "id": "c5145812-59e9-46e3-93d6-c6fb7e22fc62",
   "metadata": {
    "tags": []
   },
   "source": [
    "### identify the temperature gap"
   ]
  },
  {
   "cell_type": "code",
   "execution_count": null,
   "id": "c2f5d9da-84f0-4f69-8384-c009183a0a93",
   "metadata": {},
   "outputs": [],
   "source": [
    "t_min_list = []\n",
    "t_max_list = []\n",
    "\n",
    "for l, s, p, e in tqdm(reaction_libraries[1:]):\n",
    "    if e.data.is_pressure_dependent():\n",
    "        continue\n",
    "    k = e.data\n",
    "    if k.Tmax:\n",
    "        t_max_list.append(k.Tmax.value_si)\n",
    "    if k.Tmin:\n",
    "        t_min_list.append(k.Tmin.value_si)\n",
    "\n",
    "print(len(t_min_list), len(t_max_list))\n",
    "print(np.mean(t_min_list), np.mean(t_max_list))\n",
    "\n",
    "print(np.quantile(t_min_list, q=np.arange(0, 1, 0.01)))\n",
    "print(np.quantile(t_max_list, q=np.arange(0, 1, 0.01)))"
   ]
  },
  {
   "cell_type": "code",
   "execution_count": null,
   "id": "02c83da8",
   "metadata": {},
   "outputs": [],
   "source": [
    "data = defaultdict(list)\n",
    "\n",
    "reaction_count = 0\n",
    "\n",
    "print(len(reaction_libraries[1:]))\n",
    "\n",
    "for l, s, p, e in tqdm(reaction_libraries[1:]):\n",
    "    if e.data.is_pressure_dependent():\n",
    "        continue\n",
    "\n",
    "    k = e.data\n",
    "\n",
    "    try:\n",
    "        k.get_rate_coefficient(300)\n",
    "    except:\n",
    "        print(type(k), l, s, p, e)\n",
    "        continue\n",
    "\n",
    "    tmax, tmin = k.Tmax, k.Tmin\n",
    "    if tmax is None:\n",
    "        tmax = 3000\n",
    "    else:\n",
    "        tmax = tmax.value_si\n",
    "\n",
    "    if tmin is None:\n",
    "        tmin = 300\n",
    "    else:\n",
    "        tmin = tmin.value_si\n",
    "        \n",
    "    reaction_count += 1\n",
    "    \n",
    "    for T in np.arange(tmin, tmax, 1000).tolist():\n",
    "        \n",
    "        if not k.is_temperature_valid(T):\n",
    "            continue\n",
    "\n",
    "        data['label'].append(l)\n",
    "        data['smiles'].append(s)\n",
    "        data['path'].append(p)\n",
    "        data['T'].append(T)\n",
    "        data['log10rate'].append(np.log10(k.get_rate_coefficient(T)))\n",
    "\n",
    "df = pd.DataFrame(data)\n",
    "print(reaction_count, len(df))\n",
    "df.to_csv(\"library_T_dependent_90k.csv\", index=False)"
   ]
  },
  {
   "cell_type": "markdown",
   "id": "dc4be720-0ba7-4270-9a21-06db1152414b",
   "metadata": {
    "tags": []
   },
   "source": [
    "## Pressure dependent data sampling"
   ]
  },
  {
   "cell_type": "code",
   "execution_count": null,
   "id": "fd727864-cef6-4eaf-895a-e59050a85842",
   "metadata": {},
   "outputs": [],
   "source": [
    "t_min_list = []\n",
    "t_max_list = []\n",
    "\n",
    "p_min_list = []\n",
    "p_max_list = []\n",
    "\n",
    "for l, s, p, e in tqdm(reaction_libraries[1:]):\n",
    "    if not e.data.is_pressure_dependent():\n",
    "        continue\n",
    "    k = e.data\n",
    "\n",
    "    if k.Tmax:\n",
    "        t_max_list.append(k.Tmax.value_si)\n",
    "    if k.Tmin:\n",
    "        t_min_list.append(k.Tmin.value_si)\n",
    "        \n",
    "    if k.Pmax:\n",
    "        p_max_list.append(k.Pmax.value_si)\n",
    "    if k.Pmin:\n",
    "        p_min_list.append(k.Pmin.value_si)\n",
    "\n",
    "print(len(t_min_list), len(t_max_list))\n",
    "print(np.mean(t_min_list), np.mean(t_max_list))\n",
    "\n",
    "print(np.quantile(t_min_list, q=np.arange(0, 1, 0.1)))\n",
    "print(np.quantile(t_max_list, q=np.arange(0, 1, 0.1)))\n",
    "\n",
    "\n",
    "print(len(p_min_list), len(p_max_list))\n",
    "print(np.mean(p_min_list), np.mean(p_max_list))\n",
    "\n",
    "print(np.quantile(p_min_list, q=np.arange(0, 1, 0.01)))\n",
    "print(np.quantile(p_max_list, q=np.arange(0, 1, 0.01)))"
   ]
  },
  {
   "cell_type": "code",
   "execution_count": null,
   "id": "d7626268-acc9-494d-9db1-c44a431b525c",
   "metadata": {},
   "outputs": [],
   "source": [
    "data = defaultdict(list)\n",
    "\n",
    "reaction_count = 0\n",
    "\n",
    "print(len(reaction_libraries[1:]))\n",
    "\n",
    "for l, s, p, e in tqdm(reaction_libraries[1:]):\n",
    "    if not e.data.is_pressure_dependent():\n",
    "        continue\n",
    "\n",
    "    k = e.data\n",
    "\n",
    "    try:\n",
    "        k.get_rate_coefficient(300, 100000)\n",
    "    except:\n",
    "        print(type(k), l, s, p, e)\n",
    "        continue\n",
    "\n",
    "    tmax, tmin = k.Tmax, k.Tmin\n",
    "    if tmax is None:\n",
    "        tmax = 3000\n",
    "    else:\n",
    "        tmax = tmax.value_si\n",
    "\n",
    "    if tmin is None:\n",
    "        tmin = 300\n",
    "    else:\n",
    "        tmin = tmin.value_si\n",
    "        \n",
    "        \n",
    "    pmax, pmin = k.Pmax, k.Pmin\n",
    "    if pmax is None:\n",
    "        pmax = 10132500\n",
    "    else:\n",
    "        pmax = pmax.value_si\n",
    "\n",
    "    if pmin is None:\n",
    "        pmin = 114.116268\n",
    "    else:\n",
    "        pmin = pmin.value_si\n",
    "\n",
    "    reaction_count += 1\n",
    "        \n",
    "    for T in np.arange(tmin, tmax, 1000).tolist():\n",
    "        for P in np.arange(pmin, pmax, 1000000).tolist():\n",
    "        \n",
    "            if not (k.is_temperature_valid(T) and k.is_pressure_valid(P)):\n",
    "                continue\n",
    "            data['label'].append(l)\n",
    "            data['smiles'].append(s)\n",
    "            data['path'].append(p)\n",
    "            data['T'].append(T)\n",
    "            data['P'].append(P)\n",
    "            data['log10rate'].append(np.log10(k.get_rate_coefficient(T, P)))\n",
    "\n",
    "df = pd.DataFrame(data)\n",
    "print(reaction_count, len(df))\n",
    "df.to_csv(\"library_TP_dependent_120k.csv\", index=False)"
   ]
  },
  {
   "cell_type": "code",
   "execution_count": null,
   "id": "14f36db4-78e4-490b-af57-5ceb55604226",
   "metadata": {},
   "outputs": [],
   "source": []
  },
  {
   "cell_type": "code",
   "execution_count": null,
   "id": "c4374c42-917c-4356-89fd-6331220a7fa5",
   "metadata": {},
   "outputs": [],
   "source": []
  }
 ],
 "metadata": {
  "kernelspec": {
   "display_name": "Python 3 (ipykernel)",
   "language": "python",
   "name": "python3"
  },
  "language_info": {
   "codemirror_mode": {
    "name": "ipython",
    "version": 3
   },
   "file_extension": ".py",
   "mimetype": "text/x-python",
   "name": "python",
   "nbconvert_exporter": "python",
   "pygments_lexer": "ipython3",
   "version": "3.7.12"
  }
 },
 "nbformat": 4,
 "nbformat_minor": 5
}

{
 "cells": [
  {
   "cell_type": "code",
   "execution_count": 1,
   "id": "97e17da0",
   "metadata": {},
   "outputs": [],
   "source": [
    "import os\n",
    "import pickle\n",
    "from tqdm import tqdm\n",
    "\n",
    "from rmgpy.molecule.molecule import Molecule\n",
    "from rmgpy.molecule.translator import to_smiles"
   ]
  },
  {
   "cell_type": "code",
   "execution_count": 2,
   "id": "92fc03da-042f-4fc3-b020-d734c819a1d3",
   "metadata": {},
   "outputs": [],
   "source": [
    "import numpy as np\n",
    "\n",
    "import pandas as pd\n",
    "\n",
    "import matplotlib.pyplot as plt"
   ]
  },
  {
   "cell_type": "code",
   "execution_count": 3,
   "id": "ec6a644d",
   "metadata": {},
   "outputs": [
    {
     "data": {
      "text/plain": [
       "'/rmg/RMG-Py/myrmgfiles'"
      ]
     },
     "execution_count": 3,
     "metadata": {},
     "output_type": "execute_result"
    }
   ],
   "source": [
    "os.getcwd()"
   ]
  },
  {
   "cell_type": "code",
   "execution_count": 4,
   "id": "a969a6ff",
   "metadata": {},
   "outputs": [],
   "source": [
    "path_prefix = \"/rmg/RMG-Py/myrmgfiles/\""
   ]
  },
  {
   "cell_type": "markdown",
   "id": "1ea5c486",
   "metadata": {},
   "source": [
    "# process all molecule smiles"
   ]
  },
  {
   "cell_type": "code",
   "execution_count": 5,
   "id": "7d433ab4",
   "metadata": {
    "scrolled": true,
    "tags": []
   },
   "outputs": [
    {
     "name": "stderr",
     "output_type": "stream",
     "text": [
      "  3%|████▎                                                                                                                                                    | 4/144 [00:00<00:03, 37.74it/s]"
     ]
    },
    {
     "name": "stdout",
     "output_type": "stream",
     "text": [
      "/rmg/RMG-Py/myrmgfiles/families/1+2_Cycloaddition/NIST/dictionary.txt\n",
      "/rmg/RMG-Py/myrmgfiles/families/1+2_Cycloaddition/training/dictionary.txt\n",
      "/rmg/RMG-Py/myrmgfiles/families/1,2-Birad_to_alkene/NIST/dictionary.txt\n",
      "/rmg/RMG-Py/myrmgfiles/families/1,2-Birad_to_alkene/training/dictionary.txt\n",
      "/rmg/RMG-Py/myrmgfiles/families/1,2_Insertion_carbene/NIST/dictionary.txt\n",
      "/rmg/RMG-Py/myrmgfiles/families/1,2_Insertion_carbene/training/dictionary.txt\n",
      "/rmg/RMG-Py/myrmgfiles/families/1,2_Insertion_CO/NIST/dictionary.txt\n",
      "/rmg/RMG-Py/myrmgfiles/families/1,2_Insertion_CO/training/dictionary.txt\n",
      "/rmg/RMG-Py/myrmgfiles/families/1,2_NH3_elimination/training/dictionary.txt\n",
      "/rmg/RMG-Py/myrmgfiles/families/1,2_shiftC/training/dictionary.txt\n",
      "/rmg/RMG-Py/myrmgfiles/families/1,2_shiftS/NIST/dictionary.txt\n",
      "/rmg/RMG-Py/myrmgfiles/families/1,2_shiftS/training/dictionary.txt\n",
      "/rmg/RMG-Py/myrmgfiles/families/1,2_XY_interchange/training/dictionary.txt\n",
      "/rmg/RMG-Py/myrmgfiles/families/1,3_Insertion_CO2/NIST/dictionary.txt\n"
     ]
    },
    {
     "name": "stderr",
     "output_type": "stream",
     "text": [
      " 16%|████████████████████████▎                                                                                                                               | 23/144 [00:00<00:01, 67.52it/s]"
     ]
    },
    {
     "name": "stdout",
     "output_type": "stream",
     "text": [
      "/rmg/RMG-Py/myrmgfiles/families/1,3_Insertion_CO2/training/dictionary.txt\n",
      "/rmg/RMG-Py/myrmgfiles/families/1,3_Insertion_ROR/NIST/dictionary.txt\n",
      "/rmg/RMG-Py/myrmgfiles/families/1,3_Insertion_ROR/training/dictionary.txt\n",
      "/rmg/RMG-Py/myrmgfiles/families/1,3_Insertion_RSR/NIST/dictionary.txt\n",
      "/rmg/RMG-Py/myrmgfiles/families/1,3_Insertion_RSR/training/dictionary.txt\n",
      "/rmg/RMG-Py/myrmgfiles/families/1,3_NH3_elimination/training/dictionary.txt\n",
      "/rmg/RMG-Py/myrmgfiles/families/1,3_sigmatropic_rearrangement/NIST/dictionary.txt\n",
      "/rmg/RMG-Py/myrmgfiles/families/1,3_sigmatropic_rearrangement/training/dictionary.txt\n",
      "/rmg/RMG-Py/myrmgfiles/families/1,4_Cyclic_birad_scission/training/dictionary.txt\n",
      "/rmg/RMG-Py/myrmgfiles/families/1,4_Linear_birad_scission/training/dictionary.txt\n",
      "/rmg/RMG-Py/myrmgfiles/families/2+2_cycloaddition/NIST/dictionary.txt\n",
      "/rmg/RMG-Py/myrmgfiles/families/2+2_cycloaddition/training/dictionary.txt\n"
     ]
    },
    {
     "name": "stderr",
     "output_type": "stream",
     "text": [
      " 21%|███████████████████████████████▋                                                                                                                        | 30/144 [00:00<00:02, 53.30it/s]"
     ]
    },
    {
     "name": "stdout",
     "output_type": "stream",
     "text": [
      "/rmg/RMG-Py/myrmgfiles/families/6_membered_central_C-C_shift/training/dictionary.txt\n",
      "/rmg/RMG-Py/myrmgfiles/families/Baeyer-Villiger_step1_cat/training/dictionary.txt\n",
      "/rmg/RMG-Py/myrmgfiles/families/Baeyer-Villiger_step2/training/dictionary.txt\n",
      "/rmg/RMG-Py/myrmgfiles/families/Baeyer-Villiger_step2_cat/training/dictionary.txt\n",
      "/rmg/RMG-Py/myrmgfiles/families/Bimolec_Hydroperoxide_Decomposition/training/dictionary.txt\n",
      "/rmg/RMG-Py/myrmgfiles/families/Birad_recombination/NIST/dictionary.txt\n",
      "/rmg/RMG-Py/myrmgfiles/families/Birad_recombination/training/dictionary.txt\n",
      "/rmg/RMG-Py/myrmgfiles/families/Birad_R_Recombination/NIST/dictionary.txt\n",
      "/rmg/RMG-Py/myrmgfiles/families/Birad_R_Recombination/training/dictionary.txt\n"
     ]
    },
    {
     "name": "stderr",
     "output_type": "stream",
     "text": [
      " 28%|███████████████████████████████████████████▎                                                                                                            | 41/144 [00:00<00:02, 41.35it/s]"
     ]
    },
    {
     "name": "stdout",
     "output_type": "stream",
     "text": [
      "/rmg/RMG-Py/myrmgfiles/families/Br_Abstraction/training/dictionary.txt\n",
      "/rmg/RMG-Py/myrmgfiles/families/Cl_Abstraction/training/dictionary.txt\n",
      "/rmg/RMG-Py/myrmgfiles/families/Concerted_Intra_Diels_alder_monocyclic_1,2_shiftH/training/dictionary.txt\n",
      "/rmg/RMG-Py/myrmgfiles/families/CO_Disproportionation/training/dictionary.txt\n",
      "/rmg/RMG-Py/myrmgfiles/families/Cyclic_Ether_Formation/NIST/dictionary.txt\n",
      "/rmg/RMG-Py/myrmgfiles/families/Cyclic_Ether_Formation/training/dictionary.txt\n",
      "/rmg/RMG-Py/myrmgfiles/families/Cyclic_Thioether_Formation/NIST/dictionary.txt\n",
      "/rmg/RMG-Py/myrmgfiles/families/Cyclic_Thioether_Formation/training/dictionary.txt\n",
      "/rmg/RMG-Py/myrmgfiles/families/Cyclopentadiene_scission/training/dictionary.txt\n"
     ]
    },
    {
     "name": "stderr",
     "output_type": "stream",
     "text": [
      " 33%|██████████████████████████████████████████████████▋                                                                                                     | 48/144 [00:00<00:02, 45.65it/s]"
     ]
    },
    {
     "name": "stdout",
     "output_type": "stream",
     "text": [
      "/rmg/RMG-Py/myrmgfiles/families/Diels_alder_addition/NIST/dictionary.txt\n",
      "/rmg/RMG-Py/myrmgfiles/families/Diels_alder_addition/training/dictionary.txt\n",
      "/rmg/RMG-Py/myrmgfiles/families/Diels_alder_addition_Aromatic/training/dictionary.txt\n",
      "/rmg/RMG-Py/myrmgfiles/families/Disproportionation/NIST/dictionary.txt\n",
      "/rmg/RMG-Py/myrmgfiles/families/Disproportionation/training/dictionary.txt\n",
      "/rmg/RMG-Py/myrmgfiles/families/Disproportionation-Y/training/dictionary.txt\n",
      "/rmg/RMG-Py/myrmgfiles/families/F_Abstraction/training/dictionary.txt\n"
     ]
    },
    {
     "name": "stderr",
     "output_type": "stream",
     "text": [
      " 37%|███████████████████████████████████████████████████████▉                                                                                                | 53/144 [00:01<00:02, 43.69it/s]"
     ]
    },
    {
     "name": "stdout",
     "output_type": "stream",
     "text": [
      "/rmg/RMG-Py/myrmgfiles/families/H2_Loss/training/dictionary.txt\n",
      "/rmg/RMG-Py/myrmgfiles/families/halocarbene_recombination/training/dictionary.txt\n",
      "/rmg/RMG-Py/myrmgfiles/families/halocarbene_recombination_double/training/dictionary.txt\n",
      "/rmg/RMG-Py/myrmgfiles/families/HO2_Elimination_from_PeroxyRadical/NIST/dictionary.txt\n",
      "/rmg/RMG-Py/myrmgfiles/families/HO2_Elimination_from_PeroxyRadical/training/dictionary.txt\n",
      "/rmg/RMG-Py/myrmgfiles/families/H_Abstraction/NIST/dictionary.txt\n",
      "/rmg/RMG-Py/myrmgfiles/families/H_Abstraction/training/dictionary.txt\n"
     ]
    },
    {
     "name": "stderr",
     "output_type": "stream",
     "text": [
      " 44%|██████████████████████████████████████████████████████████████████▌                                                                                     | 63/144 [00:01<00:02, 33.12it/s]"
     ]
    },
    {
     "name": "stdout",
     "output_type": "stream",
     "text": [
      "/rmg/RMG-Py/myrmgfiles/families/Intra_2+2_cycloaddition_Cd/training/dictionary.txt\n",
      "/rmg/RMG-Py/myrmgfiles/families/Intra_5_membered_conjugated_C=C_C=C_addition/training/dictionary.txt\n",
      "/rmg/RMG-Py/myrmgfiles/families/Intra_Diels_alder_monocyclic/training/dictionary.txt\n",
      "/rmg/RMG-Py/myrmgfiles/families/Intra_Disproportionation/NIST/dictionary.txt\n",
      "/rmg/RMG-Py/myrmgfiles/families/Intra_Disproportionation/training/dictionary.txt\n",
      "/rmg/RMG-Py/myrmgfiles/families/Intra_ene_reaction/training/dictionary.txt\n",
      "/rmg/RMG-Py/myrmgfiles/families/intra_halogen_migration/training/dictionary.txt\n",
      "/rmg/RMG-Py/myrmgfiles/families/intra_H_migration/NIST/dictionary.txt\n",
      "/rmg/RMG-Py/myrmgfiles/families/intra_H_migration/training/dictionary.txt\n"
     ]
    },
    {
     "name": "stderr",
     "output_type": "stream",
     "text": [
      " 47%|██████████████████████████████████████████████████████████████████████▋                                                                                 | 67/144 [00:01<00:03, 20.76it/s]"
     ]
    },
    {
     "name": "stdout",
     "output_type": "stream",
     "text": [
      "/rmg/RMG-Py/myrmgfiles/families/intra_NO2_ONO_conversion/NIST/dictionary.txt\n",
      "/rmg/RMG-Py/myrmgfiles/families/intra_NO2_ONO_conversion/training/dictionary.txt\n",
      "/rmg/RMG-Py/myrmgfiles/families/intra_OH_migration/NIST/dictionary.txt\n",
      "/rmg/RMG-Py/myrmgfiles/families/intra_OH_migration/training/dictionary.txt\n",
      "/rmg/RMG-Py/myrmgfiles/families/Intra_Retro_Diels_alder_bicyclic/training/dictionary.txt\n",
      "/rmg/RMG-Py/myrmgfiles/families/Intra_RH_Add_Endocyclic/NIST/dictionary.txt\n",
      "/rmg/RMG-Py/myrmgfiles/families/Intra_RH_Add_Endocyclic/training/dictionary.txt\n",
      "/rmg/RMG-Py/myrmgfiles/families/Intra_RH_Add_Exocyclic/NIST/dictionary.txt\n",
      "/rmg/RMG-Py/myrmgfiles/families/Intra_RH_Add_Exocyclic/training/dictionary.txt\n",
      "/rmg/RMG-Py/myrmgfiles/families/Intra_R_Add_Endocyclic/NIST/dictionary.txt\n",
      "/rmg/RMG-Py/myrmgfiles/families/Intra_R_Add_Endocyclic/training/dictionary.txt\n"
     ]
    },
    {
     "name": "stderr",
     "output_type": "stream",
     "text": [
      " 54%|██████████████████████████████████████████████████████████████████████████████████▎                                                                     | 78/144 [00:02<00:04, 14.44it/s]"
     ]
    },
    {
     "name": "stdout",
     "output_type": "stream",
     "text": [
      "/rmg/RMG-Py/myrmgfiles/families/Intra_R_Add_Exocyclic/NIST/dictionary.txt\n",
      "/rmg/RMG-Py/myrmgfiles/families/Intra_R_Add_Exocyclic/training/dictionary.txt\n"
     ]
    },
    {
     "name": "stderr",
     "output_type": "stream",
     "text": [
      " 65%|██████████████████████████████████████████████████████████████████████████████████████████████████▏                                                     | 93/144 [00:03<00:02, 21.40it/s]"
     ]
    },
    {
     "name": "stdout",
     "output_type": "stream",
     "text": [
      "/rmg/RMG-Py/myrmgfiles/families/Intra_R_Add_ExoTetCyclic/NIST/dictionary.txt\n",
      "/rmg/RMG-Py/myrmgfiles/families/Intra_R_Add_ExoTetCyclic/training/dictionary.txt\n",
      "/rmg/RMG-Py/myrmgfiles/families/Intra_R_Add_Exo_scission/training/dictionary.txt\n",
      "/rmg/RMG-Py/myrmgfiles/families/intra_substitutionCS_cyclization/NIST/dictionary.txt\n",
      "/rmg/RMG-Py/myrmgfiles/families/intra_substitutionCS_cyclization/training/dictionary.txt\n",
      "/rmg/RMG-Py/myrmgfiles/families/intra_substitutionCS_isomerization/NIST/dictionary.txt\n",
      "/rmg/RMG-Py/myrmgfiles/families/intra_substitutionCS_isomerization/training/dictionary.txt\n",
      "/rmg/RMG-Py/myrmgfiles/families/intra_substitutionS_cyclization/NIST/dictionary.txt\n",
      "/rmg/RMG-Py/myrmgfiles/families/intra_substitutionS_cyclization/training/dictionary.txt\n",
      "/rmg/RMG-Py/myrmgfiles/families/intra_substitutionS_isomerization/NIST/dictionary.txt\n",
      "/rmg/RMG-Py/myrmgfiles/families/intra_substitutionS_isomerization/training/dictionary.txt\n",
      "/rmg/RMG-Py/myrmgfiles/families/Ketoenol/NIST/dictionary.txt\n",
      "/rmg/RMG-Py/myrmgfiles/families/Ketoenol/training/dictionary.txt\n",
      "/rmg/RMG-Py/myrmgfiles/families/Korcek_step1/NIST/dictionary.txt\n",
      "/rmg/RMG-Py/myrmgfiles/families/Korcek_step1/training/dictionary.txt\n",
      "/rmg/RMG-Py/myrmgfiles/families/Korcek_step1_cat/training/dictionary.txt\n",
      "/rmg/RMG-Py/myrmgfiles/families/Korcek_step2/NIST/dictionary.txt\n",
      "/rmg/RMG-Py/myrmgfiles/families/Korcek_step2/training/dictionary.txt\n",
      "/rmg/RMG-Py/myrmgfiles/families/lone_electron_pair_bond/NIST/dictionary.txt\n",
      "/rmg/RMG-Py/myrmgfiles/families/lone_electron_pair_bond/training/dictionary.txt\n",
      "/rmg/RMG-Py/myrmgfiles/families/Peroxyl_Disproportionation/training/dictionary.txt\n",
      "/rmg/RMG-Py/myrmgfiles/families/Peroxyl_Termination/training/dictionary.txt\n",
      "/rmg/RMG-Py/myrmgfiles/families/Retroene/training/dictionary.txt\n"
     ]
    },
    {
     "name": "stderr",
     "output_type": "stream",
     "text": [
      " 72%|████████████████████████████████████████████████████████████████████████████████████████████████████████████                                           | 103/144 [00:03<00:01, 28.42it/s]"
     ]
    },
    {
     "name": "stdout",
     "output_type": "stream",
     "text": [
      "/rmg/RMG-Py/myrmgfiles/families/R_Addition_COm/NIST/dictionary.txt\n",
      "/rmg/RMG-Py/myrmgfiles/families/R_Addition_COm/training/dictionary.txt\n",
      "/rmg/RMG-Py/myrmgfiles/families/R_Addition_CSm/NIST/dictionary.txt\n",
      "/rmg/RMG-Py/myrmgfiles/families/R_Addition_CSm/training/dictionary.txt\n",
      "/rmg/RMG-Py/myrmgfiles/families/R_Addition_MultipleBond/NIST/dictionary.txt\n",
      "/rmg/RMG-Py/myrmgfiles/families/R_Addition_MultipleBond/training/dictionary.txt\n"
     ]
    },
    {
     "name": "stderr",
     "output_type": "stream",
     "text": [
      " 76%|██████████████████████████████████████████████████████████████████████████████████████████████████████████████████▎                                    | 109/144 [00:06<00:04,  8.19it/s]"
     ]
    },
    {
     "name": "stdout",
     "output_type": "stream",
     "text": [
      "/rmg/RMG-Py/myrmgfiles/families/R_Recombination/NIST/dictionary.txt\n",
      "/rmg/RMG-Py/myrmgfiles/families/R_Recombination/training/dictionary.txt\n"
     ]
    },
    {
     "name": "stderr",
     "output_type": "stream",
     "text": [
      " 82%|███████████████████████████████████████████████████████████████████████████████████████████████████████████████████████████▋                           | 118/144 [00:06<00:02, 10.81it/s]"
     ]
    },
    {
     "name": "stdout",
     "output_type": "stream",
     "text": [
      "/rmg/RMG-Py/myrmgfiles/families/Singlet_Carbene_Intra_Disproportionation/training/dictionary.txt\n",
      "/rmg/RMG-Py/myrmgfiles/families/Singlet_Val6_to_triplet/NIST/dictionary.txt\n",
      "/rmg/RMG-Py/myrmgfiles/families/Singlet_Val6_to_triplet/training/dictionary.txt\n",
      "/rmg/RMG-Py/myrmgfiles/families/SubstitutionS/NIST/dictionary.txt\n",
      "/rmg/RMG-Py/myrmgfiles/families/SubstitutionS/training/dictionary.txt\n",
      "/rmg/RMG-Py/myrmgfiles/families/Substitution_O/NIST/dictionary.txt\n",
      "/rmg/RMG-Py/myrmgfiles/families/Substitution_O/training/dictionary.txt\n",
      "/rmg/RMG-Py/myrmgfiles/families/Surface_Abstraction/training/dictionary.txt\n",
      "/rmg/RMG-Py/myrmgfiles/families/Surface_Abstraction_Beta/training/dictionary.txt\n",
      "/rmg/RMG-Py/myrmgfiles/families/Surface_Abstraction_Beta_double_vdW/training/dictionary.txt\n",
      "/rmg/RMG-Py/myrmgfiles/families/Surface_Abstraction_Single_vdW/training/dictionary.txt\n",
      "/rmg/RMG-Py/myrmgfiles/families/Surface_Abstraction_vdW/training/dictionary.txt\n",
      "/rmg/RMG-Py/myrmgfiles/families/Surface_Addition_Single_vdW/training/dictionary.txt\n",
      "/rmg/RMG-Py/myrmgfiles/families/Surface_Adsorption_Abstraction_vdW/training/dictionary.txt\n",
      "/rmg/RMG-Py/myrmgfiles/families/Surface_Adsorption_Bidentate/training/dictionary.txt\n"
     ]
    },
    {
     "name": "stderr",
     "output_type": "stream",
     "text": [
      " 97%|██████████████████████████████████████████████████████████████████████████████████████████████████████████████████████████████████████████████████▊    | 140/144 [00:06<00:00, 24.32it/s]"
     ]
    },
    {
     "name": "stdout",
     "output_type": "stream",
     "text": [
      "/rmg/RMG-Py/myrmgfiles/families/Surface_Adsorption_Dissociative/training/dictionary.txt\n",
      "/rmg/RMG-Py/myrmgfiles/families/Surface_Adsorption_Dissociative_Double/training/dictionary.txt\n",
      "/rmg/RMG-Py/myrmgfiles/families/Surface_Adsorption_Double/training/dictionary.txt\n",
      "/rmg/RMG-Py/myrmgfiles/families/Surface_Adsorption_Single/training/dictionary.txt\n",
      "/rmg/RMG-Py/myrmgfiles/families/Surface_Adsorption_vdW/training/dictionary.txt\n",
      "/rmg/RMG-Py/myrmgfiles/families/Surface_Bidentate_Dissociation/training/dictionary.txt\n",
      "/rmg/RMG-Py/myrmgfiles/families/Surface_Dissociation/training/dictionary.txt\n",
      "/rmg/RMG-Py/myrmgfiles/families/Surface_Dissociation_Beta/training/dictionary.txt\n",
      "/rmg/RMG-Py/myrmgfiles/families/Surface_Dissociation_Double_vdW/training/dictionary.txt\n",
      "/rmg/RMG-Py/myrmgfiles/families/Surface_Dissociation_to_Bidentate/training/dictionary.txt\n",
      "/rmg/RMG-Py/myrmgfiles/families/Surface_Dissociation_vdW/training/dictionary.txt\n",
      "/rmg/RMG-Py/myrmgfiles/families/Surface_DoubleBond_to_Bidentate/training/dictionary.txt\n",
      "/rmg/RMG-Py/myrmgfiles/families/Surface_Dual_Adsorption_vdW/training/dictionary.txt\n",
      "/rmg/RMG-Py/myrmgfiles/families/Surface_EleyRideal_Addition_Multiple_Bond/training/dictionary.txt\n",
      "/rmg/RMG-Py/myrmgfiles/families/Surface_Migration/training/dictionary.txt\n",
      "/rmg/RMG-Py/myrmgfiles/families/Surface_vdW_to_Bidentate/training/dictionary.txt\n"
     ]
    },
    {
     "name": "stderr",
     "output_type": "stream",
     "text": [
      "100%|███████████████████████████████████████████████████████████████████████████████████████████████████████████████████████████████████████████████████████| 144/144 [00:06<00:00, 21.21it/s]\n"
     ]
    },
    {
     "name": "stdout",
     "output_type": "stream",
     "text": [
      "/rmg/RMG-Py/myrmgfiles/families/XY_Addition_MultipleBond/training/dictionary.txt\n",
      "/rmg/RMG-Py/myrmgfiles/families/XY_elimination_hydroxyl/training/dictionary.txt\n"
     ]
    },
    {
     "name": "stderr",
     "output_type": "stream",
     "text": [
      "  2%|██▋                                                                                                                                                      | 3/174 [00:00<00:07, 24.38it/s]"
     ]
    },
    {
     "name": "stdout",
     "output_type": "stream",
     "text": [
      "/rmg/RMG-Py/myrmgfiles/libraries/1989_Stewart_2CH3_to_C2H5_H/dictionary.txt\n",
      "/rmg/RMG-Py/myrmgfiles/libraries/2-BTP/full/dictionary.txt\n",
      "/rmg/RMG-Py/myrmgfiles/libraries/2-BTP/seed/dictionary.txt\n",
      "/rmg/RMG-Py/myrmgfiles/libraries/2001_Tokmakov_H_Toluene_to_CH3_Benzene/dictionary.txt\n",
      "/rmg/RMG-Py/myrmgfiles/libraries/2003_Miller_Propargyl_Recomb_High_P/dictionary.txt\n"
     ]
    },
    {
     "name": "stderr",
     "output_type": "stream",
     "text": [
      "  3%|█████▎                                                                                                                                                   | 6/174 [00:00<00:07, 21.55it/s]"
     ]
    },
    {
     "name": "stdout",
     "output_type": "stream",
     "text": [
      "/rmg/RMG-Py/myrmgfiles/libraries/2005_Senosiain_OH_C2H2/dictionary.txt\n",
      "/rmg/RMG-Py/myrmgfiles/libraries/2006_Joshi_OH_CO/dictionary.txt\n",
      "/rmg/RMG-Py/myrmgfiles/libraries/2009_Sharma_C5H5_CH3_highP/dictionary.txt\n",
      "/rmg/RMG-Py/myrmgfiles/libraries/2015_Buras_C2H3_C4H6_highP/dictionary.txt\n",
      "/rmg/RMG-Py/myrmgfiles/libraries/Aromatics_high_pressure/C10H10_1/dictionary.txt\n"
     ]
    },
    {
     "name": "stderr",
     "output_type": "stream",
     "text": [
      "  7%|██████████▍                                                                                                                                             | 12/174 [00:00<00:10, 15.02it/s]"
     ]
    },
    {
     "name": "stdout",
     "output_type": "stream",
     "text": [
      "/rmg/RMG-Py/myrmgfiles/libraries/Aromatics_high_pressure/C10H10_2/dictionary.txt\n",
      "/rmg/RMG-Py/myrmgfiles/libraries/Aromatics_high_pressure/C10H10_H_abstraction/dictionary.txt\n",
      "/rmg/RMG-Py/myrmgfiles/libraries/Aromatics_high_pressure/C10H11_1/dictionary.txt\n",
      "/rmg/RMG-Py/myrmgfiles/libraries/Aromatics_high_pressure/C10H11_2/dictionary.txt\n",
      "/rmg/RMG-Py/myrmgfiles/libraries/Aromatics_high_pressure/C10H11_3/dictionary.txt\n"
     ]
    },
    {
     "name": "stderr",
     "output_type": "stream",
     "text": [
      " 12%|██████████████████▎                                                                                                                                     | 21/174 [00:01<00:06, 22.47it/s]"
     ]
    },
    {
     "name": "stdout",
     "output_type": "stream",
     "text": [
      "/rmg/RMG-Py/myrmgfiles/libraries/Aromatics_high_pressure/C10H11_4/dictionary.txt\n",
      "/rmg/RMG-Py/myrmgfiles/libraries/Aromatics_high_pressure/C10H7/dictionary.txt\n",
      "/rmg/RMG-Py/myrmgfiles/libraries/Aromatics_high_pressure/C10H8_H_abstraction_H_recomb/dictionary.txt\n",
      "/rmg/RMG-Py/myrmgfiles/libraries/Aromatics_high_pressure/C10H9_1/dictionary.txt\n",
      "/rmg/RMG-Py/myrmgfiles/libraries/Aromatics_high_pressure/C10H9_2/dictionary.txt\n",
      "/rmg/RMG-Py/myrmgfiles/libraries/Aromatics_high_pressure/C10H9_3/dictionary.txt\n",
      "/rmg/RMG-Py/myrmgfiles/libraries/Aromatics_high_pressure/C10H9_4/dictionary.txt\n",
      "/rmg/RMG-Py/myrmgfiles/libraries/Aromatics_high_pressure/C12H10_1/dictionary.txt\n",
      "/rmg/RMG-Py/myrmgfiles/libraries/Aromatics_high_pressure/C12H10_2/dictionary.txt\n",
      "/rmg/RMG-Py/myrmgfiles/libraries/Aromatics_high_pressure/C12H10_H_abstraction/dictionary.txt\n",
      "/rmg/RMG-Py/myrmgfiles/libraries/Aromatics_high_pressure/C12H11/dictionary.txt\n",
      "/rmg/RMG-Py/myrmgfiles/libraries/Aromatics_high_pressure/C12H8_H_abstraction/dictionary.txt\n",
      "/rmg/RMG-Py/myrmgfiles/libraries/Aromatics_high_pressure/C12H9/dictionary.txt\n"
     ]
    },
    {
     "name": "stderr",
     "output_type": "stream",
     "text": [
      " 19%|████████████████████████████▊                                                                                                                           | 33/174 [00:01<00:03, 36.49it/s]"
     ]
    },
    {
     "name": "stdout",
     "output_type": "stream",
     "text": [
      "/rmg/RMG-Py/myrmgfiles/libraries/Aromatics_high_pressure/C14H10_H_abstraction_H_recomb/dictionary.txt\n",
      "/rmg/RMG-Py/myrmgfiles/libraries/Aromatics_high_pressure/C14H11_1/dictionary.txt\n",
      "/rmg/RMG-Py/myrmgfiles/libraries/Aromatics_high_pressure/C14H11_2/dictionary.txt\n",
      "/rmg/RMG-Py/myrmgfiles/libraries/Aromatics_high_pressure/C14H11_3/dictionary.txt\n",
      "/rmg/RMG-Py/myrmgfiles/libraries/Aromatics_high_pressure/C14H11_4/dictionary.txt\n",
      "/rmg/RMG-Py/myrmgfiles/libraries/Aromatics_high_pressure/C14H9/dictionary.txt\n",
      "/rmg/RMG-Py/myrmgfiles/libraries/Aromatics_high_pressure/C16H11/dictionary.txt\n",
      "/rmg/RMG-Py/myrmgfiles/libraries/Aromatics_high_pressure/C7H8/dictionary.txt\n",
      "/rmg/RMG-Py/myrmgfiles/libraries/Aromatics_high_pressure/C7H8_H_abstraction/dictionary.txt\n",
      "/rmg/RMG-Py/myrmgfiles/libraries/Aromatics_high_pressure/C7H9/dictionary.txt\n",
      "/rmg/RMG-Py/myrmgfiles/libraries/Aromatics_high_pressure/C8H6_H_abstraction/dictionary.txt\n",
      "/rmg/RMG-Py/myrmgfiles/libraries/Aromatics_high_pressure/C8H7/dictionary.txt\n"
     ]
    },
    {
     "name": "stderr",
     "output_type": "stream",
     "text": [
      " 26%|███████████████████████████████████████▎                                                                                                                | 45/174 [00:01<00:02, 45.35it/s]"
     ]
    },
    {
     "name": "stdout",
     "output_type": "stream",
     "text": [
      "/rmg/RMG-Py/myrmgfiles/libraries/Aromatics_high_pressure/C8H8_H_abstraction/dictionary.txt\n",
      "/rmg/RMG-Py/myrmgfiles/libraries/Aromatics_high_pressure/C8H9/dictionary.txt\n",
      "/rmg/RMG-Py/myrmgfiles/libraries/Aromatics_high_pressure/C9H10_H_abstraction/dictionary.txt\n",
      "/rmg/RMG-Py/myrmgfiles/libraries/Aromatics_high_pressure/C9H11/dictionary.txt\n",
      "/rmg/RMG-Py/myrmgfiles/libraries/Aromatics_high_pressure/C9H7/dictionary.txt\n",
      "/rmg/RMG-Py/myrmgfiles/libraries/Aromatics_high_pressure/C9H8_1/dictionary.txt\n",
      "/rmg/RMG-Py/myrmgfiles/libraries/Aromatics_high_pressure/C9H8_2/dictionary.txt\n",
      "/rmg/RMG-Py/myrmgfiles/libraries/Aromatics_high_pressure/C9H8_H_abstraction/dictionary.txt\n",
      "/rmg/RMG-Py/myrmgfiles/libraries/Aromatics_high_pressure/C9H9_1/dictionary.txt\n",
      "/rmg/RMG-Py/myrmgfiles/libraries/Aromatics_high_pressure/C9H9_2/dictionary.txt\n",
      "/rmg/RMG-Py/myrmgfiles/libraries/biCPD_H_shift/dictionary.txt\n",
      "/rmg/RMG-Py/myrmgfiles/libraries/BurkeH2O2inArHe/dictionary.txt\n",
      "/rmg/RMG-Py/myrmgfiles/libraries/BurkeH2O2inN2/dictionary.txt\n",
      "/rmg/RMG-Py/myrmgfiles/libraries/Butadiene_Dimerization/dictionary.txt\n"
     ]
    },
    {
     "name": "stderr",
     "output_type": "stream",
     "text": [
      " 35%|█████████████████████████████████████████████████████▎                                                                                                  | 61/174 [00:01<00:01, 58.14it/s]"
     ]
    },
    {
     "name": "stdout",
     "output_type": "stream",
     "text": [
      "/rmg/RMG-Py/myrmgfiles/libraries/c-C5H5_CH3_Sharma/dictionary.txt\n",
      "/rmg/RMG-Py/myrmgfiles/libraries/C10H11/dictionary.txt\n",
      "/rmg/RMG-Py/myrmgfiles/libraries/C12H11_pdep/dictionary.txt\n",
      "/rmg/RMG-Py/myrmgfiles/libraries/C2H2_init/dictionary.txt\n",
      "/rmg/RMG-Py/myrmgfiles/libraries/C2H4+O_Klipp2017/dictionary.txt\n",
      "/rmg/RMG-Py/myrmgfiles/libraries/C3/dictionary.txt\n",
      "/rmg/RMG-Py/myrmgfiles/libraries/C6H5_C4H4_Mebel/dictionary.txt\n",
      "/rmg/RMG-Py/myrmgfiles/libraries/CF2BrCl/dictionary.txt\n",
      "/rmg/RMG-Py/myrmgfiles/libraries/CH3Cl/dictionary.txt\n"
     ]
    },
    {
     "name": "stderr",
     "output_type": "stream",
     "text": [
      " 39%|███████████████████████████████████████████████████████████▍                                                                                            | 68/174 [00:01<00:02, 42.09it/s]"
     ]
    },
    {
     "name": "stdout",
     "output_type": "stream",
     "text": [
      "/rmg/RMG-Py/myrmgfiles/libraries/Chernov/dictionary.txt\n",
      "/rmg/RMG-Py/myrmgfiles/libraries/combustion_core/version2/dictionary.txt\n",
      "/rmg/RMG-Py/myrmgfiles/libraries/combustion_core/version3/dictionary.txt\n",
      "/rmg/RMG-Py/myrmgfiles/libraries/combustion_core/version4/dictionary.txt\n",
      "/rmg/RMG-Py/myrmgfiles/libraries/combustion_core/version5/dictionary.txt\n",
      "/rmg/RMG-Py/myrmgfiles/libraries/CurranPentane/dictionary.txt\n",
      "/rmg/RMG-Py/myrmgfiles/libraries/DMSOxy/dictionary.txt\n",
      "/rmg/RMG-Py/myrmgfiles/libraries/Dooley/C1/dictionary.txt\n",
      "/rmg/RMG-Py/myrmgfiles/libraries/Dooley/methylformate/dictionary.txt\n",
      "/rmg/RMG-Py/myrmgfiles/libraries/Dooley/methylformate_2/dictionary.txt\n",
      "/rmg/RMG-Py/myrmgfiles/libraries/Dooley/methylformate_all_ARHEbathgas/dictionary.txt\n"
     ]
    },
    {
     "name": "stderr",
     "output_type": "stream",
     "text": [
      " 43%|████████████████████████████████████████████████████████████████▋                                                                                       | 74/174 [00:02<00:04, 24.06it/s]"
     ]
    },
    {
     "name": "stdout",
     "output_type": "stream",
     "text": [
      "/rmg/RMG-Py/myrmgfiles/libraries/Dooley/methylformate_all_N2bathgas/dictionary.txt\n",
      "/rmg/RMG-Py/myrmgfiles/libraries/DTU_mech_CH3Cl/dictionary.txt\n",
      "/rmg/RMG-Py/myrmgfiles/libraries/ERC-FoundationFuelv0.9/dictionary.txt\n",
      "/rmg/RMG-Py/myrmgfiles/libraries/Ethylamine/dictionary.txt\n"
     ]
    },
    {
     "name": "stderr",
     "output_type": "stream",
     "text": [
      " 47%|███████████████████████████████████████████████████████████████████████▋                                                                                | 82/174 [00:02<00:03, 23.70it/s]"
     ]
    },
    {
     "name": "stdout",
     "output_type": "stream",
     "text": [
      "/rmg/RMG-Py/myrmgfiles/libraries/fascella/dictionary.txt\n",
      "/rmg/RMG-Py/myrmgfiles/libraries/FFCM1(-)/dictionary.txt\n",
      "/rmg/RMG-Py/myrmgfiles/libraries/First_to_Second_Aromatic_Ring/2005_Ismail_C6H5_C4H6_highP/dictionary.txt\n",
      "/rmg/RMG-Py/myrmgfiles/libraries/First_to_Second_Aromatic_Ring/2012_Matsugi_C3H3_C7H7_highP/dictionary.txt\n",
      "/rmg/RMG-Py/myrmgfiles/libraries/First_to_Second_Aromatic_Ring/2016_Mebel_C10H9_highP/dictionary.txt\n"
     ]
    },
    {
     "name": "stderr",
     "output_type": "stream",
     "text": [
      " 49%|███████████████████████████████████████████████████████████████████████████▏                                                                            | 86/174 [00:03<00:03, 22.74it/s]"
     ]
    },
    {
     "name": "stdout",
     "output_type": "stream",
     "text": [
      "/rmg/RMG-Py/myrmgfiles/libraries/First_to_Second_Aromatic_Ring/2016_Mebel_C9H9_highP/dictionary.txt\n",
      "/rmg/RMG-Py/myrmgfiles/libraries/First_to_Second_Aromatic_Ring/2016_Mebel_Indene_CH3_highP/dictionary.txt\n",
      "/rmg/RMG-Py/myrmgfiles/libraries/First_to_Second_Aromatic_Ring/2017_Buras_C6H5_C3H6_highP/dictionary.txt\n",
      "/rmg/RMG-Py/myrmgfiles/libraries/First_to_Second_Aromatic_Ring/2017_Mebel_C6H4C2H_C2H2_highP/dictionary.txt\n",
      "/rmg/RMG-Py/myrmgfiles/libraries/First_to_Second_Aromatic_Ring/2017_Mebel_C6H5C2H2_C2H2_highP/dictionary.txt\n",
      "/rmg/RMG-Py/myrmgfiles/libraries/First_to_Second_Aromatic_Ring/2017_Mebel_C6H5_C2H2_highP/dictionary.txt\n",
      "/rmg/RMG-Py/myrmgfiles/libraries/First_to_Second_Aromatic_Ring/2017_Mebel_C6H5_C4H4_highP/dictionary.txt\n",
      "/rmg/RMG-Py/myrmgfiles/libraries/First_to_Second_Aromatic_Ring/phenyl_diacetylene_effective/dictionary.txt\n",
      "/rmg/RMG-Py/myrmgfiles/libraries/Fulvene_H/dictionary.txt\n",
      "/rmg/RMG-Py/myrmgfiles/libraries/Glarborg/C0/dictionary.txt\n",
      "/rmg/RMG-Py/myrmgfiles/libraries/Glarborg/C1/dictionary.txt\n"
     ]
    },
    {
     "name": "stderr",
     "output_type": "stream",
     "text": [
      " 59%|████████████████████████████████████████████████████████████████████████████████████████▌                                                              | 102/174 [00:03<00:01, 40.51it/s]"
     ]
    },
    {
     "name": "stdout",
     "output_type": "stream",
     "text": [
      "/rmg/RMG-Py/myrmgfiles/libraries/Glarborg/C2/dictionary.txt\n",
      "/rmg/RMG-Py/myrmgfiles/libraries/Glarborg/C3/dictionary.txt\n",
      "/rmg/RMG-Py/myrmgfiles/libraries/Glarborg/highP/dictionary.txt\n",
      "/rmg/RMG-Py/myrmgfiles/libraries/GRI-HCO/dictionary.txt\n",
      "/rmg/RMG-Py/myrmgfiles/libraries/GRI-Mech3.0/dictionary.txt\n",
      "/rmg/RMG-Py/myrmgfiles/libraries/GRI-Mech3.0-N/dictionary.txt\n",
      "/rmg/RMG-Py/myrmgfiles/libraries/HydrazinePDep/dictionary.txt\n",
      "/rmg/RMG-Py/myrmgfiles/libraries/Iodine-R_recombination/dictionary.txt\n",
      "/rmg/RMG-Py/myrmgfiles/libraries/JetSurF1.0/dictionary.txt\n",
      "/rmg/RMG-Py/myrmgfiles/libraries/JetSurF2.0/dictionary.txt\n"
     ]
    },
    {
     "name": "stderr",
     "output_type": "stream",
     "text": [
      " 62%|█████████████████████████████████████████████████████████████████████████████████████████████▋                                                         | 108/174 [00:03<00:02, 25.96it/s]"
     ]
    },
    {
     "name": "stdout",
     "output_type": "stream",
     "text": [
      "/rmg/RMG-Py/myrmgfiles/libraries/kislovB/dictionary.txt\n",
      "/rmg/RMG-Py/myrmgfiles/libraries/Klippenstein_Glarborg2016/dictionary.txt\n",
      "/rmg/RMG-Py/myrmgfiles/libraries/Lai_Hexylbenzene/dictionary.txt\n",
      "/rmg/RMG-Py/myrmgfiles/libraries/Mebel_C6H5_C2H2/dictionary.txt\n",
      "/rmg/RMG-Py/myrmgfiles/libraries/Mebel_Naphthyl/dictionary.txt\n",
      "/rmg/RMG-Py/myrmgfiles/libraries/Methylformate/dictionary.txt\n",
      "/rmg/RMG-Py/myrmgfiles/libraries/N-S_interactions/dictionary.txt\n"
     ]
    },
    {
     "name": "stderr",
     "output_type": "stream",
     "text": [
      " 65%|██████████████████████████████████████████████████████████████████████████████████████████████████                                                     | 113/174 [00:03<00:02, 27.04it/s]"
     ]
    },
    {
     "name": "stdout",
     "output_type": "stream",
     "text": [
      "/rmg/RMG-Py/myrmgfiles/libraries/naphthalene_H/dictionary.txt\n",
      "/rmg/RMG-Py/myrmgfiles/libraries/Narayanaswamy/dictionary.txt\n",
      "/rmg/RMG-Py/myrmgfiles/libraries/NIST_Fluorine/CH2F2/full/dictionary.txt\n",
      "/rmg/RMG-Py/myrmgfiles/libraries/NIST_Fluorine/CH2F2/seed/dictionary.txt\n",
      "/rmg/RMG-Py/myrmgfiles/libraries/NIST_Fluorine/full/dictionary.txt\n",
      "/rmg/RMG-Py/myrmgfiles/libraries/NIST_Fluorine/seed/dictionary.txt\n",
      "/rmg/RMG-Py/myrmgfiles/libraries/Nitrogen_Dean_and_Bozzelli/dictionary.txt\n"
     ]
    },
    {
     "name": "stderr",
     "output_type": "stream",
     "text": [
      " 70%|█████████████████████████████████████████████████████████████████████████████████████████████████████████▊                                             | 122/174 [00:04<00:01, 30.56it/s]"
     ]
    },
    {
     "name": "stdout",
     "output_type": "stream",
     "text": [
      "/rmg/RMG-Py/myrmgfiles/libraries/Nitrogen_Glarborg_Gimenez_et_al/dictionary.txt\n",
      "/rmg/RMG-Py/myrmgfiles/libraries/Nitrogen_Glarborg_Lucassen_et_al/dictionary.txt\n",
      "/rmg/RMG-Py/myrmgfiles/libraries/Nitrogen_Glarborg_Zhang_et_al/dictionary.txt\n",
      "/rmg/RMG-Py/myrmgfiles/libraries/NOx2018/dictionary.txt\n",
      "/rmg/RMG-Py/myrmgfiles/libraries/primaryH2O2/dictionary.txt\n",
      "/rmg/RMG-Py/myrmgfiles/libraries/primaryNitrogenLibrary/dictionary.txt\n",
      "/rmg/RMG-Py/myrmgfiles/libraries/primaryNitrogenLibrary/LowT/dictionary.txt\n"
     ]
    },
    {
     "name": "stderr",
     "output_type": "stream",
     "text": [
      " 75%|█████████████████████████████████████████████████████████████████████████████████████████████████████████████████▋                                     | 131/174 [00:04<00:01, 35.53it/s]"
     ]
    },
    {
     "name": "stdout",
     "output_type": "stream",
     "text": [
      "/rmg/RMG-Py/myrmgfiles/libraries/primarySulfurLibrary/dictionary.txt\n",
      "/rmg/RMG-Py/myrmgfiles/libraries/Sulfur/DMDS/dictionary.txt\n",
      "/rmg/RMG-Py/myrmgfiles/libraries/Sulfur/DMS/dictionary.txt\n",
      "/rmg/RMG-Py/myrmgfiles/libraries/Sulfur/DTBS/dictionary.txt\n",
      "/rmg/RMG-Py/myrmgfiles/libraries/Sulfur/GlarborgBozzelli/dictionary.txt\n",
      "/rmg/RMG-Py/myrmgfiles/libraries/Sulfur/GlarborgH2S/dictionary.txt\n",
      "/rmg/RMG-Py/myrmgfiles/libraries/Sulfur/GlarborgH2S/alt/dictionary.txt\n",
      "/rmg/RMG-Py/myrmgfiles/libraries/Sulfur/GlarborgMarshall/dictionary.txt\n",
      "/rmg/RMG-Py/myrmgfiles/libraries/Sulfur/GlarborgNS/dictionary.txt\n",
      "/rmg/RMG-Py/myrmgfiles/libraries/Sulfur/Hexanethial_nr/dictionary.txt\n",
      "/rmg/RMG-Py/myrmgfiles/libraries/Sulfur/HSSH_1bar/dictionary.txt\n",
      "/rmg/RMG-Py/myrmgfiles/libraries/Sulfur/Sendt/dictionary.txt\n",
      "/rmg/RMG-Py/myrmgfiles/libraries/Sulfur/Thial_Hydrolysis/dictionary.txt\n",
      "/rmg/RMG-Py/myrmgfiles/libraries/Sulfur/TP_Song/dictionary.txt\n"
     ]
    },
    {
     "name": "stderr",
     "output_type": "stream",
     "text": [
      " 84%|███████████████████████████████████████████████████████████████████████████████████████████████████████████████████████████████▌                       | 147/174 [00:04<00:00, 52.75it/s]"
     ]
    },
    {
     "name": "stdout",
     "output_type": "stream",
     "text": [
      "/rmg/RMG-Py/myrmgfiles/libraries/Surface/Ammonia/Duan_Ni111/dictionary.txt\n",
      "/rmg/RMG-Py/myrmgfiles/libraries/Surface/Ammonia/Duan_Ni211/dictionary.txt\n",
      "/rmg/RMG-Py/myrmgfiles/libraries/Surface/Ammonia/Kraehnert_Pt111/dictionary.txt\n",
      "/rmg/RMG-Py/myrmgfiles/libraries/Surface/Ammonia/Novell_Pd111/dictionary.txt\n",
      "/rmg/RMG-Py/myrmgfiles/libraries/Surface/Ammonia/Novell_Pt111/dictionary.txt\n",
      "/rmg/RMG-Py/myrmgfiles/libraries/Surface/Ammonia/Novell_Rh111/dictionary.txt\n",
      "/rmg/RMG-Py/myrmgfiles/libraries/Surface/Ammonia/Offermans_Pt111/dictionary.txt\n",
      "/rmg/RMG-Py/myrmgfiles/libraries/Surface/Ammonia/Popa_Rh111/dictionary.txt\n",
      "/rmg/RMG-Py/myrmgfiles/libraries/Surface/Ammonia/Rebrov_Pt111/dictionary.txt\n",
      "/rmg/RMG-Py/myrmgfiles/libraries/Surface/Ammonia/Roldan_Ru0001/dictionary.txt\n",
      "/rmg/RMG-Py/myrmgfiles/libraries/Surface/Ammonia/Scheuer_Pt/dictionary.txt\n",
      "/rmg/RMG-Py/myrmgfiles/libraries/Surface/Ammonia/Schneider_Pd111/dictionary.txt\n",
      "/rmg/RMG-Py/myrmgfiles/libraries/Surface/Ammonia/Schneider_Pd211/dictionary.txt\n",
      "/rmg/RMG-Py/myrmgfiles/libraries/Surface/Ammonia/Schneider_Pt111/dictionary.txt\n"
     ]
    },
    {
     "name": "stderr",
     "output_type": "stream",
     "text": [
      " 93%|████████████████████████████████████████████████████████████████████████████████████████████████████████████████████████████████████████████▌          | 162/174 [00:04<00:00, 59.85it/s]"
     ]
    },
    {
     "name": "stdout",
     "output_type": "stream",
     "text": [
      "/rmg/RMG-Py/myrmgfiles/libraries/Surface/Ammonia/Schneider_Pt211/dictionary.txt\n",
      "/rmg/RMG-Py/myrmgfiles/libraries/Surface/Ammonia/Schneider_Rh111/dictionary.txt\n",
      "/rmg/RMG-Py/myrmgfiles/libraries/Surface/Ammonia/Schneider_Rh211/dictionary.txt\n",
      "/rmg/RMG-Py/myrmgfiles/libraries/Surface/Ammonia/Vlachos_Ru0001/dictionary.txt\n",
      "/rmg/RMG-Py/myrmgfiles/libraries/Surface/CPOX_Pt/Deutschmann2006_adjusted/dictionary.txt\n",
      "/rmg/RMG-Py/myrmgfiles/libraries/Surface/DOC/Arevalo_Pt111/dictionary.txt\n",
      "/rmg/RMG-Py/myrmgfiles/libraries/Surface/DOC/Ishikawa_Rh111/dictionary.txt\n",
      "/rmg/RMG-Py/myrmgfiles/libraries/Surface/DOC/Mhadeshwar_Pt111/dictionary.txt\n",
      "/rmg/RMG-Py/myrmgfiles/libraries/Surface/DOC/Nitrogen/dictionary.txt\n",
      "/rmg/RMG-Py/myrmgfiles/libraries/Surface/Example/dictionary.txt\n",
      "/rmg/RMG-Py/myrmgfiles/libraries/Surface/Hydrazine/Roldan_Cu111/dictionary.txt\n",
      "/rmg/RMG-Py/myrmgfiles/libraries/Surface/Hydrazine/Roldan_Ir111/dictionary.txt\n",
      "/rmg/RMG-Py/myrmgfiles/libraries/Surface/Methane/Deutschmann_Ni/dictionary.txt\n"
     ]
    },
    {
     "name": "stderr",
     "output_type": "stream",
     "text": [
      " 97%|██████████████████████████████████████████████████████████████████████████████████████████████████████████████████████████████████████████████████▋    | 169/174 [00:04<00:00, 60.27it/s]"
     ]
    },
    {
     "name": "stdout",
     "output_type": "stream",
     "text": [
      "/rmg/RMG-Py/myrmgfiles/libraries/Surface/Methane/Deutschmann_Ni_full/dictionary.txt\n",
      "/rmg/RMG-Py/myrmgfiles/libraries/Surface/Methane/Deutschmann_Pt/dictionary.txt\n",
      "/rmg/RMG-Py/myrmgfiles/libraries/Surface/Methane/Vlachos_Pt111/dictionary.txt\n",
      "/rmg/RMG-Py/myrmgfiles/libraries/Surface/Methane/Vlachos_Rh/dictionary.txt\n",
      "/rmg/RMG-Py/myrmgfiles/libraries/TEOS/dictionary.txt\n",
      "/rmg/RMG-Py/myrmgfiles/libraries/vinylCPD_H/dictionary.txt\n",
      "/rmg/RMG-Py/myrmgfiles/libraries/YF/full/dictionary.txt\n",
      "/rmg/RMG-Py/myrmgfiles/libraries/YF/seed/dictionary.txt\n"
     ]
    },
    {
     "name": "stderr",
     "output_type": "stream",
     "text": [
      "100%|███████████████████████████████████████████████████████████████████████████████████████████████████████████████████████████████████████████████████████| 174/174 [00:05<00:00, 34.20it/s]\n"
     ]
    }
   ],
   "source": [
    "for mode in [\"families\", \"libraries\"]:\n",
    "    # find all dictionary.txt files\n",
    "    dict_file_list = []\n",
    "    for root, dirs, files in os.walk(path_prefix + mode):\n",
    "        for file in files:\n",
    "            if file.lower().endswith('.txt') and file == \"dictionary.txt\":\n",
    "                dict_file_list.append(os.path.join(root, file))\n",
    "    \n",
    "    data = [('formula', 'smiles', 'path')]\n",
    "    \n",
    "    # for each file, parse adjacency lists and convert them to smiles\n",
    "    for path in tqdm(dict_file_list):\n",
    "        print(path)\n",
    "        f = open(path, \"r\")\n",
    "        text = f.readlines()\n",
    "\n",
    "        names = []\n",
    "        adj_lists = []\n",
    "\n",
    "        # split adjacency lists \n",
    "        begin = 0\n",
    "\n",
    "        # handle the last compound in the file\n",
    "        if len(text) > 0 and text[-1] != \"\\n\":\n",
    "            text.append(\"\\n\")\n",
    "\n",
    "        for i in range(len(text)):\n",
    "            if text[i] == \"\\n\":\n",
    "                # handle incorrect format for families\n",
    "                if  text[begin] != \"\\n\":\n",
    "                    names.append(text[begin].replace(\"\\n\",\"\").replace(\" \",\"\"))\n",
    "                    adj_lists.append(\"\".join(text[begin+1: i+1]))\n",
    "\n",
    "                begin = i+1\n",
    "\n",
    "        # convert to smiles and append to data\n",
    "        for i in range(len(adj_lists)):\n",
    "            cc = Molecule().from_adjacency_list(adj_lists[i])\n",
    "            s = to_smiles(cc,backend=\"openbabel\")\n",
    "            \n",
    "            data.append((names[i], s, path.replace(path_prefix, \"RMG-database/input/kinetics/\")))\n",
    "            \n",
    "    # store pickle\n",
    "    data_file = open(path_prefix + 'molecule_smiles_{}.pickle'.format(mode), 'wb')\n",
    "    pickle.dump(data, data_file)"
   ]
  },
  {
   "cell_type": "markdown",
   "id": "6121f59c",
   "metadata": {},
   "source": [
    "# process all reaction smiles"
   ]
  },
  {
   "cell_type": "code",
   "execution_count": 6,
   "id": "38be32ea",
   "metadata": {},
   "outputs": [],
   "source": [
    "import codecs\n",
    "import logging\n",
    "import os.path\n",
    "import re\n",
    "from collections import OrderedDict\n",
    "\n",
    "import numpy as np\n",
    "\n",
    "from rmgpy.data.base import DatabaseError, Database, Entry\n",
    "from rmgpy.data.kinetics.common import save_entry\n",
    "from rmgpy.data.kinetics.family import TemplateReaction\n",
    "from rmgpy.kinetics import Arrhenius, ThirdBody, Lindemann, Troe, \\\n",
    "                           PDepArrhenius, MultiArrhenius, MultiPDepArrhenius, Chebyshev \n",
    "from rmgpy.kinetics.surface import StickingCoefficient\n",
    "from rmgpy.molecule import Molecule\n",
    "from rmgpy.reaction import Reaction\n",
    "from rmgpy.species import Species\n",
    "\n",
    "from rmgpy.data.kinetics import *\n",
    "from rmgpy.data.reference import *\n",
    "\n",
    "from rmgpy.kinetics import Arrhenius, ArrheniusEP, ThirdBody, Lindemann, Troe, \\\n",
    "                           PDepArrhenius, MultiArrhenius, MultiPDepArrhenius, \\\n",
    "                           Chebyshev, KineticsData, StickingCoefficient, \\\n",
    "                           StickingCoefficientBEP, SurfaceArrhenius, SurfaceArrheniusBEP, ArrheniusBM"
   ]
  },
  {
   "cell_type": "code",
   "execution_count": 7,
   "id": "5e211062",
   "metadata": {},
   "outputs": [],
   "source": [
    "# changed definition \n",
    "# https://github.com/ReactionMechanismGenerator/RMG-Py/blob/300c78290fdb1e6c928068c0049c7f73093d373d/rmgpy/data/kinetics/library.py#L525\n",
    "def load_entry(\n",
    "                   index,\n",
    "                   label,\n",
    "                   kinetics,\n",
    "                   rank = None,\n",
    "                   degeneracy=1,\n",
    "                   duplicate=False,\n",
    "                   reversible=True,\n",
    "                   reference=None,\n",
    "                   referenceType='',\n",
    "                   shortDesc='',\n",
    "                   longDesc='',\n",
    "                   allow_pdep_route=False,\n",
    "                   elementary_high_p=False,\n",
    "                   allow_max_rate_violation=False,\n",
    "                   metal=None,\n",
    "                   site=None,\n",
    "                   facet=None,\n",
    "                   ):\n",
    "        \"\"\"\n",
    "        Method for parsing entries in database files.\n",
    "        Note that these argument names are retained for backward compatibility.\n",
    "        \"\"\"\n",
    "\n",
    "        # reactants = [Species(label=reactant1.strip().splitlines()[0].strip(), molecule=[Molecule().from_adjacency_list(reactant1)])]\n",
    "        # if reactant2 is not None: reactants.append(Species(label=reactant2.strip().splitlines()[0].strip(), molecule=[Molecule().from_adjacency_list(reactant2)]))\n",
    "        # if reactant3 is not None: reactants.append(Species(label=reactant3.strip().splitlines()[0].strip(), molecule=[Molecule().from_adjacency_list(reactant3)]))\n",
    "        #\n",
    "        # products = [Species(label=product1.strip().splitlines()[0].strip(), molecule=[Molecule().from_adjacency_list(product1)])]\n",
    "        # if product2 is not None: products.append(Species(label=product2.strip().splitlines()[0].strip(), molecule=[Molecule().from_adjacency_list(product2)]))\n",
    "        # if product3 is not None: products.append(Species(label=product3.strip().splitlines()[0].strip(), molecule=[Molecule().from_adjacency_list(product3)]))\n",
    "\n",
    "        # Make a blank reaction\n",
    "        rxn = Reaction(reactants=[], products=[], degeneracy=degeneracy, duplicate=duplicate, reversible=reversible,\n",
    "                       allow_pdep_route=allow_pdep_route, elementary_high_p=elementary_high_p,\n",
    "                       allow_max_rate_violation=allow_max_rate_violation)\n",
    "        # if not rxn.is_balanced():\n",
    "        #    raise DatabaseError('Reaction {0} in kinetics library {1} was not balanced! Please reformulate.'.format(rxn, self.label))\n",
    "        # label = str(rxn)\n",
    "        return Entry(\n",
    "            index=index,\n",
    "            label=label,\n",
    "            item=rxn,\n",
    "            data=kinetics,\n",
    "            reference=reference,\n",
    "            reference_type=referenceType,\n",
    "            short_desc=shortDesc,\n",
    "            long_desc=longDesc.strip(),\n",
    "            metal=metal,\n",
    "            site=site,\n",
    "            facet=facet,\n",
    "        )"
   ]
  },
  {
   "cell_type": "code",
   "execution_count": 8,
   "id": "ac307b6f",
   "metadata": {
    "scrolled": true,
    "tags": []
   },
   "outputs": [
    {
     "name": "stderr",
     "output_type": "stream",
     "text": [
      "  4%|██████▍                                                                                                                                                  | 6/144 [00:00<00:03, 36.98it/s]"
     ]
    },
    {
     "name": "stdout",
     "output_type": "stream",
     "text": [
      "/rmg/RMG-Py/myrmgfiles/families/1+2_Cycloaddition/NIST/reactions.py\n",
      "/rmg/RMG-Py/myrmgfiles/families/1+2_Cycloaddition/training/reactions.py\n",
      "/rmg/RMG-Py/myrmgfiles/families/1,2-Birad_to_alkene/NIST/reactions.py\n",
      "/rmg/RMG-Py/myrmgfiles/families/1,2-Birad_to_alkene/training/reactions.py\n",
      "/rmg/RMG-Py/myrmgfiles/families/1,2_Insertion_carbene/NIST/reactions.py\n",
      "/rmg/RMG-Py/myrmgfiles/families/1,2_Insertion_carbene/training/reactions.py\n",
      "/rmg/RMG-Py/myrmgfiles/families/1,2_Insertion_CO/NIST/reactions.py\n",
      "/rmg/RMG-Py/myrmgfiles/families/1,2_Insertion_CO/training/reactions.py\n",
      "/rmg/RMG-Py/myrmgfiles/families/1,2_NH3_elimination/training/reactions.py\n"
     ]
    },
    {
     "name": "stderr",
     "output_type": "stream",
     "text": [
      "  8%|████████████▋                                                                                                                                           | 12/144 [00:00<00:02, 46.95it/s]"
     ]
    },
    {
     "name": "stdout",
     "output_type": "stream",
     "text": [
      "/rmg/RMG-Py/myrmgfiles/families/1,2_shiftC/training/reactions.py\n",
      "/rmg/RMG-Py/myrmgfiles/families/1,2_shiftS/NIST/reactions.py\n",
      "/rmg/RMG-Py/myrmgfiles/families/1,2_shiftS/training/reactions.py\n",
      "/rmg/RMG-Py/myrmgfiles/families/1,2_XY_interchange/training/reactions.py\n",
      "/rmg/RMG-Py/myrmgfiles/families/1,3_Insertion_CO2/NIST/reactions.py\n",
      "/rmg/RMG-Py/myrmgfiles/families/1,3_Insertion_CO2/training/reactions.py\n",
      "/rmg/RMG-Py/myrmgfiles/families/1,3_Insertion_ROR/NIST/reactions.py\n"
     ]
    },
    {
     "name": "stderr",
     "output_type": "stream",
     "text": [
      " 16%|████████████████████████▎                                                                                                                               | 23/144 [00:00<00:03, 37.68it/s]"
     ]
    },
    {
     "name": "stdout",
     "output_type": "stream",
     "text": [
      "/rmg/RMG-Py/myrmgfiles/families/1,3_Insertion_ROR/training/reactions.py\n",
      "/rmg/RMG-Py/myrmgfiles/families/1,3_Insertion_RSR/NIST/reactions.py\n",
      "/rmg/RMG-Py/myrmgfiles/families/1,3_Insertion_RSR/training/reactions.py\n",
      "/rmg/RMG-Py/myrmgfiles/families/1,3_NH3_elimination/training/reactions.py\n",
      "/rmg/RMG-Py/myrmgfiles/families/1,3_sigmatropic_rearrangement/NIST/reactions.py\n",
      "/rmg/RMG-Py/myrmgfiles/families/1,3_sigmatropic_rearrangement/training/reactions.py\n",
      "/rmg/RMG-Py/myrmgfiles/families/1,4_Cyclic_birad_scission/training/reactions.py\n",
      "/rmg/RMG-Py/myrmgfiles/families/1,4_Linear_birad_scission/training/reactions.py\n",
      "/rmg/RMG-Py/myrmgfiles/families/2+2_cycloaddition/NIST/reactions.py\n"
     ]
    },
    {
     "name": "stderr",
     "output_type": "stream",
     "text": [
      " 24%|████████████████████████████████████▉                                                                                                                   | 35/144 [00:00<00:02, 41.33it/s]"
     ]
    },
    {
     "name": "stdout",
     "output_type": "stream",
     "text": [
      "/rmg/RMG-Py/myrmgfiles/families/2+2_cycloaddition/training/reactions.py\n",
      "/rmg/RMG-Py/myrmgfiles/families/6_membered_central_C-C_shift/training/reactions.py\n",
      "/rmg/RMG-Py/myrmgfiles/families/Baeyer-Villiger_step1_cat/training/reactions.py\n",
      "/rmg/RMG-Py/myrmgfiles/families/Baeyer-Villiger_step2/training/reactions.py\n",
      "/rmg/RMG-Py/myrmgfiles/families/Baeyer-Villiger_step2_cat/training/reactions.py\n",
      "/rmg/RMG-Py/myrmgfiles/families/Bimolec_Hydroperoxide_Decomposition/training/reactions.py\n",
      "/rmg/RMG-Py/myrmgfiles/families/Birad_recombination/NIST/reactions.py\n",
      "/rmg/RMG-Py/myrmgfiles/families/Birad_recombination/training/reactions.py\n",
      "/rmg/RMG-Py/myrmgfiles/families/Birad_R_Recombination/NIST/reactions.py\n",
      "/rmg/RMG-Py/myrmgfiles/families/Birad_R_Recombination/training/reactions.py\n",
      "/rmg/RMG-Py/myrmgfiles/families/Br_Abstraction/training/reactions.py\n",
      "/rmg/RMG-Py/myrmgfiles/families/Cl_Abstraction/training/reactions.py\n"
     ]
    },
    {
     "name": "stderr",
     "output_type": "stream",
     "text": [
      " 28%|██████████████████████████████████████████▏                                                                                                             | 40/144 [00:01<00:06, 16.18it/s]"
     ]
    },
    {
     "name": "stdout",
     "output_type": "stream",
     "text": [
      "/rmg/RMG-Py/myrmgfiles/families/Concerted_Intra_Diels_alder_monocyclic_1,2_shiftH/training/reactions.py\n",
      "/rmg/RMG-Py/myrmgfiles/families/CO_Disproportionation/training/reactions.py\n",
      "/rmg/RMG-Py/myrmgfiles/families/Cyclic_Ether_Formation/NIST/reactions.py\n",
      "/rmg/RMG-Py/myrmgfiles/families/Cyclic_Ether_Formation/training/reactions.py\n",
      "/rmg/RMG-Py/myrmgfiles/families/Cyclic_Thioether_Formation/NIST/reactions.py\n",
      "/rmg/RMG-Py/myrmgfiles/families/Cyclic_Thioether_Formation/training/reactions.py\n"
     ]
    },
    {
     "name": "stderr",
     "output_type": "stream",
     "text": [
      " 31%|██████████████████████████████████████████████▍                                                                                                         | 44/144 [00:01<00:05, 18.02it/s]"
     ]
    },
    {
     "name": "stdout",
     "output_type": "stream",
     "text": [
      "/rmg/RMG-Py/myrmgfiles/families/Cyclopentadiene_scission/training/reactions.py\n",
      "/rmg/RMG-Py/myrmgfiles/families/Diels_alder_addition/NIST/reactions.py\n",
      "/rmg/RMG-Py/myrmgfiles/families/Diels_alder_addition/training/reactions.py\n",
      "/rmg/RMG-Py/myrmgfiles/families/Diels_alder_addition_Aromatic/training/reactions.py\n",
      "/rmg/RMG-Py/myrmgfiles/families/Disproportionation/NIST/reactions.py\n"
     ]
    },
    {
     "name": "stderr",
     "output_type": "stream",
     "text": [
      " 33%|██████████████████████████████████████████████████▋                                                                                                     | 48/144 [00:02<00:06, 14.35it/s]"
     ]
    },
    {
     "name": "stdout",
     "output_type": "stream",
     "text": [
      "/rmg/RMG-Py/myrmgfiles/families/Disproportionation/training/reactions.py\n",
      "/rmg/RMG-Py/myrmgfiles/families/Disproportionation-Y/training/reactions.py\n",
      "/rmg/RMG-Py/myrmgfiles/families/F_Abstraction/training/reactions.py\n"
     ]
    },
    {
     "name": "stderr",
     "output_type": "stream",
     "text": [
      " 35%|█████████████████████████████████████████████████████▊                                                                                                  | 51/144 [00:02<00:08, 10.85it/s]"
     ]
    },
    {
     "name": "stdout",
     "output_type": "stream",
     "text": [
      "/rmg/RMG-Py/myrmgfiles/families/H2_Loss/training/reactions.py\n",
      "/rmg/RMG-Py/myrmgfiles/families/halocarbene_recombination/training/reactions.py\n",
      "/rmg/RMG-Py/myrmgfiles/families/halocarbene_recombination_double/training/reactions.py\n"
     ]
    },
    {
     "name": "stderr",
     "output_type": "stream",
     "text": [
      " 38%|█████████████████████████████████████████████████████████                                                                                               | 54/144 [00:03<00:07, 11.47it/s]"
     ]
    },
    {
     "name": "stdout",
     "output_type": "stream",
     "text": [
      "/rmg/RMG-Py/myrmgfiles/families/HO2_Elimination_from_PeroxyRadical/NIST/reactions.py\n",
      "/rmg/RMG-Py/myrmgfiles/families/HO2_Elimination_from_PeroxyRadical/training/reactions.py\n",
      "/rmg/RMG-Py/myrmgfiles/families/H_Abstraction/NIST/reactions.py\n"
     ]
    },
    {
     "name": "stderr",
     "output_type": "stream",
     "text": [
      " 40%|████████████████████████████████████████████████████████████▏                                                                                           | 57/144 [00:05<00:22,  3.78it/s]"
     ]
    },
    {
     "name": "stdout",
     "output_type": "stream",
     "text": [
      "/rmg/RMG-Py/myrmgfiles/families/H_Abstraction/training/reactions.py\n"
     ]
    },
    {
     "name": "stderr",
     "output_type": "stream",
     "text": [
      " 44%|██████████████████████████████████████████████████████████████████▌                                                                                     | 63/144 [00:10<00:38,  2.10it/s]"
     ]
    },
    {
     "name": "stdout",
     "output_type": "stream",
     "text": [
      "/rmg/RMG-Py/myrmgfiles/families/Intra_2+2_cycloaddition_Cd/training/reactions.py\n",
      "/rmg/RMG-Py/myrmgfiles/families/Intra_5_membered_conjugated_C=C_C=C_addition/training/reactions.py\n",
      "/rmg/RMG-Py/myrmgfiles/families/Intra_Diels_alder_monocyclic/training/reactions.py\n",
      "/rmg/RMG-Py/myrmgfiles/families/Intra_Disproportionation/NIST/reactions.py\n",
      "/rmg/RMG-Py/myrmgfiles/families/Intra_Disproportionation/training/reactions.py\n",
      "/rmg/RMG-Py/myrmgfiles/families/Intra_ene_reaction/training/reactions.py\n"
     ]
    },
    {
     "name": "stderr",
     "output_type": "stream",
     "text": [
      " 45%|████████████████████████████████████████████████████████████████████▌                                                                                   | 65/144 [00:10<00:30,  2.57it/s]"
     ]
    },
    {
     "name": "stdout",
     "output_type": "stream",
     "text": [
      "/rmg/RMG-Py/myrmgfiles/families/intra_halogen_migration/training/reactions.py\n",
      "/rmg/RMG-Py/myrmgfiles/families/intra_H_migration/NIST/reactions.py\n",
      "/rmg/RMG-Py/myrmgfiles/families/intra_H_migration/training/reactions.py\n"
     ]
    },
    {
     "name": "stderr",
     "output_type": "stream",
     "text": [
      " 51%|█████████████████████████████████████████████████████████████████████████████                                                                           | 73/144 [00:11<00:15,  4.71it/s]"
     ]
    },
    {
     "name": "stdout",
     "output_type": "stream",
     "text": [
      "/rmg/RMG-Py/myrmgfiles/families/intra_NO2_ONO_conversion/NIST/reactions.py\n",
      "/rmg/RMG-Py/myrmgfiles/families/intra_NO2_ONO_conversion/training/reactions.py\n",
      "/rmg/RMG-Py/myrmgfiles/families/intra_OH_migration/NIST/reactions.py\n",
      "/rmg/RMG-Py/myrmgfiles/families/intra_OH_migration/training/reactions.py\n",
      "/rmg/RMG-Py/myrmgfiles/families/Intra_Retro_Diels_alder_bicyclic/training/reactions.py\n",
      "/rmg/RMG-Py/myrmgfiles/families/Intra_RH_Add_Endocyclic/NIST/reactions.py\n",
      "/rmg/RMG-Py/myrmgfiles/families/Intra_RH_Add_Endocyclic/training/reactions.py\n",
      "/rmg/RMG-Py/myrmgfiles/families/Intra_RH_Add_Exocyclic/NIST/reactions.py\n",
      "/rmg/RMG-Py/myrmgfiles/families/Intra_RH_Add_Exocyclic/training/reactions.py\n",
      "/rmg/RMG-Py/myrmgfiles/families/Intra_R_Add_Endocyclic/NIST/reactions.py\n",
      "/rmg/RMG-Py/myrmgfiles/families/Intra_R_Add_Endocyclic/training/reactions.py\n"
     ]
    },
    {
     "name": "stderr",
     "output_type": "stream",
     "text": [
      " 54%|██████████████████████████████████████████████████████████████████████████████████▎                                                                     | 78/144 [00:13<00:15,  4.15it/s]"
     ]
    },
    {
     "name": "stdout",
     "output_type": "stream",
     "text": [
      "/rmg/RMG-Py/myrmgfiles/families/Intra_R_Add_Exocyclic/NIST/reactions.py\n",
      "/rmg/RMG-Py/myrmgfiles/families/Intra_R_Add_Exocyclic/training/reactions.py\n"
     ]
    },
    {
     "name": "stderr",
     "output_type": "stream",
     "text": [
      " 58%|████████████████████████████████████████████████████████████████████████████████████████▋                                                               | 84/144 [00:14<00:11,  5.44it/s]"
     ]
    },
    {
     "name": "stdout",
     "output_type": "stream",
     "text": [
      "/rmg/RMG-Py/myrmgfiles/families/Intra_R_Add_ExoTetCyclic/NIST/reactions.py\n",
      "/rmg/RMG-Py/myrmgfiles/families/Intra_R_Add_ExoTetCyclic/training/reactions.py\n",
      "/rmg/RMG-Py/myrmgfiles/families/Intra_R_Add_Exo_scission/training/reactions.py\n",
      "/rmg/RMG-Py/myrmgfiles/families/intra_substitutionCS_cyclization/NIST/reactions.py\n",
      "/rmg/RMG-Py/myrmgfiles/families/intra_substitutionCS_cyclization/training/reactions.py\n",
      "/rmg/RMG-Py/myrmgfiles/families/intra_substitutionCS_isomerization/NIST/reactions.py\n",
      "/rmg/RMG-Py/myrmgfiles/families/intra_substitutionCS_isomerization/training/reactions.py\n",
      "/rmg/RMG-Py/myrmgfiles/families/intra_substitutionS_cyclization/NIST/reactions.py\n",
      "/rmg/RMG-Py/myrmgfiles/families/intra_substitutionS_cyclization/training/reactions.py\n"
     ]
    },
    {
     "name": "stderr",
     "output_type": "stream",
     "text": [
      " 62%|█████████████████████████████████████████████████████████████████████████████████████████████▉                                                          | 89/144 [00:14<00:06,  8.09it/s]"
     ]
    },
    {
     "name": "stdout",
     "output_type": "stream",
     "text": [
      "/rmg/RMG-Py/myrmgfiles/families/intra_substitutionS_isomerization/NIST/reactions.py\n",
      "/rmg/RMG-Py/myrmgfiles/families/intra_substitutionS_isomerization/training/reactions.py\n",
      "/rmg/RMG-Py/myrmgfiles/families/Ketoenol/NIST/reactions.py\n",
      "/rmg/RMG-Py/myrmgfiles/families/Ketoenol/training/reactions.py\n"
     ]
    },
    {
     "name": "stderr",
     "output_type": "stream",
     "text": [
      " 68%|███████████████████████████████████████████████████████████████████████████████████████████████████████▍                                                | 98/144 [00:14<00:03, 13.36it/s]"
     ]
    },
    {
     "name": "stdout",
     "output_type": "stream",
     "text": [
      "/rmg/RMG-Py/myrmgfiles/families/Korcek_step1/NIST/reactions.py\n",
      "/rmg/RMG-Py/myrmgfiles/families/Korcek_step1/training/reactions.py\n",
      "/rmg/RMG-Py/myrmgfiles/families/Korcek_step1_cat/training/reactions.py\n",
      "/rmg/RMG-Py/myrmgfiles/families/Korcek_step2/NIST/reactions.py\n",
      "/rmg/RMG-Py/myrmgfiles/families/Korcek_step2/training/reactions.py\n",
      "/rmg/RMG-Py/myrmgfiles/families/lone_electron_pair_bond/NIST/reactions.py\n",
      "/rmg/RMG-Py/myrmgfiles/families/lone_electron_pair_bond/training/reactions.py\n",
      "/rmg/RMG-Py/myrmgfiles/families/Peroxyl_Disproportionation/training/reactions.py\n",
      "/rmg/RMG-Py/myrmgfiles/families/Peroxyl_Termination/training/reactions.py\n"
     ]
    },
    {
     "name": "stderr",
     "output_type": "stream",
     "text": [
      " 71%|██████████████████████████████████████████████████████████████████████████████████████████████████████████▉                                            | 102/144 [00:14<00:02, 15.76it/s]"
     ]
    },
    {
     "name": "stdout",
     "output_type": "stream",
     "text": [
      "/rmg/RMG-Py/myrmgfiles/families/Retroene/training/reactions.py\n",
      "/rmg/RMG-Py/myrmgfiles/families/R_Addition_COm/NIST/reactions.py\n",
      "/rmg/RMG-Py/myrmgfiles/families/R_Addition_COm/training/reactions.py\n"
     ]
    },
    {
     "name": "stderr",
     "output_type": "stream",
     "text": [
      " 74%|███████████████████████████████████████████████████████████████████████████████████████████████████████████████▏                                       | 106/144 [00:15<00:02, 13.98it/s]"
     ]
    },
    {
     "name": "stdout",
     "output_type": "stream",
     "text": [
      "/rmg/RMG-Py/myrmgfiles/families/R_Addition_CSm/NIST/reactions.py\n",
      "/rmg/RMG-Py/myrmgfiles/families/R_Addition_CSm/training/reactions.py\n",
      "/rmg/RMG-Py/myrmgfiles/families/R_Addition_MultipleBond/NIST/reactions.py\n",
      "/rmg/RMG-Py/myrmgfiles/families/R_Addition_MultipleBond/training/reactions.py\n"
     ]
    },
    {
     "name": "stderr",
     "output_type": "stream",
     "text": [
      " 76%|██████████████████████████████████████████████████████████████████████████████████████████████████████████████████▎                                    | 109/144 [00:21<00:20,  1.70it/s]"
     ]
    },
    {
     "name": "stdout",
     "output_type": "stream",
     "text": [
      "/rmg/RMG-Py/myrmgfiles/families/R_Recombination/NIST/reactions.py\n",
      "/rmg/RMG-Py/myrmgfiles/families/R_Recombination/training/reactions.py\n"
     ]
    },
    {
     "name": "stderr",
     "output_type": "stream",
     "text": [
      " 78%|██████████████████████████████████████████████████████████████████████████████████████████████████████████████████████▍                                | 113/144 [00:23<00:14,  2.10it/s]"
     ]
    },
    {
     "name": "stdout",
     "output_type": "stream",
     "text": [
      "/rmg/RMG-Py/myrmgfiles/families/Singlet_Carbene_Intra_Disproportionation/training/reactions.py\n",
      "/rmg/RMG-Py/myrmgfiles/families/Singlet_Val6_to_triplet/NIST/reactions.py\n",
      "/rmg/RMG-Py/myrmgfiles/families/Singlet_Val6_to_triplet/training/reactions.py\n",
      "/rmg/RMG-Py/myrmgfiles/families/SubstitutionS/NIST/reactions.py\n",
      "/rmg/RMG-Py/myrmgfiles/families/SubstitutionS/training/reactions.py\n"
     ]
    },
    {
     "name": "stderr",
     "output_type": "stream",
     "text": [
      " 81%|█████████████████████████████████████████████████████████████████████████████████████████████████████████████████████████▋                             | 116/144 [00:23<00:10,  2.76it/s]"
     ]
    },
    {
     "name": "stdout",
     "output_type": "stream",
     "text": [
      "/rmg/RMG-Py/myrmgfiles/families/Substitution_O/NIST/reactions.py\n",
      "/rmg/RMG-Py/myrmgfiles/families/Substitution_O/training/reactions.py\n"
     ]
    },
    {
     "name": "stderr",
     "output_type": "stream",
     "text": [
      " 92%|███████████████████████████████████████████████████████████████████████████████████████████████████████████████████████████████████████████▍           | 133/144 [00:23<00:00, 11.12it/s]"
     ]
    },
    {
     "name": "stdout",
     "output_type": "stream",
     "text": [
      "/rmg/RMG-Py/myrmgfiles/families/Surface_Abstraction/training/reactions.py\n",
      "/rmg/RMG-Py/myrmgfiles/families/Surface_Abstraction_Beta/training/reactions.py\n",
      "/rmg/RMG-Py/myrmgfiles/families/Surface_Abstraction_Beta_double_vdW/training/reactions.py\n",
      "/rmg/RMG-Py/myrmgfiles/families/Surface_Abstraction_Single_vdW/training/reactions.py\n",
      "/rmg/RMG-Py/myrmgfiles/families/Surface_Abstraction_vdW/training/reactions.py\n",
      "/rmg/RMG-Py/myrmgfiles/families/Surface_Addition_Single_vdW/training/reactions.py\n",
      "/rmg/RMG-Py/myrmgfiles/families/Surface_Adsorption_Abstraction_vdW/training/reactions.py\n",
      "/rmg/RMG-Py/myrmgfiles/families/Surface_Adsorption_Bidentate/training/reactions.py\n",
      "/rmg/RMG-Py/myrmgfiles/families/Surface_Adsorption_Dissociative/training/reactions.py\n",
      "/rmg/RMG-Py/myrmgfiles/families/Surface_Adsorption_Dissociative_Double/training/reactions.py\n",
      "/rmg/RMG-Py/myrmgfiles/families/Surface_Adsorption_Double/training/reactions.py\n",
      "/rmg/RMG-Py/myrmgfiles/families/Surface_Adsorption_Single/training/reactions.py\n",
      "/rmg/RMG-Py/myrmgfiles/families/Surface_Adsorption_vdW/training/reactions.py\n",
      "/rmg/RMG-Py/myrmgfiles/families/Surface_Bidentate_Dissociation/training/reactions.py\n",
      "/rmg/RMG-Py/myrmgfiles/families/Surface_Dissociation/training/reactions.py\n"
     ]
    },
    {
     "name": "stderr",
     "output_type": "stream",
     "text": [
      " 98%|███████████████████████████████████████████████████████████████████████████████████████████████████████████████████████████████████████████████████▊   | 141/144 [00:23<00:00, 16.98it/s]"
     ]
    },
    {
     "name": "stdout",
     "output_type": "stream",
     "text": [
      "/rmg/RMG-Py/myrmgfiles/families/Surface_Dissociation_Beta/training/reactions.py\n",
      "/rmg/RMG-Py/myrmgfiles/families/Surface_Dissociation_Double_vdW/training/reactions.py\n",
      "/rmg/RMG-Py/myrmgfiles/families/Surface_Dissociation_to_Bidentate/training/reactions.py\n",
      "/rmg/RMG-Py/myrmgfiles/families/Surface_Dissociation_vdW/training/reactions.py\n",
      "/rmg/RMG-Py/myrmgfiles/families/Surface_DoubleBond_to_Bidentate/training/reactions.py\n",
      "/rmg/RMG-Py/myrmgfiles/families/Surface_Dual_Adsorption_vdW/training/reactions.py\n",
      "/rmg/RMG-Py/myrmgfiles/families/Surface_EleyRideal_Addition_Multiple_Bond/training/reactions.py\n",
      "/rmg/RMG-Py/myrmgfiles/families/Surface_Migration/training/reactions.py\n",
      "/rmg/RMG-Py/myrmgfiles/families/Surface_vdW_to_Bidentate/training/reactions.py\n",
      "/rmg/RMG-Py/myrmgfiles/families/XY_Addition_MultipleBond/training/reactions.py\n",
      "/rmg/RMG-Py/myrmgfiles/families/XY_elimination_hydroxyl/training/reactions.py\n"
     ]
    },
    {
     "name": "stderr",
     "output_type": "stream",
     "text": [
      "100%|███████████████████████████████████████████████████████████████████████████████████████████████████████████████████████████████████████████████████████| 144/144 [00:24<00:00,  5.98it/s]\n",
      "  0%|                                                                                                                                                                 | 0/174 [00:00<?, ?it/s]"
     ]
    },
    {
     "name": "stdout",
     "output_type": "stream",
     "text": [
      "/rmg/RMG-Py/myrmgfiles/libraries/1989_Stewart_2CH3_to_C2H5_H/reactions.py\n",
      "/rmg/RMG-Py/myrmgfiles/libraries/2-BTP/full/reactions.py\n"
     ]
    },
    {
     "name": "stderr",
     "output_type": "stream",
     "text": [
      "  1%|█▊                                                                                                                                                       | 2/174 [00:01<02:37,  1.09it/s]"
     ]
    },
    {
     "name": "stdout",
     "output_type": "stream",
     "text": [
      "/rmg/RMG-Py/myrmgfiles/libraries/2-BTP/seed/reactions.py\n"
     ]
    },
    {
     "name": "stderr",
     "output_type": "stream",
     "text": [
      "  3%|█████▎                                                                                                                                                   | 6/174 [00:02<01:01,  2.75it/s]"
     ]
    },
    {
     "name": "stdout",
     "output_type": "stream",
     "text": [
      "/rmg/RMG-Py/myrmgfiles/libraries/2001_Tokmakov_H_Toluene_to_CH3_Benzene/reactions.py\n",
      "/rmg/RMG-Py/myrmgfiles/libraries/2003_Miller_Propargyl_Recomb_High_P/reactions.py\n",
      "/rmg/RMG-Py/myrmgfiles/libraries/2005_Senosiain_OH_C2H2/reactions.py\n",
      "/rmg/RMG-Py/myrmgfiles/libraries/2006_Joshi_OH_CO/reactions.py\n",
      "/rmg/RMG-Py/myrmgfiles/libraries/2009_Sharma_C5H5_CH3_highP/reactions.py\n",
      "/rmg/RMG-Py/myrmgfiles/libraries/2015_Buras_C2H3_C4H6_highP/reactions.py\n"
     ]
    },
    {
     "name": "stderr",
     "output_type": "stream",
     "text": [
      "  6%|█████████▌                                                                                                                                              | 11/174 [00:03<00:26,  6.18it/s]"
     ]
    },
    {
     "name": "stdout",
     "output_type": "stream",
     "text": [
      "/rmg/RMG-Py/myrmgfiles/libraries/Aromatics_high_pressure/C10H10_1/reactions.py\n",
      "/rmg/RMG-Py/myrmgfiles/libraries/Aromatics_high_pressure/C10H10_2/reactions.py\n",
      "/rmg/RMG-Py/myrmgfiles/libraries/Aromatics_high_pressure/C10H10_H_abstraction/reactions.py\n",
      "/rmg/RMG-Py/myrmgfiles/libraries/Aromatics_high_pressure/C10H11_1/reactions.py\n",
      "/rmg/RMG-Py/myrmgfiles/libraries/Aromatics_high_pressure/C10H11_2/reactions.py\n",
      "/rmg/RMG-Py/myrmgfiles/libraries/Aromatics_high_pressure/C10H11_3/reactions.py\n"
     ]
    },
    {
     "name": "stderr",
     "output_type": "stream",
     "text": [
      " 10%|███████████████▋                                                                                                                                        | 18/174 [00:03<00:13, 11.19it/s]"
     ]
    },
    {
     "name": "stdout",
     "output_type": "stream",
     "text": [
      "/rmg/RMG-Py/myrmgfiles/libraries/Aromatics_high_pressure/C10H11_4/reactions.py\n",
      "/rmg/RMG-Py/myrmgfiles/libraries/Aromatics_high_pressure/C10H7/reactions.py\n",
      "/rmg/RMG-Py/myrmgfiles/libraries/Aromatics_high_pressure/C10H8_H_abstraction_H_recomb/reactions.py\n",
      "/rmg/RMG-Py/myrmgfiles/libraries/Aromatics_high_pressure/C10H9_1/reactions.py\n",
      "/rmg/RMG-Py/myrmgfiles/libraries/Aromatics_high_pressure/C10H9_2/reactions.py\n"
     ]
    },
    {
     "name": "stderr",
     "output_type": "stream",
     "text": [
      " 13%|███████████████████▏                                                                                                                                    | 22/174 [00:03<00:11, 12.67it/s]"
     ]
    },
    {
     "name": "stdout",
     "output_type": "stream",
     "text": [
      "/rmg/RMG-Py/myrmgfiles/libraries/Aromatics_high_pressure/C10H9_3/reactions.py\n",
      "/rmg/RMG-Py/myrmgfiles/libraries/Aromatics_high_pressure/C10H9_4/reactions.py\n",
      "/rmg/RMG-Py/myrmgfiles/libraries/Aromatics_high_pressure/C12H10_1/reactions.py\n",
      "/rmg/RMG-Py/myrmgfiles/libraries/Aromatics_high_pressure/C12H10_2/reactions.py\n"
     ]
    },
    {
     "name": "stderr",
     "output_type": "stream",
     "text": [
      " 16%|████████████████████████▍                                                                                                                               | 28/174 [00:04<00:08, 17.37it/s]"
     ]
    },
    {
     "name": "stdout",
     "output_type": "stream",
     "text": [
      "/rmg/RMG-Py/myrmgfiles/libraries/Aromatics_high_pressure/C12H10_H_abstraction/reactions.py\n",
      "/rmg/RMG-Py/myrmgfiles/libraries/Aromatics_high_pressure/C12H11/reactions.py\n",
      "/rmg/RMG-Py/myrmgfiles/libraries/Aromatics_high_pressure/C12H8_H_abstraction/reactions.py\n",
      "/rmg/RMG-Py/myrmgfiles/libraries/Aromatics_high_pressure/C12H9/reactions.py\n",
      "/rmg/RMG-Py/myrmgfiles/libraries/Aromatics_high_pressure/C14H10_H_abstraction_H_recomb/reactions.py\n",
      "/rmg/RMG-Py/myrmgfiles/libraries/Aromatics_high_pressure/C14H11_1/reactions.py\n"
     ]
    },
    {
     "name": "stderr",
     "output_type": "stream",
     "text": [
      " 20%|█████████████████████████████▋                                                                                                                          | 34/174 [00:04<00:06, 20.55it/s]"
     ]
    },
    {
     "name": "stdout",
     "output_type": "stream",
     "text": [
      "/rmg/RMG-Py/myrmgfiles/libraries/Aromatics_high_pressure/C14H11_2/reactions.py\n",
      "/rmg/RMG-Py/myrmgfiles/libraries/Aromatics_high_pressure/C14H11_3/reactions.py\n",
      "/rmg/RMG-Py/myrmgfiles/libraries/Aromatics_high_pressure/C14H11_4/reactions.py\n",
      "/rmg/RMG-Py/myrmgfiles/libraries/Aromatics_high_pressure/C14H9/reactions.py\n",
      "/rmg/RMG-Py/myrmgfiles/libraries/Aromatics_high_pressure/C16H11/reactions.py\n"
     ]
    },
    {
     "name": "stderr",
     "output_type": "stream",
     "text": [
      " 23%|██████████████████████████████████▉                                                                                                                     | 40/174 [00:04<00:05, 22.58it/s]"
     ]
    },
    {
     "name": "stdout",
     "output_type": "stream",
     "text": [
      "/rmg/RMG-Py/myrmgfiles/libraries/Aromatics_high_pressure/C7H8/reactions.py\n",
      "/rmg/RMG-Py/myrmgfiles/libraries/Aromatics_high_pressure/C7H8_H_abstraction/reactions.py\n",
      "/rmg/RMG-Py/myrmgfiles/libraries/Aromatics_high_pressure/C7H9/reactions.py\n",
      "/rmg/RMG-Py/myrmgfiles/libraries/Aromatics_high_pressure/C8H6_H_abstraction/reactions.py\n",
      "/rmg/RMG-Py/myrmgfiles/libraries/Aromatics_high_pressure/C8H7/reactions.py\n",
      "/rmg/RMG-Py/myrmgfiles/libraries/Aromatics_high_pressure/C8H8_H_abstraction/reactions.py\n"
     ]
    },
    {
     "name": "stderr",
     "output_type": "stream",
     "text": [
      " 25%|█████████████████████████████████████▌                                                                                                                  | 43/174 [00:04<00:05, 22.70it/s]"
     ]
    },
    {
     "name": "stdout",
     "output_type": "stream",
     "text": [
      "/rmg/RMG-Py/myrmgfiles/libraries/Aromatics_high_pressure/C8H9/reactions.py\n",
      "/rmg/RMG-Py/myrmgfiles/libraries/Aromatics_high_pressure/C9H10_H_abstraction/reactions.py\n",
      "/rmg/RMG-Py/myrmgfiles/libraries/Aromatics_high_pressure/C9H11/reactions.py\n",
      "/rmg/RMG-Py/myrmgfiles/libraries/Aromatics_high_pressure/C9H7/reactions.py\n",
      "/rmg/RMG-Py/myrmgfiles/libraries/Aromatics_high_pressure/C9H8_1/reactions.py\n"
     ]
    },
    {
     "name": "stderr",
     "output_type": "stream",
     "text": [
      " 28%|██████████████████████████████████████████▊                                                                                                             | 49/174 [00:04<00:05, 23.73it/s]"
     ]
    },
    {
     "name": "stdout",
     "output_type": "stream",
     "text": [
      "/rmg/RMG-Py/myrmgfiles/libraries/Aromatics_high_pressure/C9H8_2/reactions.py\n",
      "/rmg/RMG-Py/myrmgfiles/libraries/Aromatics_high_pressure/C9H8_H_abstraction/reactions.py\n",
      "/rmg/RMG-Py/myrmgfiles/libraries/Aromatics_high_pressure/C9H9_1/reactions.py\n",
      "/rmg/RMG-Py/myrmgfiles/libraries/Aromatics_high_pressure/C9H9_2/reactions.py\n",
      "/rmg/RMG-Py/myrmgfiles/libraries/biCPD_H_shift/reactions.py\n",
      "/rmg/RMG-Py/myrmgfiles/libraries/BurkeH2O2inArHe/reactions.py\n"
     ]
    },
    {
     "name": "stderr",
     "output_type": "stream",
     "text": [
      " 32%|████████████████████████████████████████████████                                                                                                        | 55/174 [00:05<00:04, 24.26it/s]"
     ]
    },
    {
     "name": "stdout",
     "output_type": "stream",
     "text": [
      "/rmg/RMG-Py/myrmgfiles/libraries/BurkeH2O2inN2/reactions.py\n",
      "/rmg/RMG-Py/myrmgfiles/libraries/Butadiene_Dimerization/reactions.py\n",
      "/rmg/RMG-Py/myrmgfiles/libraries/c-C5H5_CH3_Sharma/reactions.py\n",
      "/rmg/RMG-Py/myrmgfiles/libraries/C10H11/reactions.py\n"
     ]
    },
    {
     "name": "stderr",
     "output_type": "stream",
     "text": [
      " 33%|██████████████████████████████████████████████████▋                                                                                                     | 58/174 [00:05<00:05, 21.98it/s]"
     ]
    },
    {
     "name": "stdout",
     "output_type": "stream",
     "text": [
      "/rmg/RMG-Py/myrmgfiles/libraries/C12H11_pdep/reactions.py\n",
      "/rmg/RMG-Py/myrmgfiles/libraries/C2H2_init/reactions.py\n",
      "/rmg/RMG-Py/myrmgfiles/libraries/C2H4+O_Klipp2017/reactions.py\n",
      "/rmg/RMG-Py/myrmgfiles/libraries/C3/reactions.py\n",
      "/rmg/RMG-Py/myrmgfiles/libraries/C6H5_C4H4_Mebel/reactions.py\n"
     ]
    },
    {
     "name": "stderr",
     "output_type": "stream",
     "text": [
      " 35%|█████████████████████████████████████████████████████▎                                                                                                  | 61/174 [00:05<00:05, 21.75it/s]"
     ]
    },
    {
     "name": "stdout",
     "output_type": "stream",
     "text": [
      "/rmg/RMG-Py/myrmgfiles/libraries/CF2BrCl/reactions.py\n",
      "(+AR)\n",
      "H + O2 (+AR) <=> HO2 (+AR) is invalid\n",
      "(+HE)\n",
      "H + O2 (+HE) <=> HO2 (+HE) is invalid\n",
      "(+H2O)\n",
      "H2O2 (+H2O) <=> OH + OH (+H2O) is invalid\n",
      "/rmg/RMG-Py/myrmgfiles/libraries/CH3Cl/reactions.py\n",
      "/rmg/RMG-Py/myrmgfiles/libraries/Chernov/reactions.py\n"
     ]
    },
    {
     "name": "stderr",
     "output_type": "stream",
     "text": [
      " 37%|███████████████████████████████████████████████████████▉                                                                                                | 64/174 [00:11<01:07,  1.64it/s]"
     ]
    },
    {
     "name": "stdout",
     "output_type": "stream",
     "text": [
      "/rmg/RMG-Py/myrmgfiles/libraries/combustion_core/version2/reactions.py\n",
      "/rmg/RMG-Py/myrmgfiles/libraries/combustion_core/version3/reactions.py\n"
     ]
    },
    {
     "name": "stderr",
     "output_type": "stream",
     "text": [
      " 38%|█████████████████████████████████████████████████████████▋                                                                                              | 66/174 [00:11<00:55,  1.95it/s]"
     ]
    },
    {
     "name": "stdout",
     "output_type": "stream",
     "text": [
      "/rmg/RMG-Py/myrmgfiles/libraries/combustion_core/version4/reactions.py\n",
      "/rmg/RMG-Py/myrmgfiles/libraries/combustion_core/version5/reactions.py\n"
     ]
    },
    {
     "name": "stderr",
     "output_type": "stream",
     "text": [
      " 39%|███████████████████████████████████████████████████████████▍                                                                                            | 68/174 [00:11<00:45,  2.31it/s]"
     ]
    },
    {
     "name": "stdout",
     "output_type": "stream",
     "text": [
      "/rmg/RMG-Py/myrmgfiles/libraries/CurranPentane/reactions.py\n"
     ]
    },
    {
     "name": "stderr",
     "output_type": "stream",
     "text": [
      " 40%|█████████████████████████████████████████████████████████████▏                                                                                          | 70/174 [00:15<01:24,  1.24it/s]"
     ]
    },
    {
     "name": "stdout",
     "output_type": "stream",
     "text": [
      "/rmg/RMG-Py/myrmgfiles/libraries/DMSOxy/reactions.py\n",
      "/rmg/RMG-Py/myrmgfiles/libraries/Dooley/C1/reactions.py\n"
     ]
    },
    {
     "name": "stderr",
     "output_type": "stream",
     "text": [
      " 41%|██████████████████████████████████████████████████████████████                                                                                          | 71/174 [00:15<01:13,  1.40it/s]"
     ]
    },
    {
     "name": "stdout",
     "output_type": "stream",
     "text": [
      "/rmg/RMG-Py/myrmgfiles/libraries/Dooley/methylformate/reactions.py\n"
     ]
    },
    {
     "name": "stderr",
     "output_type": "stream",
     "text": [
      " 41%|██████████████████████████████████████████████████████████████▉                                                                                         | 72/174 [00:16<01:16,  1.33it/s]"
     ]
    },
    {
     "name": "stdout",
     "output_type": "stream",
     "text": [
      "/rmg/RMG-Py/myrmgfiles/libraries/Dooley/methylformate_2/reactions.py\n",
      "/rmg/RMG-Py/myrmgfiles/libraries/Dooley/methylformate_all_ARHEbathgas/reactions.py\n"
     ]
    },
    {
     "name": "stderr",
     "output_type": "stream",
     "text": [
      " 43%|████████████████████████████████████████████████████████████████▋                                                                                       | 74/174 [00:18<01:22,  1.21it/s]"
     ]
    },
    {
     "name": "stdout",
     "output_type": "stream",
     "text": [
      "/rmg/RMG-Py/myrmgfiles/libraries/Dooley/methylformate_all_N2bathgas/reactions.py\n"
     ]
    },
    {
     "name": "stderr",
     "output_type": "stream",
     "text": [
      " 44%|██████████████████████████████████████████████████████████████████▍                                                                                     | 76/174 [00:21<01:28,  1.11it/s]"
     ]
    },
    {
     "name": "stdout",
     "output_type": "stream",
     "text": [
      "/rmg/RMG-Py/myrmgfiles/libraries/DTU_mech_CH3Cl/reactions.py\n",
      "/rmg/RMG-Py/myrmgfiles/libraries/ERC-FoundationFuelv0.9/reactions.py\n"
     ]
    },
    {
     "name": "stderr",
     "output_type": "stream",
     "text": [
      " 45%|█████████████████████████████████████████████████████████████████████                                                                                   | 79/174 [00:21<00:46,  2.04it/s]"
     ]
    },
    {
     "name": "stdout",
     "output_type": "stream",
     "text": [
      "/rmg/RMG-Py/myrmgfiles/libraries/Ethylamine/reactions.py\n",
      "/rmg/RMG-Py/myrmgfiles/libraries/fascella/reactions.py\n",
      "/rmg/RMG-Py/myrmgfiles/libraries/FFCM1(-)/reactions.py\n"
     ]
    },
    {
     "name": "stderr",
     "output_type": "stream",
     "text": [
      " 48%|████████████████████████████████████████████████████████████████████████▌                                                                               | 83/174 [00:22<00:23,  3.86it/s]"
     ]
    },
    {
     "name": "stdout",
     "output_type": "stream",
     "text": [
      "/rmg/RMG-Py/myrmgfiles/libraries/First_to_Second_Aromatic_Ring/2005_Ismail_C6H5_C4H6_highP/reactions.py\n",
      "/rmg/RMG-Py/myrmgfiles/libraries/First_to_Second_Aromatic_Ring/2012_Matsugi_C3H3_C7H7_highP/reactions.py\n",
      "/rmg/RMG-Py/myrmgfiles/libraries/First_to_Second_Aromatic_Ring/2016_Mebel_C10H9_highP/reactions.py\n",
      "/rmg/RMG-Py/myrmgfiles/libraries/First_to_Second_Aromatic_Ring/2016_Mebel_C9H9_highP/reactions.py\n"
     ]
    },
    {
     "name": "stderr",
     "output_type": "stream",
     "text": [
      " 52%|██████████████████████████████████████████████████████████████████████████████▌                                                                         | 90/174 [00:22<00:09,  9.30it/s]"
     ]
    },
    {
     "name": "stdout",
     "output_type": "stream",
     "text": [
      "/rmg/RMG-Py/myrmgfiles/libraries/First_to_Second_Aromatic_Ring/2016_Mebel_Indene_CH3_highP/reactions.py\n",
      "/rmg/RMG-Py/myrmgfiles/libraries/First_to_Second_Aromatic_Ring/2017_Buras_C6H5_C3H6_highP/reactions.py\n",
      "/rmg/RMG-Py/myrmgfiles/libraries/First_to_Second_Aromatic_Ring/2017_Mebel_C6H4C2H_C2H2_highP/reactions.py\n",
      "/rmg/RMG-Py/myrmgfiles/libraries/First_to_Second_Aromatic_Ring/2017_Mebel_C6H5C2H2_C2H2_highP/reactions.py\n",
      "/rmg/RMG-Py/myrmgfiles/libraries/First_to_Second_Aromatic_Ring/2017_Mebel_C6H5_C2H2_highP/reactions.py\n",
      "/rmg/RMG-Py/myrmgfiles/libraries/First_to_Second_Aromatic_Ring/2017_Mebel_C6H5_C4H4_highP/reactions.py\n",
      "/rmg/RMG-Py/myrmgfiles/libraries/First_to_Second_Aromatic_Ring/phenyl_diacetylene_effective/reactions.py\n",
      "/rmg/RMG-Py/myrmgfiles/libraries/Fulvene_H/reactions.py\n",
      "/rmg/RMG-Py/myrmgfiles/libraries/Glarborg/C0/reactions.py\n"
     ]
    },
    {
     "name": "stderr",
     "output_type": "stream",
     "text": [
      " 54%|██████████████████████████████████████████████████████████████████████████████████                                                                      | 94/174 [00:22<00:07, 11.00it/s]"
     ]
    },
    {
     "name": "stdout",
     "output_type": "stream",
     "text": [
      "/rmg/RMG-Py/myrmgfiles/libraries/Glarborg/C1/reactions.py\n",
      "/rmg/RMG-Py/myrmgfiles/libraries/Glarborg/C2/reactions.py\n",
      "/rmg/RMG-Py/myrmgfiles/libraries/Glarborg/C3/reactions.py\n"
     ]
    },
    {
     "name": "stderr",
     "output_type": "stream",
     "text": [
      " 55%|███████████████████████████████████████████████████████████████████████████████████▊                                                                    | 96/174 [00:23<00:15,  5.19it/s]"
     ]
    },
    {
     "name": "stdout",
     "output_type": "stream",
     "text": [
      "/rmg/RMG-Py/myrmgfiles/libraries/Glarborg/highP/reactions.py\n"
     ]
    },
    {
     "name": "stderr",
     "output_type": "stream",
     "text": [
      " 56%|█████████████████████████████████████████████████████████████████████████████████████▌                                                                  | 98/174 [00:24<00:16,  4.68it/s]"
     ]
    },
    {
     "name": "stdout",
     "output_type": "stream",
     "text": [
      "/rmg/RMG-Py/myrmgfiles/libraries/GRI-HCO/reactions.py\n",
      "/rmg/RMG-Py/myrmgfiles/libraries/GRI-Mech3.0/reactions.py\n",
      "/rmg/RMG-Py/myrmgfiles/libraries/GRI-Mech3.0-N/reactions.py\n"
     ]
    },
    {
     "name": "stderr",
     "output_type": "stream",
     "text": [
      " 59%|████████████████████████████████████████████████████████████████████████████████████████▌                                                              | 102/174 [00:25<00:13,  5.20it/s]"
     ]
    },
    {
     "name": "stdout",
     "output_type": "stream",
     "text": [
      "/rmg/RMG-Py/myrmgfiles/libraries/HydrazinePDep/reactions.py\n",
      "/rmg/RMG-Py/myrmgfiles/libraries/Iodine-R_recombination/reactions.py\n",
      "/rmg/RMG-Py/myrmgfiles/libraries/JetSurF1.0/reactions.py\n",
      "/rmg/RMG-Py/myrmgfiles/libraries/JetSurF2.0/reactions.py\n"
     ]
    },
    {
     "name": "stderr",
     "output_type": "stream",
     "text": [
      " 60%|██████████████████████████████████████████████████████████████████████████████████████████▎                                                            | 104/174 [00:29<00:52,  1.32it/s]"
     ]
    },
    {
     "name": "stdout",
     "output_type": "stream",
     "text": [
      "/rmg/RMG-Py/myrmgfiles/libraries/kislovB/reactions.py\n",
      "/rmg/RMG-Py/myrmgfiles/libraries/Klippenstein_Glarborg2016/reactions.py\n"
     ]
    },
    {
     "name": "stderr",
     "output_type": "stream",
     "text": [
      " 62%|█████████████████████████████████████████████████████████████████████████████████████████████▋                                                         | 108/174 [00:30<00:31,  2.07it/s]"
     ]
    },
    {
     "name": "stdout",
     "output_type": "stream",
     "text": [
      "/rmg/RMG-Py/myrmgfiles/libraries/Lai_Hexylbenzene/reactions.py\n",
      "/rmg/RMG-Py/myrmgfiles/libraries/Mebel_C6H5_C2H2/reactions.py\n",
      "/rmg/RMG-Py/myrmgfiles/libraries/Mebel_Naphthyl/reactions.py\n",
      "/rmg/RMG-Py/myrmgfiles/libraries/Methylformate/reactions.py\n",
      "/rmg/RMG-Py/myrmgfiles/libraries/N-S_interactions/reactions.py\n"
     ]
    },
    {
     "name": "stderr",
     "output_type": "stream",
     "text": [
      " 64%|████████████████████████████████████████████████████████████████████████████████████████████████▎                                                      | 111/174 [00:30<00:19,  3.17it/s]"
     ]
    },
    {
     "name": "stdout",
     "output_type": "stream",
     "text": [
      "/rmg/RMG-Py/myrmgfiles/libraries/naphthalene_H/reactions.py\n",
      "/rmg/RMG-Py/myrmgfiles/libraries/Narayanaswamy/reactions.py\n"
     ]
    },
    {
     "name": "stderr",
     "output_type": "stream",
     "text": [
      " 65%|██████████████████████████████████████████████████████████████████████████████████████████████████                                                     | 113/174 [00:31<00:18,  3.33it/s]"
     ]
    },
    {
     "name": "stdout",
     "output_type": "stream",
     "text": [
      "/rmg/RMG-Py/myrmgfiles/libraries/NIST_Fluorine/CH2F2/full/reactions.py\n",
      "/rmg/RMG-Py/myrmgfiles/libraries/NIST_Fluorine/CH2F2/seed/reactions.py\n"
     ]
    },
    {
     "name": "stderr",
     "output_type": "stream",
     "text": [
      " 66%|███████████████████████████████████████████████████████████████████████████████████████████████████▊                                                   | 115/174 [00:31<00:18,  3.26it/s]"
     ]
    },
    {
     "name": "stdout",
     "output_type": "stream",
     "text": [
      "/rmg/RMG-Py/myrmgfiles/libraries/NIST_Fluorine/full/reactions.py\n"
     ]
    },
    {
     "name": "stderr",
     "output_type": "stream",
     "text": [
      " 67%|████████████████████████████████████████████████████████████████████████████████████████████████████▋                                                  | 116/174 [00:33<00:27,  2.11it/s]"
     ]
    },
    {
     "name": "stdout",
     "output_type": "stream",
     "text": [
      "/rmg/RMG-Py/myrmgfiles/libraries/NIST_Fluorine/seed/reactions.py\n"
     ]
    },
    {
     "name": "stderr",
     "output_type": "stream",
     "text": [
      " 67%|█████████████████████████████████████████████████████████████████████████████████████████████████████▌                                                 | 117/174 [00:33<00:29,  1.95it/s]"
     ]
    },
    {
     "name": "stdout",
     "output_type": "stream",
     "text": [
      "/rmg/RMG-Py/myrmgfiles/libraries/Nitrogen_Dean_and_Bozzelli/reactions.py\n"
     ]
    },
    {
     "name": "stderr",
     "output_type": "stream",
     "text": [
      " 68%|██████████████████████████████████████████████████████████████████████████████████████████████████████▍                                                | 118/174 [00:34<00:27,  2.03it/s]"
     ]
    },
    {
     "name": "stdout",
     "output_type": "stream",
     "text": [
      "/rmg/RMG-Py/myrmgfiles/libraries/Nitrogen_Glarborg_Gimenez_et_al/reactions.py\n"
     ]
    },
    {
     "name": "stderr",
     "output_type": "stream",
     "text": [
      " 68%|███████████████████████████████████████████████████████████████████████████████████████████████████████▎                                               | 119/174 [00:35<00:35,  1.55it/s]"
     ]
    },
    {
     "name": "stdout",
     "output_type": "stream",
     "text": [
      "/rmg/RMG-Py/myrmgfiles/libraries/Nitrogen_Glarborg_Lucassen_et_al/reactions.py\n"
     ]
    },
    {
     "name": "stderr",
     "output_type": "stream",
     "text": [
      " 69%|████████████████████████████████████████████████████████████████████████████████████████████████████████▏                                              | 120/174 [00:35<00:30,  1.75it/s]"
     ]
    },
    {
     "name": "stdout",
     "output_type": "stream",
     "text": [
      "/rmg/RMG-Py/myrmgfiles/libraries/Nitrogen_Glarborg_Zhang_et_al/reactions.py\n"
     ]
    },
    {
     "name": "stderr",
     "output_type": "stream",
     "text": [
      " 70%|█████████████████████████████████████████████████████████████████████████████████████████████████████████                                              | 121/174 [00:36<00:33,  1.58it/s]"
     ]
    },
    {
     "name": "stdout",
     "output_type": "stream",
     "text": [
      "/rmg/RMG-Py/myrmgfiles/libraries/NOx2018/reactions.py\n"
     ]
    },
    {
     "name": "stderr",
     "output_type": "stream",
     "text": [
      " 70%|█████████████████████████████████████████████████████████████████████████████████████████████████████████▊                                             | 122/174 [00:38<00:46,  1.11it/s]"
     ]
    },
    {
     "name": "stdout",
     "output_type": "stream",
     "text": [
      "/rmg/RMG-Py/myrmgfiles/libraries/primaryH2O2/reactions.py\n",
      "/rmg/RMG-Py/myrmgfiles/libraries/primaryNitrogenLibrary/reactions.py\n"
     ]
    },
    {
     "name": "stderr",
     "output_type": "stream",
     "text": [
      " 72%|█████████████████████████████████████████████████████████████████████████████████████████████████████████████▎                                         | 126/174 [00:38<00:20,  2.38it/s]"
     ]
    },
    {
     "name": "stdout",
     "output_type": "stream",
     "text": [
      "/rmg/RMG-Py/myrmgfiles/libraries/primaryNitrogenLibrary/LowT/reactions.py\n",
      "/rmg/RMG-Py/myrmgfiles/libraries/primarySulfurLibrary/reactions.py\n",
      "(+N2)\n",
      "SO2 + O (+N2) <=> SO3 (+N2) is invalid\n",
      "/rmg/RMG-Py/myrmgfiles/libraries/Sulfur/DMDS/reactions.py\n"
     ]
    },
    {
     "name": "stderr",
     "output_type": "stream",
     "text": [
      " 74%|███████████████████████████████████████████████████████████████████████████████████████████████████████████████                                        | 128/174 [00:39<00:13,  3.46it/s]"
     ]
    },
    {
     "name": "stdout",
     "output_type": "stream",
     "text": [
      "/rmg/RMG-Py/myrmgfiles/libraries/Sulfur/DMS/reactions.py\n",
      "/rmg/RMG-Py/myrmgfiles/libraries/Sulfur/DTBS/reactions.py\n",
      "/rmg/RMG-Py/myrmgfiles/libraries/Sulfur/GlarborgBozzelli/reactions.py\n"
     ]
    },
    {
     "name": "stderr",
     "output_type": "stream",
     "text": [
      " 75%|████████████████████████████████████████████████████████████████████████████████████████████████████████████████▊                                      | 130/174 [00:39<00:09,  4.41it/s]"
     ]
    },
    {
     "name": "stdout",
     "output_type": "stream",
     "text": [
      "/rmg/RMG-Py/myrmgfiles/libraries/Sulfur/GlarborgH2S/reactions.py\n"
     ]
    },
    {
     "name": "stderr",
     "output_type": "stream",
     "text": [
      " 75%|█████████████████████████████████████████████████████████████████████████████████████████████████████████████████▋                                     | 131/174 [00:39<00:10,  4.04it/s]"
     ]
    },
    {
     "name": "stdout",
     "output_type": "stream",
     "text": [
      "/rmg/RMG-Py/myrmgfiles/libraries/Sulfur/GlarborgH2S/alt/reactions.py\n"
     ]
    },
    {
     "name": "stderr",
     "output_type": "stream",
     "text": [
      " 76%|██████████████████████████████████████████████████████████████████████████████████████████████████████████████████▌                                    | 132/174 [00:39<00:10,  4.19it/s]"
     ]
    },
    {
     "name": "stdout",
     "output_type": "stream",
     "text": [
      "/rmg/RMG-Py/myrmgfiles/libraries/Sulfur/GlarborgMarshall/reactions.py\n",
      "(+N2)\n",
      "SO2 + O (+N2) <=> SO3 (+N2) is invalid\n"
     ]
    },
    {
     "name": "stderr",
     "output_type": "stream",
     "text": [
      " 79%|██████████████████████████████████████████████████████████████████████████████████████████████████████████████████████▉                                | 137/174 [00:40<00:04,  8.26it/s]"
     ]
    },
    {
     "name": "stdout",
     "output_type": "stream",
     "text": [
      "/rmg/RMG-Py/myrmgfiles/libraries/Sulfur/GlarborgNS/reactions.py\n",
      "/rmg/RMG-Py/myrmgfiles/libraries/Sulfur/Hexanethial_nr/reactions.py\n",
      "/rmg/RMG-Py/myrmgfiles/libraries/Sulfur/HSSH_1bar/reactions.py\n",
      "/rmg/RMG-Py/myrmgfiles/libraries/Sulfur/Sendt/reactions.py\n",
      "/rmg/RMG-Py/myrmgfiles/libraries/Sulfur/Thial_Hydrolysis/reactions.py\n",
      "/rmg/RMG-Py/myrmgfiles/libraries/Sulfur/TP_Song/reactions.py\n",
      "/rmg/RMG-Py/myrmgfiles/libraries/Surface/Ammonia/Duan_Ni111/reactions.py\n",
      "/rmg/RMG-Py/myrmgfiles/libraries/Surface/Ammonia/Duan_Ni211/reactions.py\n"
     ]
    },
    {
     "name": "stderr",
     "output_type": "stream",
     "text": [
      " 84%|███████████████████████████████████████████████████████████████████████████████████████████████████████████████████████████████▌                       | 147/174 [00:40<00:01, 20.57it/s]"
     ]
    },
    {
     "name": "stdout",
     "output_type": "stream",
     "text": [
      "/rmg/RMG-Py/myrmgfiles/libraries/Surface/Ammonia/Kraehnert_Pt111/reactions.py\n",
      "/rmg/RMG-Py/myrmgfiles/libraries/Surface/Ammonia/Novell_Pd111/reactions.py\n",
      "/rmg/RMG-Py/myrmgfiles/libraries/Surface/Ammonia/Novell_Pt111/reactions.py\n",
      "/rmg/RMG-Py/myrmgfiles/libraries/Surface/Ammonia/Novell_Rh111/reactions.py\n",
      "/rmg/RMG-Py/myrmgfiles/libraries/Surface/Ammonia/Offermans_Pt111/reactions.py\n",
      "+O_X\n",
      "NH3_X +O_X <=> NH2_X + OH_X is invalid\n",
      "+O_X\n",
      "NH2_X +O_X <=> NH_X + OH_X is invalid\n",
      "/rmg/RMG-Py/myrmgfiles/libraries/Surface/Ammonia/Popa_Rh111/reactions.py\n",
      "/rmg/RMG-Py/myrmgfiles/libraries/Surface/Ammonia/Rebrov_Pt111/reactions.py\n",
      "/rmg/RMG-Py/myrmgfiles/libraries/Surface/Ammonia/Roldan_Ru0001/reactions.py\n",
      "/rmg/RMG-Py/myrmgfiles/libraries/Surface/Ammonia/Scheuer_Pt/reactions.py\n",
      "/rmg/RMG-Py/myrmgfiles/libraries/Surface/Ammonia/Schneider_Pd111/reactions.py\n"
     ]
    },
    {
     "name": "stderr",
     "output_type": "stream",
     "text": [
      " 89%|██████████████████████████████████████████████████████████████████████████████████████████████████████████████████████████████████████▌                | 155/174 [00:40<00:00, 23.27it/s]"
     ]
    },
    {
     "name": "stdout",
     "output_type": "stream",
     "text": [
      "+O_X\n",
      "NH3_X +O_X <=> NH2_X + OH_X is invalid\n",
      "+O_X\n",
      "NH2_X +O_X <=> NH_X + OH_X is invalid\n",
      "/rmg/RMG-Py/myrmgfiles/libraries/Surface/Ammonia/Schneider_Pd211/reactions.py\n",
      "+O_X\n",
      "NH3_X +O_X <=> NH2_X + OH_X is invalid\n",
      "+O_X\n",
      "NH2_X +O_X <=> NH_X + OH_X is invalid\n",
      "/rmg/RMG-Py/myrmgfiles/libraries/Surface/Ammonia/Schneider_Pt111/reactions.py\n",
      "+O_X\n",
      "NH3_X +O_X <=> NH2_X + OH_X is invalid\n",
      "+O_X\n",
      "NH2_X +O_X <=> NH_X + OH_X is invalid\n",
      "/rmg/RMG-Py/myrmgfiles/libraries/Surface/Ammonia/Schneider_Pt211/reactions.py\n",
      "+O_X\n",
      "NH3_X +O_X <=> NH2_X + OH_X is invalid\n",
      "+O_X\n",
      "NH2_X +O_X <=> NH_X + OH_X is invalid\n",
      "/rmg/RMG-Py/myrmgfiles/libraries/Surface/Ammonia/Schneider_Rh111/reactions.py\n",
      "+O_X\n",
      "NH3_X +O_X <=> NH2_X + OH_X is invalid\n",
      "+O_X\n",
      "NH2_X +O_X <=> NH_X + OH_X is invalid\n",
      "/rmg/RMG-Py/myrmgfiles/libraries/Surface/Ammonia/Schneider_Rh211/reactions.py\n"
     ]
    },
    {
     "name": "stderr",
     "output_type": "stream",
     "text": [
      " 93%|███████████████████████████████████████████████████████████████████████████████████████████████████████████████████████████████████████████▋           | 161/174 [00:40<00:00, 28.95it/s]"
     ]
    },
    {
     "name": "stdout",
     "output_type": "stream",
     "text": [
      "+O_X\n",
      "NH3_X +O_X <=> NH2_X + OH_X is invalid\n",
      "+O_X\n",
      "NH2_X +O_X <=> NH_X + OH_X is invalid\n",
      "/rmg/RMG-Py/myrmgfiles/libraries/Surface/Ammonia/Vlachos_Ru0001/reactions.py\n",
      "/rmg/RMG-Py/myrmgfiles/libraries/Surface/CPOX_Pt/Deutschmann2006_adjusted/reactions.py\n",
      "/rmg/RMG-Py/myrmgfiles/libraries/Surface/DOC/Arevalo_Pt111/reactions.py\n",
      "/rmg/RMG-Py/myrmgfiles/libraries/Surface/DOC/Ishikawa_Rh111/reactions.py\n",
      "/rmg/RMG-Py/myrmgfiles/libraries/Surface/DOC/Mhadeshwar_Pt111/reactions.py\n",
      "/rmg/RMG-Py/myrmgfiles/libraries/Surface/DOC/Nitrogen/reactions.py\n",
      "/rmg/RMG-Py/myrmgfiles/libraries/Surface/Example/reactions.py\n",
      "/rmg/RMG-Py/myrmgfiles/libraries/Surface/Hydrazine/Roldan_Cu111/reactions.py\n",
      "/rmg/RMG-Py/myrmgfiles/libraries/Surface/Hydrazine/Roldan_Ir111/reactions.py\n",
      "/rmg/RMG-Py/myrmgfiles/libraries/Surface/Methane/Deutschmann_Ni/reactions.py\n"
     ]
    },
    {
     "name": "stderr",
     "output_type": "stream",
     "text": [
      " 98%|███████████████████████████████████████████████████████████████████████████████████████████████████████████████████████████████████████████████████▌   | 170/174 [00:41<00:00, 30.49it/s]"
     ]
    },
    {
     "name": "stdout",
     "output_type": "stream",
     "text": [
      "/rmg/RMG-Py/myrmgfiles/libraries/Surface/Methane/Deutschmann_Ni_full/reactions.py\n",
      "/rmg/RMG-Py/myrmgfiles/libraries/Surface/Methane/Deutschmann_Pt/reactions.py\n",
      "/rmg/RMG-Py/myrmgfiles/libraries/Surface/Methane/Vlachos_Pt111/reactions.py\n",
      "/rmg/RMG-Py/myrmgfiles/libraries/Surface/Methane/Vlachos_Rh/reactions.py\n",
      "/rmg/RMG-Py/myrmgfiles/libraries/TEOS/reactions.py\n",
      "/rmg/RMG-Py/myrmgfiles/libraries/vinylCPD_H/reactions.py\n",
      "/rmg/RMG-Py/myrmgfiles/libraries/YF/full/reactions.py\n",
      "/rmg/RMG-Py/myrmgfiles/libraries/YF/seed/reactions.py\n"
     ]
    },
    {
     "name": "stderr",
     "output_type": "stream",
     "text": [
      "100%|███████████████████████████████████████████████████████████████████████████████████████████████████████████████████████████████████████████████████████| 174/174 [00:44<00:00,  3.94it/s]\n"
     ]
    }
   ],
   "source": [
    "for mode in [\"families\", \"libraries\"]:\n",
    "    # find all reactions.py files first\n",
    "    dict_file_list = []\n",
    "    for root, dirs, files in os.walk(path_prefix + mode):\n",
    "        for file in files:\n",
    "            if file.lower().endswith('.py') and file == \"reactions.py\":\n",
    "                dict_file_list.append(os.path.join(root, file))\n",
    "    \n",
    "    # load molecule smiles\n",
    "    data_file = open(path_prefix + 'molecule_smiles_{}.pickle'.format(mode), 'rb')\n",
    "    molecule_smiles = pickle.load(data_file)\n",
    "    \n",
    "    # create empty dataframe\n",
    "    data = [('label', 'smiles', 'path', \"entry\")]\n",
    "\n",
    "    # for each file, parse entries and convert them to smiles\n",
    "    for path in tqdm(dict_file_list):\n",
    "        \n",
    "        print(path)\n",
    "        f = open(path, \"r\")\n",
    "        text = f.readlines()\n",
    "\n",
    "        # remove first several lines of comments at the beginning of the .py file\n",
    "        origin_length = len(text)\n",
    "        for i in range(len(text)):\n",
    "            if text[i] == 'entry(\\n':\n",
    "                text = text[i:]\n",
    "                break\n",
    "\n",
    "        entry_list = []\n",
    "\n",
    "        # split entries\n",
    "        begin = 0\n",
    "\n",
    "        # empty file\n",
    "        if len(text) == origin_length or len(text) == 0:\n",
    "            continue\n",
    "\n",
    "        for i in range(len(text)):\n",
    "            if text[i] == \")\\n\":\n",
    "                # handle incorrect format for families\n",
    "                if  text[begin] != \"\\n\" and text[begin][:6] == \"entry(\":\n",
    "#                     text[begin] = \"Entry(\" + text[begin][6:]\n",
    "                    text[begin] = \"load_entry(\" + text[begin][6:]\n",
    "                    entry_list.append(eval(\"\".join(text[begin: i+1])))\n",
    "\n",
    "                begin = i+2\n",
    " \n",
    "        # convert to smiles and append to data \n",
    "        for i in range(len(entry_list)):\n",
    "\n",
    "            # found related molecule smiles, e.g., under the same folder\n",
    "            abs_path = path.replace(path_prefix, \"RMG-database/input/kinetics/\")\n",
    "            \n",
    "            mapping = dict()\n",
    "            for elem in molecule_smiles:\n",
    "                  if elem[2] == abs_path.replace(\"reactions.py\", \"dictionary.txt\"):\n",
    "                        mapping[elem[0]] = elem[1]\n",
    "        \n",
    "            # parse smiles\n",
    "            s = \"\"\n",
    "            parts = entry_list[i].label.split(\" \")\n",
    "            for p in parts:\n",
    "                if p == \"+\":\n",
    "                    s = s + \".\"\n",
    "                elif p == \" \" or p == \"\":\n",
    "                    continue\n",
    "                elif p == \"<=>\" or p == \"=>\" or p == \"=\":\n",
    "                    s = s + \">>\"\n",
    "                else:\n",
    "                    # formal error\n",
    "                    if p not in mapping:\n",
    "                        s = None\n",
    "                        print(p)\n",
    "                        break\n",
    "                    else:\n",
    "                        s = s + mapping[p]\n",
    "\n",
    "            if s is None:\n",
    "                print(entry_list[i].label, \"is invalid\" )\n",
    "                continue\n",
    "\n",
    "            # store Arrhenius\n",
    "            data.append((entry_list[i].label,\n",
    "                        s,\n",
    "                        abs_path,\n",
    "                        entry_list[i]))\n",
    "            f.close()\n",
    "    \n",
    "    # store pickle\n",
    "    data_file = open(path_prefix + 'reaction_smiles_{}.pickle'.format(mode), 'wb')\n",
    "    pickle.dump(data, data_file)\n",
    "    data_file.close()"
   ]
  },
  {
   "cell_type": "code",
   "execution_count": null,
   "id": "1d125155",
   "metadata": {},
   "outputs": [],
   "source": [
    "entry_list[0].data.get_rate_coefficient(500, 100)"
   ]
  },
  {
   "cell_type": "code",
   "execution_count": null,
   "id": "0cd495ad-12d1-4a7f-ae9a-444586f749fe",
   "metadata": {},
   "outputs": [],
   "source": [
    "entry_list[0].data.is_pressure_dependent()"
   ]
  },
  {
   "cell_type": "code",
   "execution_count": null,
   "id": "0cb08fa1-e861-49e2-b051-05650fe1778a",
   "metadata": {},
   "outputs": [],
   "source": [
    "c = 0\n",
    "\n",
    "for l, s, p, e in data[1:]:\n",
    "    if e.data.is_pressure_dependent():\n",
    "        c += 1\n",
    "print(c / len(data))"
   ]
  },
  {
   "cell_type": "code",
   "execution_count": null,
   "id": "fb3c4385-bea9-42b4-8bcf-acc1b960cf63",
   "metadata": {},
   "outputs": [],
   "source": [
    "len(data)"
   ]
  },
  {
   "cell_type": "code",
   "execution_count": 15,
   "id": "d20a6172-f84a-4abe-81bf-d250be39b3fd",
   "metadata": {},
   "outputs": [],
   "source": [
    "with open('reaction_smiles_families.pickle', 'rb') as f:\n",
    "    reaction_family = pickle.load(f)"
   ]
  },
  {
   "cell_type": "code",
   "execution_count": 22,
   "id": "55ea28d0-aff1-4cf8-b0e8-db1a66721a02",
   "metadata": {},
   "outputs": [
    {
     "data": {
      "text/plain": [
       "12143"
      ]
     },
     "execution_count": 22,
     "metadata": {},
     "output_type": "execute_result"
    }
   ],
   "source": [
    "len(reaction_family)"
   ]
  },
  {
   "cell_type": "code",
   "execution_count": 24,
   "id": "257ff9fe-7723-40f5-81c3-cc22458f2e9f",
   "metadata": {},
   "outputs": [],
   "source": [
    "instance = []\n",
    "\n",
    "for l, s, p, e in reaction_family[1:]:\n",
    "    instance.append( str(type(e.data)) )\n",
    "\n"
   ]
  },
  {
   "cell_type": "code",
   "execution_count": 23,
   "id": "b99639a0-5e82-4001-8f4a-226d6a9f0036",
   "metadata": {},
   "outputs": [],
   "source": [
    "from collections import Counter"
   ]
  },
  {
   "cell_type": "code",
   "execution_count": 25,
   "id": "08e0c6b4-7e74-4bc5-aecd-73ca90b83088",
   "metadata": {},
   "outputs": [
    {
     "data": {
      "text/plain": [
       "Counter({\"<class 'rmgpy.kinetics.arrhenius.Arrhenius'>\": 12070,\n",
       "         \"<class 'rmgpy.kinetics.surface.SurfaceArrhenius'>\": 59,\n",
       "         \"<class 'rmgpy.kinetics.surface.StickingCoefficient'>\": 13})"
      ]
     },
     "execution_count": 25,
     "metadata": {},
     "output_type": "execute_result"
    }
   ],
   "source": [
    "Counter(instance)"
   ]
  },
  {
   "cell_type": "code",
   "execution_count": 26,
   "id": "04d191b2-0517-44cd-b190-4bb2e2abe41e",
   "metadata": {},
   "outputs": [],
   "source": [
    "with open('reaction_smiles_libraries.pickle', 'rb') as f:\n",
    "    reaction_libraries = pickle.load(f)"
   ]
  },
  {
   "cell_type": "code",
   "execution_count": 135,
   "id": "5cb2067f-4a96-4742-9992-785bc66f3039",
   "metadata": {},
   "outputs": [
    {
     "name": "stdout",
     "output_type": "stream",
     "text": [
      "Counter({\"<class 'rmgpy.kinetics.arrhenius.Arrhenius'>\": 28533, \"<class 'rmgpy.kinetics.falloff.Troe'>\": 1501, \"<class 'rmgpy.kinetics.arrhenius.PDepArrhenius'>\": 862, \"<class 'rmgpy.kinetics.falloff.ThirdBody'>\": 561, \"<class 'rmgpy.kinetics.arrhenius.MultiArrhenius'>\": 472, \"<class 'rmgpy.kinetics.falloff.Lindemann'>\": 299, \"<class 'rmgpy.kinetics.arrhenius.MultiPDepArrhenius'>\": 160, \"<class 'rmgpy.kinetics.surface.SurfaceArrhenius'>\": 156, \"<class 'rmgpy.kinetics.chebyshev.Chebyshev'>\": 61, \"<class 'rmgpy.kinetics.surface.StickingCoefficient'>\": 40}) 3956 3444 32645\n"
     ]
    }
   ],
   "source": [
    "instance = []\n",
    "\n",
    "non_arr_count = 0\n",
    "p_dep_count = 0\n",
    "\n",
    "for l, s, p, e in reaction_libraries[1:]:\n",
    "    instance.append( str(type(e.data)) )\n",
    "    if not isinstance(e.data, Arrhenius):\n",
    "        non_arr_count += 1\n",
    "    if e.data.is_pressure_dependent():\n",
    "        p_dep_count += 1\n",
    "\n",
    "    \n",
    "c = Counter(instance)\n",
    "print(c, non_arr_count, p_dep_count, len(reaction_libraries)-1)"
   ]
  },
  {
   "cell_type": "code",
   "execution_count": 28,
   "id": "a93bfbc7-1568-4c51-ac6c-9b5013ec5497",
   "metadata": {},
   "outputs": [
    {
     "data": {
      "text/plain": [
       "32645"
      ]
     },
     "execution_count": 28,
     "metadata": {},
     "output_type": "execute_result"
    }
   ],
   "source": [
    "len(reaction_libraries)-1"
   ]
  },
  {
   "cell_type": "code",
   "execution_count": 38,
   "id": "48f2141d-9d00-44cc-a36f-c53685fcd14b",
   "metadata": {},
   "outputs": [
    {
     "data": {
      "text/plain": [
       "Arrhenius(A=(2e+13,'cm^3/(mol*s)'), n=0, Ea=(0,'cal/mol'), T0=(1,'K'))"
      ]
     },
     "execution_count": 38,
     "metadata": {},
     "output_type": "execute_result"
    }
   ],
   "source": [
    "reaction_libraries[128][-1].data"
   ]
  },
  {
   "cell_type": "markdown",
   "id": "cd3acb44-5e66-49c4-9884-31c31fbf3cbb",
   "metadata": {},
   "source": [
    "# Output the family to CSV"
   ]
  },
  {
   "cell_type": "code",
   "execution_count": 125,
   "id": "732ace87-5e1a-450b-b669-087f29a6f9f4",
   "metadata": {},
   "outputs": [
    {
     "data": {
      "text/plain": [
       "Arrhenius(A=(1.98e+12,'cm^3/(mol*s)','*|/',3.2), n=0, Ea=(22.1334,'kJ/mol'), T0=(1,'K'), Tmin=(296,'K'), Tmax=(728,'K'))"
      ]
     },
     "execution_count": 125,
     "metadata": {},
     "output_type": "execute_result"
    }
   ],
   "source": [
    "reaction_family[1][3].data"
   ]
  },
  {
   "cell_type": "code",
   "execution_count": 126,
   "id": "93d01ee2-a65e-4fad-a922-82ab6867d2ea",
   "metadata": {},
   "outputs": [],
   "source": [
    "from collections import defaultdict"
   ]
  },
  {
   "cell_type": "code",
   "execution_count": 127,
   "id": "252549b5-bc45-4a86-a8eb-e99d7cf52398",
   "metadata": {},
   "outputs": [],
   "source": [
    "data = defaultdict(list)\n",
    "\n",
    "for l, s, p, e in reaction_family:\n",
    "    if isinstance(e, str):\n",
    "        continue\n",
    "\n",
    "    if not isinstance(e.data, Arrhenius):\n",
    "        continue\n",
    "\n",
    "    data['label'].append(l)\n",
    "    data['smiles'].append(s)\n",
    "    data['path'].append(p)\n",
    "    data['A_value_si'].append(np.log10(e.data.A.value_si))\n",
    "    data['n_value_si'].append(e.data.n.value_si)\n",
    "    data['Ea_value_si'].append(e.data.Ea.value_si/1000)\n"
   ]
  },
  {
   "cell_type": "code",
   "execution_count": 128,
   "id": "be55af18-dbf1-40dd-bcfa-6cc91f682269",
   "metadata": {},
   "outputs": [],
   "source": [
    "family_df = pd.DataFrame(data)"
   ]
  },
  {
   "cell_type": "code",
   "execution_count": 130,
   "id": "72f00f02-d77d-470f-aeed-19372a7289c2",
   "metadata": {},
   "outputs": [
    {
     "data": {
      "text/html": [
       "<div>\n",
       "<style scoped>\n",
       "    .dataframe tbody tr th:only-of-type {\n",
       "        vertical-align: middle;\n",
       "    }\n",
       "\n",
       "    .dataframe tbody tr th {\n",
       "        vertical-align: top;\n",
       "    }\n",
       "\n",
       "    .dataframe thead th {\n",
       "        text-align: right;\n",
       "    }\n",
       "</style>\n",
       "<table border=\"1\" class=\"dataframe\">\n",
       "  <thead>\n",
       "    <tr style=\"text-align: right;\">\n",
       "      <th></th>\n",
       "      <th>label</th>\n",
       "      <th>smiles</th>\n",
       "      <th>path</th>\n",
       "      <th>A_value_si</th>\n",
       "      <th>n_value_si</th>\n",
       "      <th>Ea_value_si</th>\n",
       "    </tr>\n",
       "  </thead>\n",
       "  <tbody>\n",
       "    <tr>\n",
       "      <th>0</th>\n",
       "      <td>CH2 + C2H4 &lt;=&gt; C3H6</td>\n",
       "      <td>[CH2].C=C&gt;&gt;C1CC1</td>\n",
       "      <td>RMG-database/input/kinetics/families/1+2_Cyclo...</td>\n",
       "      <td>6.296665</td>\n",
       "      <td>0.000000</td>\n",
       "      <td>22.1334</td>\n",
       "    </tr>\n",
       "    <tr>\n",
       "      <th>1</th>\n",
       "      <td>C2H4 + O &lt;=&gt; C2H4O</td>\n",
       "      <td>C=C.[O]&gt;&gt;O1CC1</td>\n",
       "      <td>RMG-database/input/kinetics/families/1+2_Cyclo...</td>\n",
       "      <td>5.845098</td>\n",
       "      <td>0.000000</td>\n",
       "      <td>0.0000</td>\n",
       "    </tr>\n",
       "    <tr>\n",
       "      <th>2</th>\n",
       "      <td>C3H6-2 + O &lt;=&gt; C3H6O</td>\n",
       "      <td>CC=C.[O]&gt;&gt;CC1CO1</td>\n",
       "      <td>RMG-database/input/kinetics/families/1+2_Cyclo...</td>\n",
       "      <td>6.462398</td>\n",
       "      <td>0.000000</td>\n",
       "      <td>0.0000</td>\n",
       "    </tr>\n",
       "    <tr>\n",
       "      <th>3</th>\n",
       "      <td>C4H8 + O &lt;=&gt; C4H8O</td>\n",
       "      <td>CC(=C)C.[O]&gt;&gt;CC1(C)OC1</td>\n",
       "      <td>RMG-database/input/kinetics/families/1+2_Cyclo...</td>\n",
       "      <td>6.880814</td>\n",
       "      <td>0.000000</td>\n",
       "      <td>0.4184</td>\n",
       "    </tr>\n",
       "    <tr>\n",
       "      <th>4</th>\n",
       "      <td>C4H8-2 + O &lt;=&gt; C4H8O-2</td>\n",
       "      <td>CC=CC.[O]&gt;&gt;CC1OC1C</td>\n",
       "      <td>RMG-database/input/kinetics/families/1+2_Cyclo...</td>\n",
       "      <td>7.187521</td>\n",
       "      <td>0.000000</td>\n",
       "      <td>0.0000</td>\n",
       "    </tr>\n",
       "    <tr>\n",
       "      <th>...</th>\n",
       "      <td>...</td>\n",
       "      <td>...</td>\n",
       "      <td>...</td>\n",
       "      <td>...</td>\n",
       "      <td>...</td>\n",
       "      <td>...</td>\n",
       "    </tr>\n",
       "    <tr>\n",
       "      <th>12124</th>\n",
       "      <td>CH2C(OH)CH2CH2F &lt;=&gt; C2H4 + HF + CH2CO</td>\n",
       "      <td>OC(=C)CCF&gt;&gt;C=C.F.C=C=O</td>\n",
       "      <td>RMG-database/input/kinetics/families/XY_elimin...</td>\n",
       "      <td>10.182840</td>\n",
       "      <td>1.116120</td>\n",
       "      <td>246.9950</td>\n",
       "    </tr>\n",
       "    <tr>\n",
       "      <th>12125</th>\n",
       "      <td>CH2(OH)CH2CH2F &lt;=&gt; C2H4 + HF + CH2O-2</td>\n",
       "      <td>OCCCF&gt;&gt;C=C.F.C=O</td>\n",
       "      <td>RMG-database/input/kinetics/families/XY_elimin...</td>\n",
       "      <td>9.262669</td>\n",
       "      <td>1.147180</td>\n",
       "      <td>230.4410</td>\n",
       "    </tr>\n",
       "    <tr>\n",
       "      <th>12126</th>\n",
       "      <td>CH2C(OH)OCH2F &lt;=&gt; CH2O + HF + CH2CO</td>\n",
       "      <td>OC(=C)OCF&gt;&gt;C=O.F.C=C=O</td>\n",
       "      <td>RMG-database/input/kinetics/families/XY_elimin...</td>\n",
       "      <td>10.723799</td>\n",
       "      <td>0.745914</td>\n",
       "      <td>145.5470</td>\n",
       "    </tr>\n",
       "    <tr>\n",
       "      <th>12127</th>\n",
       "      <td>F2C(OH)CH2CH2F &lt;=&gt; C2H4 + HF + CF2O</td>\n",
       "      <td>FCCC(F)(F)O&gt;&gt;C=C.F.FC(=O)F</td>\n",
       "      <td>RMG-database/input/kinetics/families/XY_elimin...</td>\n",
       "      <td>10.297852</td>\n",
       "      <td>0.978818</td>\n",
       "      <td>232.5120</td>\n",
       "    </tr>\n",
       "    <tr>\n",
       "      <th>12128</th>\n",
       "      <td>F2C(OH)OCH2F &lt;=&gt; CH2O + HF + CF2O</td>\n",
       "      <td>FCOC(F)(F)O&gt;&gt;C=O.F.FC(=O)F</td>\n",
       "      <td>RMG-database/input/kinetics/families/XY_elimin...</td>\n",
       "      <td>10.788555</td>\n",
       "      <td>0.631481</td>\n",
       "      <td>131.3320</td>\n",
       "    </tr>\n",
       "  </tbody>\n",
       "</table>\n",
       "<p>12129 rows × 6 columns</p>\n",
       "</div>"
      ],
      "text/plain": [
       "                                       label                      smiles  \\\n",
       "0                        CH2 + C2H4 <=> C3H6            [CH2].C=C>>C1CC1   \n",
       "1                         C2H4 + O <=> C2H4O              C=C.[O]>>O1CC1   \n",
       "2                       C3H6-2 + O <=> C3H6O            CC=C.[O]>>CC1CO1   \n",
       "3                         C4H8 + O <=> C4H8O      CC(=C)C.[O]>>CC1(C)OC1   \n",
       "4                     C4H8-2 + O <=> C4H8O-2          CC=CC.[O]>>CC1OC1C   \n",
       "...                                      ...                         ...   \n",
       "12124  CH2C(OH)CH2CH2F <=> C2H4 + HF + CH2CO      OC(=C)CCF>>C=C.F.C=C=O   \n",
       "12125  CH2(OH)CH2CH2F <=> C2H4 + HF + CH2O-2            OCCCF>>C=C.F.C=O   \n",
       "12126    CH2C(OH)OCH2F <=> CH2O + HF + CH2CO      OC(=C)OCF>>C=O.F.C=C=O   \n",
       "12127    F2C(OH)CH2CH2F <=> C2H4 + HF + CF2O  FCCC(F)(F)O>>C=C.F.FC(=O)F   \n",
       "12128      F2C(OH)OCH2F <=> CH2O + HF + CF2O  FCOC(F)(F)O>>C=O.F.FC(=O)F   \n",
       "\n",
       "                                                    path  A_value_si  \\\n",
       "0      RMG-database/input/kinetics/families/1+2_Cyclo...    6.296665   \n",
       "1      RMG-database/input/kinetics/families/1+2_Cyclo...    5.845098   \n",
       "2      RMG-database/input/kinetics/families/1+2_Cyclo...    6.462398   \n",
       "3      RMG-database/input/kinetics/families/1+2_Cyclo...    6.880814   \n",
       "4      RMG-database/input/kinetics/families/1+2_Cyclo...    7.187521   \n",
       "...                                                  ...         ...   \n",
       "12124  RMG-database/input/kinetics/families/XY_elimin...   10.182840   \n",
       "12125  RMG-database/input/kinetics/families/XY_elimin...    9.262669   \n",
       "12126  RMG-database/input/kinetics/families/XY_elimin...   10.723799   \n",
       "12127  RMG-database/input/kinetics/families/XY_elimin...   10.297852   \n",
       "12128  RMG-database/input/kinetics/families/XY_elimin...   10.788555   \n",
       "\n",
       "       n_value_si  Ea_value_si  \n",
       "0        0.000000      22.1334  \n",
       "1        0.000000       0.0000  \n",
       "2        0.000000       0.0000  \n",
       "3        0.000000       0.4184  \n",
       "4        0.000000       0.0000  \n",
       "...           ...          ...  \n",
       "12124    1.116120     246.9950  \n",
       "12125    1.147180     230.4410  \n",
       "12126    0.745914     145.5470  \n",
       "12127    0.978818     232.5120  \n",
       "12128    0.631481     131.3320  \n",
       "\n",
       "[12129 rows x 6 columns]"
      ]
     },
     "execution_count": 130,
     "metadata": {},
     "output_type": "execute_result"
    }
   ],
   "source": [
    "family_df"
   ]
  },
  {
   "cell_type": "code",
   "execution_count": 129,
   "id": "a60da868-70b9-431c-8150-f20ed580158f",
   "metadata": {},
   "outputs": [],
   "source": [
    "family_df.to_csv(\"family.csv\", index=False)"
   ]
  },
  {
   "cell_type": "markdown",
   "id": "d017131c-7dfb-4f17-87b6-5801799a9f5b",
   "metadata": {},
   "source": [
    "# Output the library to CSV\n",
    "\n",
    "## Temperature dependent"
   ]
  },
  {
   "cell_type": "markdown",
   "id": "c5145812-59e9-46e3-93d6-c6fb7e22fc62",
   "metadata": {
    "tags": []
   },
   "source": [
    "### identify the temperature gap"
   ]
  },
  {
   "cell_type": "code",
   "execution_count": 103,
   "id": "c2f5d9da-84f0-4f69-8384-c009183a0a93",
   "metadata": {},
   "outputs": [
    {
     "name": "stderr",
     "output_type": "stream",
     "text": [
      "100%|███████████████████████████████████████████████████████████████████████████████████████████████████████████████████████████████████| 32645/32645 [00:00<00:00, 1221458.49it/s]"
     ]
    },
    {
     "name": "stdout",
     "output_type": "stream",
     "text": [
      "521 521\n",
      "423.65090211132434 2776.0\n",
      "[  50.    192.    200.    200.    200.    200.    200.    200.    200.\n",
      "  200.    200.    200.    200.    200.    200.    200.    200.    200.\n",
      "  200.    200.    200.    200.    200.    200.    200.    200.    200.\n",
      "  200.    200.    200.    200.    200.    200.    200.    200.    200.\n",
      "  200.    200.    200.    200.    200.    200.    200.    200.    244.\n",
      "  250.    250.    250.    250.    250.    250.    250.    285.8   298.\n",
      "  299.6   300.    300.    300.    300.    300.    300.    300.    300.\n",
      "  300.    300.    300.    300.    300.    300.    300.    300.    300.\n",
      "  300.    300.    300.    303.03  400.    500.    500.    500.    500.\n",
      "  500.    500.    500.    500.    600.    638.    722.4   800.    873.\n",
      "  873.   1000.   1040.   1158.   1330.   1600.   1936.   2000.   2000.\n",
      " 2160.  ]\n",
      "[ 370.   840.  1000.  1100.  1180.  1423.  1438.4 1540.  1683.6 1856.4\n",
      " 2000.  2000.  2000.  2000.  2000.  2000.  2000.  2000.  2000.  2000.\n",
      " 2110.  2400.  2500.  2500.  2500.  2500.  2500.  2500.  2500.  2500.\n",
      " 2500.  2500.  2500.  2500.  2500.  2500.  2500.  2810.  2940.  3000.\n",
      " 3000.  3000.  3000.  3000.  3000.  3000.  3000.  3000.  3000.  3000.\n",
      " 3000.  3000.  3000.  3000.  3000.  3000.  3000.  3000.  3000.  3000.\n",
      " 3000.  3000.  3000.  3000.  3000.  3000.  3000.  3000.  3000.  3000.\n",
      " 3000.  3000.  3000.  3000.  3000.  3000.  3000.  3000.  3000.  3000.\n",
      " 3000.  3000.  3000.  3000.  3000.  3000.  3000.  3000.  3000.  3000.\n",
      " 3000.  3000.  3328.  3500.  3870.  4000.  4000.  4000.  4680.  5000. ]\n"
     ]
    },
    {
     "name": "stderr",
     "output_type": "stream",
     "text": [
      "\n"
     ]
    }
   ],
   "source": [
    "t_min_list = []\n",
    "t_max_list = []\n",
    "\n",
    "for l, s, p, e in tqdm(reaction_libraries[1:]):\n",
    "    if e.data.is_pressure_dependent():\n",
    "        continue\n",
    "    k = e.data\n",
    "    if k.Tmax:\n",
    "        t_max_list.append(k.Tmax.value_si)\n",
    "    if k.Tmin:\n",
    "        t_min_list.append(k.Tmin.value_si)\n",
    "\n",
    "print(len(t_min_list), len(t_max_list))\n",
    "print(np.mean(t_min_list), np.mean(t_max_list))\n",
    "\n",
    "print(np.quantile(t_min_list, q=np.arange(0, 1, 0.01)))\n",
    "print(np.quantile(t_max_list, q=np.arange(0, 1, 0.01)))"
   ]
  },
  {
   "cell_type": "code",
   "execution_count": null,
   "id": "b2ca5562-dd77-4cdb-87e1-e3164ebcf6ec",
   "metadata": {},
   "outputs": [],
   "source": []
  },
  {
   "cell_type": "code",
   "execution_count": 131,
   "id": "02c83da8",
   "metadata": {},
   "outputs": [
    {
     "name": "stdout",
     "output_type": "stream",
     "text": [
      "32645\n"
     ]
    },
    {
     "name": "stderr",
     "output_type": "stream",
     "text": [
      "100%|████████████████████████████████████████████████████████| 32645/32645 [00:00<00:00, 55949.24it/s]\n"
     ]
    },
    {
     "name": "stdout",
     "output_type": "stream",
     "text": [
      "<class 'rmgpy.kinetics.surface.StickingCoefficient'> O2 + X + X <=> O_X + O_X [O][O].[Pt].[Pt]>>O=[Pt].O=[Pt] RMG-database/input/kinetics/libraries/Surface/Ammonia/Kraehnert_Pt111/reactions.py O2 + X + X <=> O_X + O_X\n",
      "<class 'rmgpy.kinetics.surface.StickingCoefficient'> NH3 + X <=> NH3_X N.[Pt]>>[Pt].N RMG-database/input/kinetics/libraries/Surface/Ammonia/Rebrov_Pt111/reactions.py NH3 + X <=> NH3_X\n",
      "<class 'rmgpy.kinetics.surface.StickingCoefficient'> N2O + X <=> N2 + O_X [N-]=[N+]=O.[Pt]>>N#N.O=[Pt] RMG-database/input/kinetics/libraries/Surface/Ammonia/Rebrov_Pt111/reactions.py N2O + X <=> N2 + O_X\n",
      "<class 'rmgpy.kinetics.surface.StickingCoefficient'> NH3 + X <=> NH3_X N.[Pt]>>[Pt].N RMG-database/input/kinetics/libraries/Surface/Ammonia/Scheuer_Pt/reactions.py NH3 + X <=> NH3_X\n",
      "<class 'rmgpy.kinetics.surface.StickingCoefficient'> O2 + X + X <=> O_X + O_X [O][O].[Pt].[Pt]>>O=[Pt].O=[Pt] RMG-database/input/kinetics/libraries/Surface/Ammonia/Schneider_Pd111/reactions.py O2 + X + X <=> O_X + O_X\n",
      "<class 'rmgpy.kinetics.surface.StickingCoefficient'> NH3 + X <=> NH3_X N.[Pt]>>[Pt].N RMG-database/input/kinetics/libraries/Surface/Ammonia/Schneider_Pd111/reactions.py NH3 + X <=> NH3_X\n",
      "<class 'rmgpy.kinetics.surface.StickingCoefficient'> O2 + X + X <=> O_X + O_X [O][O].[Pt].[Pt]>>O=[Pt].O=[Pt] RMG-database/input/kinetics/libraries/Surface/Ammonia/Schneider_Pd211/reactions.py O2 + X + X <=> O_X + O_X\n",
      "<class 'rmgpy.kinetics.surface.StickingCoefficient'> NH3 + X <=> NH3_X N.[Pt]>>[Pt].N RMG-database/input/kinetics/libraries/Surface/Ammonia/Schneider_Pd211/reactions.py NH3 + X <=> NH3_X\n",
      "<class 'rmgpy.kinetics.surface.StickingCoefficient'> O2 + X + X <=> O_X + O_X [O][O].[Pt].[Pt]>>O=[Pt].O=[Pt] RMG-database/input/kinetics/libraries/Surface/Ammonia/Schneider_Pt111/reactions.py O2 + X + X <=> O_X + O_X\n",
      "<class 'rmgpy.kinetics.surface.StickingCoefficient'> NH3 + X <=> NH3_X N.[Pt]>>[Pt].N RMG-database/input/kinetics/libraries/Surface/Ammonia/Schneider_Pt111/reactions.py NH3 + X <=> NH3_X\n",
      "<class 'rmgpy.kinetics.surface.StickingCoefficient'> O2 + X + X <=> O_X + O_X [O][O].[Pt].[Pt]>>O=[Pt].O=[Pt] RMG-database/input/kinetics/libraries/Surface/Ammonia/Schneider_Pt211/reactions.py O2 + X + X <=> O_X + O_X\n",
      "<class 'rmgpy.kinetics.surface.StickingCoefficient'> NH3 + X <=> NH3_X N.[Pt]>>[Pt].N RMG-database/input/kinetics/libraries/Surface/Ammonia/Schneider_Pt211/reactions.py NH3 + X <=> NH3_X\n",
      "<class 'rmgpy.kinetics.surface.StickingCoefficient'> O2 + X + X <=> O_X + O_X [O][O].[Pt].[Pt]>>O=[Pt].O=[Pt] RMG-database/input/kinetics/libraries/Surface/Ammonia/Schneider_Rh111/reactions.py O2 + X + X <=> O_X + O_X\n",
      "<class 'rmgpy.kinetics.surface.StickingCoefficient'> NH3 + X <=> NH3_X N.[Pt]>>[Pt].N RMG-database/input/kinetics/libraries/Surface/Ammonia/Schneider_Rh111/reactions.py NH3 + X <=> NH3_X\n",
      "<class 'rmgpy.kinetics.surface.StickingCoefficient'> O2 + X + X <=> O_X + O_X [O][O].[Pt].[Pt]>>O=[Pt].O=[Pt] RMG-database/input/kinetics/libraries/Surface/Ammonia/Schneider_Rh211/reactions.py O2 + X + X <=> O_X + O_X\n",
      "<class 'rmgpy.kinetics.surface.StickingCoefficient'> NH3 + X <=> NH3_X N.[Pt]>>[Pt].N RMG-database/input/kinetics/libraries/Surface/Ammonia/Schneider_Rh211/reactions.py NH3 + X <=> NH3_X\n",
      "<class 'rmgpy.kinetics.surface.StickingCoefficient'> H2 + X + X <=> H_X + H_X [H][H].[Pt].[Pt]>>[PtH].[PtH] RMG-database/input/kinetics/libraries/Surface/Ammonia/Vlachos_Ru0001/reactions.py H2 + X + X <=> H_X + H_X\n",
      "<class 'rmgpy.kinetics.surface.StickingCoefficient'> H2 + Pt + Pt <=> HX + HX [H][H].[Pt].[Pt]>>[PtH].[PtH] RMG-database/input/kinetics/libraries/Surface/CPOX_Pt/Deutschmann2006_adjusted/reactions.py H2 + Pt + Pt <=> HX + HX\n",
      "<class 'rmgpy.kinetics.surface.StickingCoefficient'> H2O + Pt <=> H2OX O.[Pt]>>[Pt].O RMG-database/input/kinetics/libraries/Surface/CPOX_Pt/Deutschmann2006_adjusted/reactions.py H2O + Pt <=> H2OX\n",
      "<class 'rmgpy.kinetics.surface.StickingCoefficient'> CO2 + Pt <=> CO2X O=C=O.[Pt]>>O=C=O.[Pt] RMG-database/input/kinetics/libraries/Surface/CPOX_Pt/Deutschmann2006_adjusted/reactions.py CO2 + Pt <=> CO2X\n",
      "<class 'rmgpy.kinetics.surface.StickingCoefficient'> H2 + CX <=> CH2X [H][H].C$[Pt]>>C=[Pt] RMG-database/input/kinetics/libraries/Surface/CPOX_Pt/Deutschmann2006_adjusted/reactions.py H2 + CX <=> CH2X\n",
      "<class 'rmgpy.kinetics.surface.StickingCoefficient'> O2 + X + X <=> O_X + O_X [O][O].[Pt].[Pt]>>O=[Pt].O=[Pt] RMG-database/input/kinetics/libraries/Surface/DOC/Arevalo_Pt111/reactions.py O2 + X + X <=> O_X + O_X\n",
      "<class 'rmgpy.kinetics.surface.StickingCoefficient'> NO + X <=> NO_X [N]=O.[Pt]>>[Pt]N=O RMG-database/input/kinetics/libraries/Surface/DOC/Arevalo_Pt111/reactions.py NO + X <=> NO_X\n",
      "<class 'rmgpy.kinetics.surface.StickingCoefficient'> O + X <=> O_X [O].[Pt]>>O=[Pt] RMG-database/input/kinetics/libraries/Surface/DOC/Mhadeshwar_Pt111/reactions.py O + X <=> O_X\n",
      "<class 'rmgpy.kinetics.surface.StickingCoefficient'> C2N2 + X <=> C2N2_X N#CC#N.[Pt]>>N#CC#N.[Pt] RMG-database/input/kinetics/libraries/Surface/DOC/Mhadeshwar_Pt111/reactions.py C2N2 + X <=> C2N2_X\n",
      "<class 'rmgpy.kinetics.surface.StickingCoefficient'> NH3 + X <=> NH3_X N.[Pt]>>[Pt].N RMG-database/input/kinetics/libraries/Surface/DOC/Nitrogen/reactions.py NH3 + X <=> NH3_X\n",
      "<class 'rmgpy.kinetics.surface.StickingCoefficient'> N2 + X + X <=> N_X + N_X N#N.[Pt].[Pt]>>N#[Pt].N#[Pt] RMG-database/input/kinetics/libraries/Surface/DOC/Nitrogen/reactions.py N2 + X + X <=> N_X + N_X\n",
      "<class 'rmgpy.kinetics.surface.StickingCoefficient'> O2 + Ni + Ni <=> OX + OX [O][O].[Pt].[Pt]>>O=[Pt].O=[Pt] RMG-database/input/kinetics/libraries/Surface/Example/reactions.py O2 + Ni + Ni <=> OX + OX\n",
      "<class 'rmgpy.kinetics.surface.StickingCoefficient'> CH4 + Ni + Ni <=> CH3X + HX C.[Pt].[Pt]>>C[Pt].[PtH] RMG-database/input/kinetics/libraries/Surface/Example/reactions.py CH4 + Ni + Ni <=> CH3X + HX\n",
      "<class 'rmgpy.kinetics.surface.StickingCoefficient'> H2 + Ni + Ni <=> HX + HX [H][H].[Pt].[Pt]>>[PtH].[PtH] RMG-database/input/kinetics/libraries/Surface/Example/reactions.py H2 + Ni + Ni <=> HX + HX\n",
      "<class 'rmgpy.kinetics.surface.StickingCoefficient'> N2H4 + X <=> N2H4_X NN.[Pt]>>NN.[Pt] RMG-database/input/kinetics/libraries/Surface/Hydrazine/Roldan_Cu111/reactions.py N2H4 + X <=> N2H4_X\n",
      "<class 'rmgpy.kinetics.surface.StickingCoefficient'> H2 + Ni + Ni <=> HX + HX [H][H].[Pt].[Pt]>>[PtH].[PtH] RMG-database/input/kinetics/libraries/Surface/Methane/Deutschmann_Ni/reactions.py H2 + Ni + Ni <=> HX + HX\n",
      "<class 'rmgpy.kinetics.surface.StickingCoefficient'> H2 + Ni + Ni <=> HX + HX [H][H].[Pt].[Pt]>>[PtH].[PtH] RMG-database/input/kinetics/libraries/Surface/Methane/Deutschmann_Ni_full/reactions.py H2 + Ni + Ni <=> HX + HX\n",
      "<class 'rmgpy.kinetics.surface.StickingCoefficient'> H2 + Pt + Pt <=> HX + HX [H][H].[Pt].[Pt]>>[PtH].[PtH] RMG-database/input/kinetics/libraries/Surface/Methane/Deutschmann_Pt/reactions.py H2 + Pt + Pt <=> HX + HX\n",
      "<class 'rmgpy.kinetics.surface.StickingCoefficient'> CH4 + Pt + Pt <=> CH3X + HX C.[Pt].[Pt]>>C[Pt].[PtH] RMG-database/input/kinetics/libraries/Surface/Methane/Deutschmann_Pt/reactions.py CH4 + Pt + Pt <=> CH3X + HX\n",
      "<class 'rmgpy.kinetics.surface.StickingCoefficient'> CH4 + HOX + Pt <=> CH3X + H2OX C.O[Pt].[Pt]>>C[Pt].[Pt].O RMG-database/input/kinetics/libraries/Surface/Methane/Deutschmann_Pt/reactions.py CH4 + HOX + Pt <=> CH3X + H2OX\n",
      "<class 'rmgpy.kinetics.surface.StickingCoefficient'> H2O + Pt <=> H2OX O.[Pt]>>[Pt].O RMG-database/input/kinetics/libraries/Surface/Methane/Deutschmann_Pt/reactions.py H2O + Pt <=> H2OX\n",
      "<class 'rmgpy.kinetics.surface.StickingCoefficient'> CO2 + Pt <=> CO2X O=C=O.[Pt]>>O=C=O.[Pt] RMG-database/input/kinetics/libraries/Surface/Methane/Deutschmann_Pt/reactions.py CO2 + Pt <=> CO2X\n",
      "<class 'rmgpy.kinetics.surface.StickingCoefficient'> O2 + X + X <=> O_X + O_X [O][O].[Pt].[Pt]>>O=[Pt].O=[Pt] RMG-database/input/kinetics/libraries/Surface/Methane/Vlachos_Pt111/reactions.py O2 + X + X <=> O_X + O_X\n",
      "<class 'rmgpy.kinetics.surface.StickingCoefficient'> H2 + X + X <=> H_X + H_X [H][H].[Pt].[Pt]>>[PtH].[PtH] RMG-database/input/kinetics/libraries/Surface/Methane/Vlachos_Rh/reactions.py H2 + X + X <=> H_X + H_X\n",
      "29161 87340\n"
     ]
    }
   ],
   "source": [
    "data = defaultdict(list)\n",
    "\n",
    "reaction_count = 0\n",
    "\n",
    "print(len(reaction_libraries[1:]))\n",
    "\n",
    "for l, s, p, e in tqdm(reaction_libraries[1:]):\n",
    "    if e.data.is_pressure_dependent():\n",
    "        continue\n",
    "\n",
    "    k = e.data\n",
    "\n",
    "    try:\n",
    "        k.get_rate_coefficient(300)\n",
    "    except:\n",
    "        print(type(k), l, s, p, e)\n",
    "        continue\n",
    "\n",
    "    tmax, tmin = k.Tmax, k.Tmin\n",
    "    if tmax is None:\n",
    "        tmax = 3000\n",
    "    else:\n",
    "        tmax = tmax.value_si\n",
    "\n",
    "    if tmin is None:\n",
    "        tmin = 300\n",
    "    else:\n",
    "        tmin = tmin.value_si\n",
    "        \n",
    "    reaction_count += 1\n",
    "    \n",
    "    for T in np.arange(tmin, tmax, 1000).tolist():\n",
    "        \n",
    "        if not k.is_temperature_valid(T):\n",
    "            continue\n",
    "\n",
    "        data['label'].append(l)\n",
    "        data['smiles'].append(s)\n",
    "        data['path'].append(p)\n",
    "        data['T'].append(T)\n",
    "        data['log10rate'].append(np.log10(k.get_rate_coefficient(T)))\n",
    "\n",
    "df = pd.DataFrame(data)\n",
    "print(reaction_count, len(df))\n",
    "df.to_csv(\"library_T_dependent_90k.csv\", index=False)"
   ]
  },
  {
   "cell_type": "markdown",
   "id": "dc4be720-0ba7-4270-9a21-06db1152414b",
   "metadata": {
    "tags": []
   },
   "source": [
    "## Pressure dependent data sampling"
   ]
  },
  {
   "cell_type": "code",
   "execution_count": 92,
   "id": "fd727864-cef6-4eaf-895a-e59050a85842",
   "metadata": {},
   "outputs": [
    {
     "name": "stderr",
     "output_type": "stream",
     "text": [
      "100%|███████████████████████████████████████████████████████████████████████████████████████████████████████████████████████████████████| 32645/32645 [00:00<00:00, 1984708.49it/s]"
     ]
    },
    {
     "name": "stdout",
     "output_type": "stream",
     "text": [
      "61 61\n",
      "408.1967213114754 2754.098360655738\n",
      "[300. 300. 300. 300. 300. 300. 300. 300. 300. 900.]\n",
      "[2000. 2000. 2000. 3000. 3000. 3000. 3000. 3000. 3000. 3000.]\n",
      "61 61\n",
      "1835.746363442623 11740959.704918033\n",
      "[  101.325      101.325      101.325      101.325      114.116268\n",
      "   133.30317    653.321268  1000.        1000.        1000.\n",
      "  1000.        1000.        1000.        1000.        1000.\n",
      "  1000.        1000.        1000.        1000.        1000.\n",
      "  1000.        1000.        1000.        1000.        1000.\n",
      "  1000.        1000.        1000.        1000.        1000.\n",
      "  1000.        1000.        1000.        1000.        1000.\n",
      "  1000.        1000.        1000.        1000.        1000.\n",
      "  1000.        1000.        1000.        1000.        1000.\n",
      "  1000.        1000.        1000.        1000.        1000.\n",
      "  1000.        1000.        1000.        1000.        1000.\n",
      "  1000.        1000.        1000.        1000.        1000.\n",
      "  1000.        1000.        1000.        1000.        1000.\n",
      "  1000.        1000.        1000.        1000.        1000.\n",
      "  1000.        1000.        1002.65      1010.6       1013.25\n",
      "  1013.25      1013.25      1013.25      1013.25      1013.25\n",
      "  1013.25      1013.25      1013.25      1013.25      1013.25\n",
      "  1013.25      1013.25      1013.25      1013.25      1013.25\n",
      "  1013.25      6405.3      10000.       10000.       10000.\n",
      " 10000.       10079.5      10132.5      10132.5      10132.5     ]\n",
      "[ 1013250.          6405300.         10000000.         10000000.\n",
      " 10000000.         10000000.         10000000.         10000000.\n",
      " 10000000.         10000000.         10000000.         10000000.\n",
      " 10000000.         10000000.         10000000.         10000000.\n",
      " 10000000.         10000000.         10000000.         10000000.\n",
      " 10000000.         10000000.         10000000.         10000000.\n",
      " 10000000.         10000000.         10000000.         10000000.\n",
      " 10000000.         10000000.         10000000.         10000000.\n",
      " 10000000.         10000000.         10000000.         10000000.\n",
      " 10000000.         10000000.         10000000.         10000000.\n",
      " 10000000.         10000000.         10000000.         10000000.\n",
      " 10000000.         10000000.         10000000.         10000000.\n",
      " 10000000.         10000000.         10000000.         10000000.\n",
      " 10000000.         10000000.         10000000.         10000000.\n",
      " 10000000.         10000000.         10000000.         10000000.\n",
      " 10000000.         10000000.         10000000.         10000000.\n",
      " 10000000.         10000000.         10000000.         10000000.\n",
      " 10000000.         10000000.         10000000.         10000000.\n",
      " 10026500.         10106000.         10132500.         10132500.\n",
      " 10132500.         10132500.         10132500.         10132500.\n",
      " 10132500.         10132500.         10132500.         10132500.\n",
      " 10132500.         10132500.         10132500.         10132500.\n",
      " 10132500.         10132500.         10132500.         10132500.\n",
      " 10132500.         10132500.         10132500.         10132500.00000002\n",
      " 12051190.19999998 23664251.09999978 54666053.39999986 64999987.5       ]\n"
     ]
    },
    {
     "name": "stderr",
     "output_type": "stream",
     "text": [
      "\n"
     ]
    }
   ],
   "source": [
    "t_min_list = []\n",
    "t_max_list = []\n",
    "\n",
    "p_min_list = []\n",
    "p_max_list = []\n",
    "\n",
    "for l, s, p, e in tqdm(reaction_libraries[1:]):\n",
    "    if not e.data.is_pressure_dependent():\n",
    "        continue\n",
    "    k = e.data\n",
    "\n",
    "    if k.Tmax:\n",
    "        t_max_list.append(k.Tmax.value_si)\n",
    "    if k.Tmin:\n",
    "        t_min_list.append(k.Tmin.value_si)\n",
    "        \n",
    "    if k.Pmax:\n",
    "        p_max_list.append(k.Pmax.value_si)\n",
    "    if k.Pmin:\n",
    "        p_min_list.append(k.Pmin.value_si)\n",
    "\n",
    "print(len(t_min_list), len(t_max_list))\n",
    "print(np.mean(t_min_list), np.mean(t_max_list))\n",
    "\n",
    "print(np.quantile(t_min_list, q=np.arange(0, 1, 0.1)))\n",
    "print(np.quantile(t_max_list, q=np.arange(0, 1, 0.1)))\n",
    "\n",
    "\n",
    "print(len(p_min_list), len(p_max_list))\n",
    "print(np.mean(p_min_list), np.mean(p_max_list))\n",
    "\n",
    "print(np.quantile(p_min_list, q=np.arange(0, 1, 0.01)))\n",
    "print(np.quantile(p_max_list, q=np.arange(0, 1, 0.01)))"
   ]
  },
  {
   "cell_type": "code",
   "execution_count": 132,
   "id": "d7626268-acc9-494d-9db1-c44a431b525c",
   "metadata": {},
   "outputs": [
    {
     "name": "stdout",
     "output_type": "stream",
     "text": [
      "32645\n"
     ]
    },
    {
     "name": "stderr",
     "output_type": "stream",
     "text": [
      "100%|███████████████████████████████████████████████████████| 32645/32645 [00:00<00:00, 153567.46it/s]\n"
     ]
    },
    {
     "name": "stdout",
     "output_type": "stream",
     "text": [
      "3444 113695\n"
     ]
    }
   ],
   "source": [
    "data = defaultdict(list)\n",
    "\n",
    "reaction_count = 0\n",
    "\n",
    "print(len(reaction_libraries[1:]))\n",
    "\n",
    "for l, s, p, e in tqdm(reaction_libraries[1:]):\n",
    "    if not e.data.is_pressure_dependent():\n",
    "        continue\n",
    "\n",
    "    k = e.data\n",
    "\n",
    "    try:\n",
    "        k.get_rate_coefficient(300, 100000)\n",
    "    except:\n",
    "        print(type(k), l, s, p, e)\n",
    "        continue\n",
    "\n",
    "    tmax, tmin = k.Tmax, k.Tmin\n",
    "    if tmax is None:\n",
    "        tmax = 3000\n",
    "    else:\n",
    "        tmax = tmax.value_si\n",
    "\n",
    "    if tmin is None:\n",
    "        tmin = 300\n",
    "    else:\n",
    "        tmin = tmin.value_si\n",
    "        \n",
    "        \n",
    "    pmax, pmin = k.Pmax, k.Pmin\n",
    "    if pmax is None:\n",
    "        pmax = 10132500\n",
    "    else:\n",
    "        pmax = pmax.value_si\n",
    "\n",
    "    if pmin is None:\n",
    "        pmin = 114.116268\n",
    "    else:\n",
    "        pmin = pmin.value_si\n",
    "\n",
    "    reaction_count += 1\n",
    "        \n",
    "    for T in np.arange(tmin, tmax, 1000).tolist():\n",
    "        for P in np.arange(pmin, pmax, 1000000).tolist():\n",
    "        \n",
    "            if not (k.is_temperature_valid(T) and k.is_pressure_valid(P)):\n",
    "                continue\n",
    "            data['label'].append(l)\n",
    "            data['smiles'].append(s)\n",
    "            data['path'].append(p)\n",
    "            data['T'].append(T)\n",
    "            data['P'].append(P)\n",
    "            data['log10rate'].append(np.log10(k.get_rate_coefficient(T, P)))\n",
    "\n",
    "df = pd.DataFrame(data)\n",
    "print(reaction_count, len(df))\n",
    "df.to_csv(\"library_TP_dependent_120k.csv\", index=False)"
   ]
  },
  {
   "cell_type": "code",
   "execution_count": null,
   "id": "14f36db4-78e4-490b-af57-5ceb55604226",
   "metadata": {},
   "outputs": [],
   "source": []
  },
  {
   "cell_type": "code",
   "execution_count": null,
   "id": "c4374c42-917c-4356-89fd-6331220a7fa5",
   "metadata": {},
   "outputs": [],
   "source": []
  }
 ],
 "metadata": {
  "kernelspec": {
   "display_name": "Python 3 (ipykernel)",
   "language": "python",
   "name": "python3"
  },
  "language_info": {
   "codemirror_mode": {
    "name": "ipython",
    "version": 3
   },
   "file_extension": ".py",
   "mimetype": "text/x-python",
   "name": "python",
   "nbconvert_exporter": "python",
   "pygments_lexer": "ipython3",
   "version": "3.7.12"
  }
 },
 "nbformat": 4,
 "nbformat_minor": 5
}
